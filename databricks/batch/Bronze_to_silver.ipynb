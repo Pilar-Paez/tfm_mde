{
 "cells": [
  {
   "cell_type": "code",
   "execution_count": 0,
   "metadata": {
    "application/vnd.databricks.v1+cell": {
     "cellMetadata": {
      "byteLimit": 2048000,
      "rowLimit": 10000
     },
     "inputWidgets": {},
     "nuid": "bf253738-2633-4d73-aa9b-6c07e84124e4",
     "showTitle": false,
     "tableResultSettingsMap": {},
     "title": ""
    }
   },
   "outputs": [
    {
     "output_type": "stream",
     "name": "stdout",
     "output_type": "stream",
     "text": [
      "Processing ./puerta_del_sol_paez-0.1.0-py3-none-any.whl\nInstalling collected packages: puerta-del-sol-paez\n  Attempting uninstall: puerta-del-sol-paez\n    Found existing installation: puerta_del_sol_paez 0.1.0\n    Not uninstalling puerta-del-sol-paez at /local_disk0/.ephemeral_nfs/cluster_libraries/python/lib/python3.11/site-packages, outside environment /local_disk0/.ephemeral_nfs/envs/pythonEnv-ce2dc881-2d92-40c3-b638-9aaa145cb4be\n    Can't uninstall 'puerta_del_sol_paez'. No files were found to uninstall.\nSuccessfully installed puerta-del-sol-paez-0.1.0\n\u001B[43mNote: you may need to restart the kernel using %restart_python or dbutils.library.restartPython() to use updated packages.\u001B[0m\n"
     ]
    }
   ],
   "source": [
    "!pip install --force-reinstall puerta_del_sol_paez-0.1.0-py3-none-any.whl"
   ]
  },
  {
   "cell_type": "code",
   "execution_count": 0,
   "metadata": {
    "application/vnd.databricks.v1+cell": {
     "cellMetadata": {
      "byteLimit": 2048000,
      "rowLimit": 10000
     },
     "inputWidgets": {},
     "nuid": "13f81239-edc1-4330-a4aa-bf5198c6e0c9",
     "showTitle": false,
     "tableResultSettingsMap": {},
     "title": ""
    }
   },
   "outputs": [],
   "source": [
    "dbutils.library.restartPython()"
   ]
  },
  {
   "cell_type": "code",
   "execution_count": 0,
   "metadata": {
    "application/vnd.databricks.v1+cell": {
     "cellMetadata": {
      "byteLimit": 2048000,
      "rowLimit": 10000
     },
     "inputWidgets": {},
     "nuid": "366b0123-60a4-4d19-8283-682d5e1e4bd1",
     "showTitle": false,
     "tableResultSettingsMap": {},
     "title": ""
    }
   },
   "outputs": [],
   "source": [
    "from puerta_del_sol import limpieza, lectura, funciones"
   ]
  },
  {
   "cell_type": "code",
   "execution_count": 0,
   "metadata": {
    "application/vnd.databricks.v1+cell": {
     "cellMetadata": {
      "byteLimit": 2048000,
      "rowLimit": 10000
     },
     "inputWidgets": {},
     "nuid": "8d6c3af8-be75-4eb6-b96e-5fb3d5b0276c",
     "showTitle": false,
     "tableResultSettingsMap": {},
     "title": ""
    }
   },
   "outputs": [],
   "source": [
    "path_bronze = 'abfss://datalake@dls0tfm.dfs.core.windows.net/bronze/'\n",
    "path_silver = 'abfss://datalake@dls0tfm.dfs.core.windows.net/silver/'\n",
    "path_input = 'abfss://datalake@dls0tfm.dfs.core.windows.net/bronze/input/'\n",
    "path_auxiliar = 'abfss://datalake@dls0tfm.dfs.core.windows.net/bronze/auxiliar/'\n",
    "path_tiempo = 'abfss://datalake@dls0tfm.dfs.core.windows.net/bronze/tiempo/'\n",
    "path_festivos = 'abfss://datalake@dls0tfm.dfs.core.windows.net/bronze/festivos/'\n",
    "path_articulos = 'abfss://datalake@dls0tfm.dfs.core.windows.net/bronze/articulos/'\n",
    "path_vinos = 'abfss://datalake@dls0tfm.dfs.core.windows.net/bronze/vinos/'\n",
    "path_grupos = 'abfss://datalake@dls0tfm.dfs.core.windows.net/bronze/grupos/'"
   ]
  },
  {
   "cell_type": "markdown",
   "metadata": {
    "application/vnd.databricks.v1+cell": {
     "cellMetadata": {},
     "inputWidgets": {},
     "nuid": "1acee5b7-82e9-4d74-9a9f-4b95c32ac919",
     "showTitle": false,
     "tableResultSettingsMap": {},
     "title": ""
    }
   },
   "source": [
    "### Tiempo"
   ]
  },
  {
   "cell_type": "code",
   "execution_count": 0,
   "metadata": {
    "application/vnd.databricks.v1+cell": {
     "cellMetadata": {
      "byteLimit": 2048000,
      "rowLimit": 10000
     },
     "inputWidgets": {},
     "nuid": "42fca19d-6dcf-4605-afc0-e4f523a3f2d3",
     "showTitle": false,
     "tableResultSettingsMap": {},
     "title": ""
    }
   },
   "outputs": [
    {
     "output_type": "execute_result",
     "data": {
      "text/plain": [
       "<bound method DataFrame.printSchema of DataFrame[date: timestamp, tavg: double, tmin: double, tmax: double, prcp: double, snow: int, wdir: string, wspd: double, wpgt: double, pres: double, tsun: int]>"
      ]
     },
     "execution_count": 3,
     "metadata": {},
     "output_type": "execute_result"
    }
   ],
   "source": [
    "df_tiempo = lectura.lee_tiempo(spark, path_input, path_tiempo)\n",
    "df_tiempo.printSchema"
   ]
  },
  {
   "cell_type": "code",
   "execution_count": 0,
   "metadata": {
    "application/vnd.databricks.v1+cell": {
     "cellMetadata": {
      "byteLimit": 2048000,
      "rowLimit": 10000
     },
     "inputWidgets": {},
     "nuid": "e902c9c6-52a2-4548-8d80-bbfe595417fb",
     "showTitle": false,
     "tableResultSettingsMap": {},
     "title": ""
    }
   },
   "outputs": [
    {
     "output_type": "display_data",
     "data": {
      "text/html": [
       "<style scoped>\n",
       "  .table-result-container {\n",
       "    max-height: 300px;\n",
       "    overflow: auto;\n",
       "  }\n",
       "  table, th, td {\n",
       "    border: 1px solid black;\n",
       "    border-collapse: collapse;\n",
       "  }\n",
       "  th, td {\n",
       "    padding: 5px;\n",
       "  }\n",
       "  th {\n",
       "    text-align: left;\n",
       "  }\n",
       "</style><div class='table-result-container'><table class='table-result'><thead style='background-color: white'><tr><th>date</th><th>tavg</th><th>tmin</th><th>tmax</th><th>prcp</th><th>snow</th><th>wspd</th><th>wpgt</th><th>pres</th><th>tsun</th><th>processing_date</th></tr></thead><tbody><tr><td>2020-01-01</td><td>3.6</td><td>1.5</td><td>6.5</td><td>0.0</td><td>0</td><td>11.1</td><td>29.6</td><td>1035.1</td><td>338.0</td><td>2025-09-04</td></tr><tr><td>2020-01-02</td><td>-0.6</td><td>-3.1</td><td>3.6</td><td>0.0</td><td>0</td><td>4.9</td><td>14.8</td><td>1032.3</td><td>452.0</td><td>2025-09-04</td></tr><tr><td>2020-01-03</td><td>-2.2</td><td>-3.4</td><td>-0.3</td><td>0.0</td><td>0</td><td>5.9</td><td>16.7</td><td>1027.9</td><td>0.0</td><td>2025-09-04</td></tr><tr><td>2020-01-04</td><td>5.8</td><td>-2.2</td><td>8.3</td><td>3.2</td><td>0</td><td>22.7</td><td>72.2</td><td>1023.6</td><td>5.0</td><td>2025-09-04</td></tr><tr><td>2020-01-05</td><td>2.8</td><td>2.1</td><td>4.9</td><td>0.0</td><td>0</td><td>20.8</td><td>61.1</td><td>1032.1</td><td>455.0</td><td>2025-09-04</td></tr><tr><td>2020-01-06</td><td>0.5</td><td>-3.0</td><td>4.4</td><td>0.0</td><td>0</td><td>6.8</td><td>22.2</td><td>1033.0</td><td>385.0</td><td>2025-09-04</td></tr><tr><td>2020-01-07</td><td>0.2</td><td>-4.7</td><td>4.3</td><td>0.0</td><td>0</td><td>6.3</td><td>24.1</td><td>1029.1</td><td>267.0</td><td>2025-09-04</td></tr><tr><td>2020-01-08</td><td>4.3</td><td>1.0</td><td>8.6</td><td>0.3</td><td>0</td><td>6.1</td><td>18.5</td><td>1031.1</td><td>449.0</td><td>2025-09-04</td></tr><tr><td>2020-01-09</td><td>2.4</td><td>1.9</td><td>3.6</td><td>0.0</td><td>0</td><td>7.3</td><td>18.5</td><td>1025.8</td><td>0.0</td><td>2025-09-04</td></tr><tr><td>2020-01-10</td><td>0.2</td><td>-0.5</td><td>2.1</td><td>0.1</td><td>0</td><td>6.8</td><td>18.5</td><td>1023.1</td><td>47.0</td><td>2025-09-04</td></tr></tbody></table></div>"
      ]
     },
     "metadata": {
      "application/vnd.databricks.v1+output": {
       "addedWidgets": {},
       "aggData": [],
       "aggError": "",
       "aggOverflow": false,
       "aggSchema": [],
       "aggSeriesLimitReached": false,
       "aggType": "",
       "arguments": {},
       "columnCustomDisplayInfos": {},
       "data": [
        [
         "2020-01-01",
         3.6,
         1.5,
         6.5,
         0.0,
         0,
         11.1,
         29.6,
         1035.1,
         338.0,
         "2025-09-04"
        ],
        [
         "2020-01-02",
         -0.6,
         -3.1,
         3.6,
         0.0,
         0,
         4.9,
         14.8,
         1032.3,
         452.0,
         "2025-09-04"
        ],
        [
         "2020-01-03",
         -2.2,
         -3.4,
         -0.3,
         0.0,
         0,
         5.9,
         16.7,
         1027.9,
         0.0,
         "2025-09-04"
        ],
        [
         "2020-01-04",
         5.8,
         -2.2,
         8.3,
         3.2,
         0,
         22.7,
         72.2,
         1023.6,
         5.0,
         "2025-09-04"
        ],
        [
         "2020-01-05",
         2.8,
         2.1,
         4.9,
         0.0,
         0,
         20.8,
         61.1,
         1032.1,
         455.0,
         "2025-09-04"
        ],
        [
         "2020-01-06",
         0.5,
         -3.0,
         4.4,
         0.0,
         0,
         6.8,
         22.2,
         1033.0,
         385.0,
         "2025-09-04"
        ],
        [
         "2020-01-07",
         0.2,
         -4.7,
         4.3,
         0.0,
         0,
         6.3,
         24.1,
         1029.1,
         267.0,
         "2025-09-04"
        ],
        [
         "2020-01-08",
         4.3,
         1.0,
         8.6,
         0.3,
         0,
         6.1,
         18.5,
         1031.1,
         449.0,
         "2025-09-04"
        ],
        [
         "2020-01-09",
         2.4,
         1.9,
         3.6,
         0.0,
         0,
         7.3,
         18.5,
         1025.8,
         0.0,
         "2025-09-04"
        ],
        [
         "2020-01-10",
         0.2,
         -0.5,
         2.1,
         0.1,
         0,
         6.8,
         18.5,
         1023.1,
         47.0,
         "2025-09-04"
        ]
       ],
       "datasetInfos": [],
       "dbfsResultPath": null,
       "isJsonSchema": true,
       "metadata": {},
       "overflow": false,
       "plotOptions": {
        "customPlotOptions": {},
        "displayType": "table",
        "pivotAggregation": null,
        "pivotColumns": null,
        "xColumns": null,
        "yColumns": null
       },
       "removedWidgets": [],
       "schema": [
        {
         "metadata": "{}",
         "name": "date",
         "type": "\"date\""
        },
        {
         "metadata": "{}",
         "name": "tavg",
         "type": "\"double\""
        },
        {
         "metadata": "{}",
         "name": "tmin",
         "type": "\"double\""
        },
        {
         "metadata": "{}",
         "name": "tmax",
         "type": "\"double\""
        },
        {
         "metadata": "{}",
         "name": "prcp",
         "type": "\"double\""
        },
        {
         "metadata": "{}",
         "name": "snow",
         "type": "\"integer\""
        },
        {
         "metadata": "{}",
         "name": "wspd",
         "type": "\"double\""
        },
        {
         "metadata": "{}",
         "name": "wpgt",
         "type": "\"double\""
        },
        {
         "metadata": "{}",
         "name": "pres",
         "type": "\"double\""
        },
        {
         "metadata": "{}",
         "name": "tsun",
         "type": "\"double\""
        },
        {
         "metadata": "{}",
         "name": "processing_date",
         "type": "\"date\""
        }
       ],
       "type": "table"
      }
     },
     "output_type": "display_data"
    }
   ],
   "source": [
    "df_tiempo = limpieza.limpia_tiempo(df_tiempo)\n",
    "df_tiempo.printSchema  # PONER CACHE() POR AHÍ\n",
    "df_tiempo.limit(10).display()"
   ]
  },
  {
   "cell_type": "code",
   "execution_count": 0,
   "metadata": {
    "application/vnd.databricks.v1+cell": {
     "cellMetadata": {
      "byteLimit": 2048000,
      "rowLimit": 10000
     },
     "inputWidgets": {},
     "nuid": "d104841e-8f43-4541-bc3b-82641d2be5ea",
     "showTitle": false,
     "tableResultSettingsMap": {},
     "title": ""
    }
   },
   "outputs": [],
   "source": [
    "df_tiempo.write.format('delta').mode('overwrite').option('overwriteSchema', 'true').partitionBy('processing_date').save(f'{path_silver}tiempo')"
   ]
  },
  {
   "cell_type": "code",
   "execution_count": 0,
   "metadata": {
    "application/vnd.databricks.v1+cell": {
     "cellMetadata": {
      "byteLimit": 2048000,
      "rowLimit": 10000
     },
     "inputWidgets": {},
     "nuid": "e3dab191-22f5-4353-93e3-504f65f6d045",
     "showTitle": false,
     "tableResultSettingsMap": {},
     "title": ""
    }
   },
   "outputs": [
    {
     "output_type": "execute_result",
     "data": {
      "text/plain": [
       "DataFrame[]"
      ]
     },
     "execution_count": 18,
     "metadata": {},
     "output_type": "execute_result"
    }
   ],
   "source": [
    "query_schema = \"CREATE SCHEMA IF NOT EXISTS silver\"\n",
    "spark.sql(query_schema)"
   ]
  },
  {
   "cell_type": "code",
   "execution_count": 0,
   "metadata": {
    "application/vnd.databricks.v1+cell": {
     "cellMetadata": {
      "byteLimit": 2048000,
      "rowLimit": 10000
     },
     "inputWidgets": {},
     "nuid": "08f7574c-25f4-44a4-8b52-cf3af6d76602",
     "showTitle": false,
     "tableResultSettingsMap": {},
     "title": ""
    }
   },
   "outputs": [
    {
     "output_type": "execute_result",
     "data": {
      "text/plain": [
       "DataFrame[]"
      ]
     },
     "execution_count": 3,
     "metadata": {},
     "output_type": "execute_result"
    }
   ],
   "source": [
    "query_table_tiempo = f\"\"\"\n",
    "CREATE TABLE IF NOT EXISTS silver.tiempo\n",
    "USING DELTA\n",
    "LOCATION '{path_silver}tiempo' \"\"\"\n",
    "spark.sql(query_table_tiempo)"
   ]
  },
  {
   "cell_type": "markdown",
   "metadata": {
    "application/vnd.databricks.v1+cell": {
     "cellMetadata": {},
     "inputWidgets": {},
     "nuid": "e5d05bd6-a89b-4bf6-94dd-99a32cf61f60",
     "showTitle": false,
     "tableResultSettingsMap": {},
     "title": ""
    }
   },
   "source": [
    "### Fechas"
   ]
  },
  {
   "cell_type": "code",
   "execution_count": 0,
   "metadata": {
    "application/vnd.databricks.v1+cell": {
     "cellMetadata": {
      "byteLimit": 2048000,
      "rowLimit": 10000
     },
     "inputWidgets": {},
     "nuid": "46e1562f-eb4e-4dcc-98df-672b03344e1a",
     "showTitle": false,
     "tableResultSettingsMap": {},
     "title": ""
    }
   },
   "outputs": [
    {
     "output_type": "execute_result",
     "data": {
      "text/plain": [
       "<bound method DataFrame.printSchema of DataFrame[dia: string, tipo: string]>"
      ]
     },
     "execution_count": 3,
     "metadata": {},
     "output_type": "execute_result"
    }
   ],
   "source": [
    "df_festivos = lectura.lee_festivos(spark, path_bronze)\n",
    "df_festivos.printSchema"
   ]
  },
  {
   "cell_type": "code",
   "execution_count": 0,
   "metadata": {
    "application/vnd.databricks.v1+cell": {
     "cellMetadata": {
      "byteLimit": 2048000,
      "rowLimit": 10000
     },
     "inputWidgets": {},
     "nuid": "e7bdadd9-1b13-4360-b77e-e41cd5ccc992",
     "showTitle": false,
     "tableResultSettingsMap": {},
     "title": ""
    }
   },
   "outputs": [
    {
     "output_type": "execute_result",
     "data": {
      "text/plain": [
       "<bound method DataFrame.printSchema of DataFrame[fecha: date, tipo: string]>"
      ]
     },
     "execution_count": 4,
     "metadata": {},
     "output_type": "execute_result"
    }
   ],
   "source": [
    "df_festivos = limpieza.limpia_festivos(df_festivos)\n",
    "df_festivos.printSchema"
   ]
  },
  {
   "cell_type": "code",
   "execution_count": 0,
   "metadata": {
    "application/vnd.databricks.v1+cell": {
     "cellMetadata": {
      "byteLimit": 2048000,
      "rowLimit": 10000
     },
     "inputWidgets": {},
     "nuid": "25fa39e6-aa88-486e-982b-9faa4d302271",
     "showTitle": false,
     "tableResultSettingsMap": {},
     "title": ""
    }
   },
   "outputs": [],
   "source": [
    "fecha_inicio = '2020-01-01'\n",
    "fecha_fin = '2025-12-31'\n",
    "df_fechas = funciones.anade_dias(spark, df_festivos, fecha_inicio, fecha_fin)\n"
   ]
  },
  {
   "cell_type": "code",
   "execution_count": 0,
   "metadata": {
    "application/vnd.databricks.v1+cell": {
     "cellMetadata": {
      "byteLimit": 2048000,
      "rowLimit": 10000
     },
     "inputWidgets": {},
     "nuid": "490169b4-16e3-4ab1-a23d-2062ba0449a4",
     "showTitle": false,
     "tableResultSettingsMap": {},
     "title": ""
    }
   },
   "outputs": [
    {
     "output_type": "execute_result",
     "data": {
      "text/plain": [
       "<bound method DataFrame.printSchema of DataFrame[fecha: date, dia_semana: int, mes: int, ano: int, tipo: string, processing_date: date]>"
      ]
     },
     "execution_count": 6,
     "metadata": {},
     "output_type": "execute_result"
    }
   ],
   "source": [
    "df_fechas.printSchema"
   ]
  },
  {
   "cell_type": "code",
   "execution_count": 0,
   "metadata": {
    "application/vnd.databricks.v1+cell": {
     "cellMetadata": {
      "byteLimit": 2048000,
      "rowLimit": 10000
     },
     "inputWidgets": {},
     "nuid": "94234f8a-09ff-4bad-accc-26c6c7abdf15",
     "showTitle": false,
     "tableResultSettingsMap": {},
     "title": ""
    }
   },
   "outputs": [],
   "source": [
    "df_fechas.write.format('delta').mode('overwrite').option('overwriteSchema', 'true').partitionBy('processing_date').save(f'{path_silver}fechas')"
   ]
  },
  {
   "cell_type": "code",
   "execution_count": 0,
   "metadata": {
    "application/vnd.databricks.v1+cell": {
     "cellMetadata": {
      "byteLimit": 2048000,
      "rowLimit": 10000
     },
     "inputWidgets": {},
     "nuid": "0f8c45cb-02a2-4000-b1d4-2ac5e5abf1f0",
     "showTitle": false,
     "tableResultSettingsMap": {},
     "title": ""
    }
   },
   "outputs": [
    {
     "output_type": "execute_result",
     "data": {
      "text/plain": [
       "DataFrame[]"
      ]
     },
     "execution_count": 8,
     "metadata": {},
     "output_type": "execute_result"
    }
   ],
   "source": [
    "query_table_fechas = f\"\"\"\n",
    "CREATE TABLE IF NOT EXISTS silver.fechas\n",
    "USING DELTA\n",
    "LOCATION '{path_silver}fechas'\"\"\"\n",
    "spark.sql(query_table_fechas)"
   ]
  },
  {
   "cell_type": "markdown",
   "metadata": {
    "application/vnd.databricks.v1+cell": {
     "cellMetadata": {},
     "inputWidgets": {},
     "nuid": "05f2b1f7-d435-4433-b63e-4ade1fbda9e7",
     "showTitle": false,
     "tableResultSettingsMap": {},
     "title": ""
    }
   },
   "source": [
    "### Artículos"
   ]
  },
  {
   "cell_type": "code",
   "execution_count": 0,
   "metadata": {
    "application/vnd.databricks.v1+cell": {
     "cellMetadata": {
      "byteLimit": 2048000,
      "rowLimit": 10000
     },
     "inputWidgets": {},
     "nuid": "9dc282bc-cbce-45aa-bd5e-c81329800a6f",
     "showTitle": false,
     "tableResultSettingsMap": {},
     "title": ""
    }
   },
   "outputs": [
    {
     "output_type": "execute_result",
     "data": {
      "text/plain": [
       "<bound method DataFrame.printSchema of DataFrame[*nummer: int, bezeichnung1: string, bezeichnung2: string, bezeichnung3: string, ncode: string, ean: int, preis1: double, preis2: double, preis3: double, preis4: double, preis5: double, preis6: double, preis1frei: string, preis2frei: string, preis3frei: string, preis4frei: string, preis5frei: string, preis6frei: string, wgr: int, gang: int, gruppe: int, drucker1: string, drucker2: string, drucker3: string, drucker4: string, drucker5: string, drucker6: string, drucker7: string, drucker8: string, drucker9: string, drucker10: string, wgrdruck: string, druckfett: string, nachricht: string, beilage: string, kopies: int, Expedit: int, Erloeskonto: int]>"
      ]
     },
     "execution_count": 4,
     "metadata": {},
     "output_type": "execute_result"
    }
   ],
   "source": [
    "df_art = lectura.lee_articulos(spark, path_input)\n",
    "df_art.printSchema"
   ]
  },
  {
   "cell_type": "code",
   "execution_count": 0,
   "metadata": {
    "application/vnd.databricks.v1+cell": {
     "cellMetadata": {
      "byteLimit": 2048000,
      "rowLimit": 10000
     },
     "inputWidgets": {},
     "nuid": "3c9e8199-0b00-405d-92fe-416e308e42a5",
     "showTitle": false,
     "tableResultSettingsMap": {},
     "title": ""
    }
   },
   "outputs": [
    {
     "output_type": "execute_result",
     "data": {
      "text/plain": [
       "<bound method DataFrame.printSchema of DataFrame[id: string, name: string, preis1: double, preis2: double, preis3: double, ean: int, wgr: int, processing_date: date]>"
      ]
     },
     "execution_count": 5,
     "metadata": {},
     "output_type": "execute_result"
    }
   ],
   "source": [
    "df_art = limpieza.limpia_articulos(df_art)\n",
    "df_art.printSchema"
   ]
  },
  {
   "cell_type": "code",
   "execution_count": 0,
   "metadata": {
    "application/vnd.databricks.v1+cell": {
     "cellMetadata": {
      "byteLimit": 2048000,
      "rowLimit": 10000
     },
     "inputWidgets": {},
     "nuid": "4885288e-a9ea-4ce9-b909-baf561a6b309",
     "showTitle": false,
     "tableResultSettingsMap": {},
     "title": ""
    }
   },
   "outputs": [],
   "source": [
    "df_art.write.format('delta').mode('overwrite').option('overwriteSchema', 'true').partitionBy('processing_date').save(f'{path_silver}articulos')"
   ]
  },
  {
   "cell_type": "code",
   "execution_count": 0,
   "metadata": {
    "application/vnd.databricks.v1+cell": {
     "cellMetadata": {
      "byteLimit": 2048000,
      "rowLimit": 10000
     },
     "inputWidgets": {},
     "nuid": "7b98ef4a-dafc-4ff0-bc1e-8f8ce4d38e38",
     "showTitle": false,
     "tableResultSettingsMap": {},
     "title": ""
    }
   },
   "outputs": [
    {
     "output_type": "execute_result",
     "data": {
      "text/plain": [
       "DataFrame[]"
      ]
     },
     "execution_count": 6,
     "metadata": {},
     "output_type": "execute_result"
    }
   ],
   "source": [
    "query_table_articulos = f\"\"\"\n",
    "CREATE TABLE IF NOT EXISTS silver.articulos\n",
    "USING DELTA\n",
    "LOCATION '{path_silver}articulos' \"\"\"\n",
    "spark.sql(query_table_articulos)"
   ]
  },
  {
   "cell_type": "markdown",
   "metadata": {
    "application/vnd.databricks.v1+cell": {
     "cellMetadata": {},
     "inputWidgets": {},
     "nuid": "68f1ccb2-9e1b-454c-987f-2c3712a20f0d",
     "showTitle": false,
     "tableResultSettingsMap": {},
     "title": ""
    }
   },
   "source": [
    "### Vinos"
   ]
  },
  {
   "cell_type": "code",
   "execution_count": 0,
   "metadata": {
    "application/vnd.databricks.v1+cell": {
     "cellMetadata": {
      "byteLimit": 2048000,
      "rowLimit": 10000
     },
     "inputWidgets": {},
     "nuid": "4bf97136-163d-413f-9f7a-ba00f6fc9be1",
     "showTitle": false,
     "tableResultSettingsMap": {},
     "title": ""
    }
   },
   "outputs": [
    {
     "output_type": "execute_result",
     "data": {
      "text/plain": [
       "<bound method DataFrame.printSchema of DataFrame[Nombre: string, Tipo: string, Region: string, Uva: string, Seco (trocken): double, Medio: double, Afrutado (fruechtig): double, Lleno (voll): double, Dulce (suess): double, Aromatico (wuerzig): double, Fuerte (kraeftig): double, Medio aromatico medio fuerte: double]>"
      ]
     },
     "execution_count": 8,
     "metadata": {},
     "output_type": "execute_result"
    }
   ],
   "source": [
    "df_vinos = lectura.lee_vinos(spark, path_auxiliar)\n",
    "df_vinos.printSchema"
   ]
  },
  {
   "cell_type": "code",
   "execution_count": 0,
   "metadata": {
    "application/vnd.databricks.v1+cell": {
     "cellMetadata": {
      "byteLimit": 2048000,
      "rowLimit": 10000
     },
     "inputWidgets": {},
     "nuid": "41189011-2e87-4d4d-a514-86c241d4473e",
     "showTitle": false,
     "tableResultSettingsMap": {},
     "title": ""
    }
   },
   "outputs": [
    {
     "output_type": "execute_result",
     "data": {
      "text/plain": [
       "<bound method DataFrame.printSchema of DataFrame[Nombre: string, Tipo: string, Region: string, Uva: array<string>, Seco_trocken: int, Medio: int, Afrutado_fruechtig: int, Lleno_voll: int, Dulce_suess: int, Aromatico_wuerzig: int, Fuerte_kraeftig: int, Medio_aromatico_medio_fuerte: int, id_botella: string, id_vaso: string, processing_date: date]>"
      ]
     },
     "execution_count": 9,
     "metadata": {},
     "output_type": "execute_result"
    }
   ],
   "source": [
    "df_vinos = limpieza.limpia_vinos(df_vinos, df_art)\n",
    "df_vinos.printSchema"
   ]
  },
  {
   "cell_type": "code",
   "execution_count": 0,
   "metadata": {
    "application/vnd.databricks.v1+cell": {
     "cellMetadata": {
      "byteLimit": 2048000,
      "rowLimit": 10000
     },
     "inputWidgets": {},
     "nuid": "9d4ceb8f-67a3-4a0d-b982-0bd8a8964d40",
     "showTitle": false,
     "tableResultSettingsMap": {},
     "title": ""
    }
   },
   "outputs": [],
   "source": [
    "df_vinos.write.format('delta').mode('overwrite').option('overwriteSchema', 'true').partitionBy('processing_date').save(f'{path_silver}vinos')"
   ]
  },
  {
   "cell_type": "code",
   "execution_count": 0,
   "metadata": {
    "application/vnd.databricks.v1+cell": {
     "cellMetadata": {
      "byteLimit": 2048000,
      "rowLimit": 10000
     },
     "inputWidgets": {},
     "nuid": "235d1643-c99a-4f76-ba61-fc1481dc3760",
     "showTitle": false,
     "tableResultSettingsMap": {},
     "title": ""
    }
   },
   "outputs": [
    {
     "output_type": "execute_result",
     "data": {
      "text/plain": [
       "DataFrame[]"
      ]
     },
     "execution_count": 7,
     "metadata": {},
     "output_type": "execute_result"
    }
   ],
   "source": [
    "query_table_vinos = f\"\"\"\n",
    "CREATE TABLE IF NOT EXISTS silver.vinos\n",
    "USING DELTA\n",
    "LOCATION '{path_silver}vinos' \"\"\"\n",
    "spark.sql(query_table_vinos)"
   ]
  },
  {
   "cell_type": "markdown",
   "metadata": {
    "application/vnd.databricks.v1+cell": {
     "cellMetadata": {},
     "inputWidgets": {},
     "nuid": "01b717a9-681f-4ab6-a2cf-e01929c8486d",
     "showTitle": false,
     "tableResultSettingsMap": {},
     "title": ""
    }
   },
   "source": [
    "### Grupos"
   ]
  },
  {
   "cell_type": "code",
   "execution_count": 0,
   "metadata": {
    "application/vnd.databricks.v1+cell": {
     "cellMetadata": {
      "byteLimit": 2048000,
      "rowLimit": 10000
     },
     "inputWidgets": {},
     "nuid": "caf30bb1-e2d1-4897-a84b-c7686bdf9dc8",
     "showTitle": false,
     "tableResultSettingsMap": {},
     "title": ""
    }
   },
   "outputs": [
    {
     "output_type": "execute_result",
     "data": {
      "text/plain": [
       "<bound method DataFrame.printSchema of DataFrame[*nummer: int, bezeichnung1: string, bezeichnung2: string, mwst: int, hgr: int]>"
      ]
     },
     "execution_count": 12,
     "metadata": {},
     "output_type": "execute_result"
    }
   ],
   "source": [
    "df_grupos = lectura.lee_grupos(spark, path_input)\n",
    "df_grupos.printSchema"
   ]
  },
  {
   "cell_type": "code",
   "execution_count": 0,
   "metadata": {
    "application/vnd.databricks.v1+cell": {
     "cellMetadata": {
      "byteLimit": 2048000,
      "rowLimit": 10000
     },
     "inputWidgets": {},
     "nuid": "fd016a35-b60b-4063-ac3a-4c0a86cd6d84",
     "showTitle": false,
     "tableResultSettingsMap": {},
     "title": ""
    }
   },
   "outputs": [],
   "source": [
    "df_grupos = limpieza.limpia_grupos(df_grupos)\n",
    "df_grupos.printSchema\n",
    "df_grupos.write.format('delta').mode('overwrite').option('overwriteSchema', 'true').partitionBy('processing_date').save(f'{path_silver}grupos')"
   ]
  },
  {
   "cell_type": "code",
   "execution_count": 0,
   "metadata": {
    "application/vnd.databricks.v1+cell": {
     "cellMetadata": {
      "byteLimit": 2048000,
      "rowLimit": 10000
     },
     "inputWidgets": {},
     "nuid": "e1b10446-6337-40e8-aa9a-1d921bd7c1a7",
     "showTitle": false,
     "tableResultSettingsMap": {},
     "title": ""
    }
   },
   "outputs": [
    {
     "output_type": "execute_result",
     "data": {
      "text/plain": [
       "DataFrame[]"
      ]
     },
     "execution_count": 8,
     "metadata": {},
     "output_type": "execute_result"
    }
   ],
   "source": [
    "query_table_grupos = f\"\"\"\n",
    "CREATE TABLE IF NOT EXISTS silver.grupos\n",
    "USING DELTA\n",
    "LOCATION '{path_silver}grupos' \"\"\"\n",
    "spark.sql(query_table_grupos)"
   ]
  },
  {
   "cell_type": "markdown",
   "metadata": {
    "application/vnd.databricks.v1+cell": {
     "cellMetadata": {},
     "inputWidgets": {},
     "nuid": "3e17037c-5ef4-42dc-b4bc-ff2f53bff2fa",
     "showTitle": false,
     "tableResultSettingsMap": {},
     "title": ""
    }
   },
   "source": [
    "### Ventas"
   ]
  },
  {
   "cell_type": "code",
   "execution_count": 0,
   "metadata": {
    "application/vnd.databricks.v1+cell": {
     "cellMetadata": {
      "byteLimit": 2048000,
      "rowLimit": 10000
     },
     "inputWidgets": {},
     "nuid": "1a67a9e6-6b28-47a0-b4af-b3d1d0d93ea1",
     "showTitle": false,
     "tableResultSettingsMap": {},
     "title": ""
    }
   },
   "outputs": [
    {
     "output_type": "execute_result",
     "data": {
      "text/plain": [
       "<bound method DataFrame.printSchema of DataFrame[Nummer:: string, Bezeichnung:: string, Umsatz:: string, Anteil%: string, Menge:: string, date: timestamp]>"
      ]
     },
     "execution_count": 3,
     "metadata": {},
     "output_type": "execute_result"
    }
   ],
   "source": [
    "df_ventas = lectura.lee_ventas(spark, path_auxiliar)\n",
    "df_ventas.printSchema"
   ]
  },
  {
   "cell_type": "code",
   "execution_count": 0,
   "metadata": {
    "application/vnd.databricks.v1+cell": {
     "cellMetadata": {
      "byteLimit": 2048000,
      "rowLimit": 10000
     },
     "inputWidgets": {},
     "nuid": "79d366f0-d20d-4939-a77a-856ff73bf602",
     "showTitle": false,
     "tableResultSettingsMap": {},
     "title": ""
    }
   },
   "outputs": [],
   "source": [
    "df_art = spark.read.format('delta').load(f'{path_silver}articulos')"
   ]
  },
  {
   "cell_type": "code",
   "execution_count": 0,
   "metadata": {
    "application/vnd.databricks.v1+cell": {
     "cellMetadata": {
      "byteLimit": 2048000,
      "rowLimit": 10000
     },
     "inputWidgets": {},
     "nuid": "413fdc49-1d11-4251-b012-679a1aca3cc1",
     "showTitle": false,
     "tableResultSettingsMap": {},
     "title": ""
    }
   },
   "outputs": [
    {
     "output_type": "execute_result",
     "data": {
      "text/plain": [
       "<bound method DataFrame.printSchema of DataFrame[new_id: string, name: string, total_price: double, quantity: int, unity_price: double, date: date, processing_date: date]>"
      ]
     },
     "execution_count": 6,
     "metadata": {},
     "output_type": "execute_result"
    }
   ],
   "source": [
    "df_ventas = limpieza.limpia_ventas(df_ventas,df_art)\n",
    "df_ventas.printSchema"
   ]
  },
  {
   "cell_type": "code",
   "execution_count": 0,
   "metadata": {
    "application/vnd.databricks.v1+cell": {
     "cellMetadata": {
      "byteLimit": 2048000,
      "rowLimit": 10000
     },
     "inputWidgets": {},
     "nuid": "0069cab6-6cdf-4622-b9b1-d51cfae6ab4d",
     "showTitle": false,
     "tableResultSettingsMap": {},
     "title": ""
    }
   },
   "outputs": [],
   "source": [
    "df_ventas.write.format('delta').mode('overwrite').option('overwriteSchema', 'true').partitionBy('processing_date').save(f'{path_silver}ventas')"
   ]
  },
  {
   "cell_type": "code",
   "execution_count": 0,
   "metadata": {
    "application/vnd.databricks.v1+cell": {
     "cellMetadata": {
      "byteLimit": 2048000,
      "rowLimit": 10000
     },
     "inputWidgets": {},
     "nuid": "e736455c-38ad-4d5c-9c39-8ac680681bca",
     "showTitle": false,
     "tableResultSettingsMap": {},
     "title": ""
    }
   },
   "outputs": [
    {
     "output_type": "execute_result",
     "data": {
      "text/plain": [
       "DataFrame[]"
      ]
     },
     "execution_count": 8,
     "metadata": {},
     "output_type": "execute_result"
    }
   ],
   "source": [
    "query_table_ventas = f\"\"\"\n",
    "CREATE TABLE IF NOT EXISTS silver.ventas\n",
    "USING DELTA\n",
    "LOCATION '{path_silver}ventas' \"\"\"\n",
    "spark.sql(query_table_ventas)"
   ]
  }
 ],
 "metadata": {
  "application/vnd.databricks.v1+notebook": {
   "computePreferences": null,
   "dashboards": [],
   "environmentMetadata": {
    "base_environment": "",
    "environment_version": "3"
   },
   "inputWidgetPreferences": null,
   "language": "python",
   "notebookMetadata": {
    "pythonIndentUnit": 4
   },
   "notebookName": "Bronze_to_silver",
   "widgets": {}
  },
  "language_info": {
   "name": "python"
  }
 },
 "nbformat": 4,
 "nbformat_minor": 0
}