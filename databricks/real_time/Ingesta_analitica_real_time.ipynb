{
 "cells": [
  {
   "cell_type": "markdown",
   "metadata": {
    "application/vnd.databricks.v1+cell": {
     "cellMetadata": {},
     "inputWidgets": {},
     "nuid": "92f8858f-3d64-4ec1-9d71-878db3a17434",
     "showTitle": false,
     "tableResultSettingsMap": {},
     "title": ""
    }
   },
   "source": [
    "### Ingesta en tiempo real"
   ]
  },
  {
   "cell_type": "code",
   "execution_count": 0,
   "metadata": {
    "application/vnd.databricks.v1+cell": {
     "cellMetadata": {
      "byteLimit": 2048000,
      "rowLimit": 10000
     },
     "inputWidgets": {},
     "nuid": "3caa0506-29f0-4aef-9f82-5f9183ec6bda",
     "showTitle": false,
     "tableResultSettingsMap": {},
     "title": ""
    }
   },
   "outputs": [],
   "source": [
    "import pyspark.sql.functions as F\n",
    "from pyspark.sql.types import ArrayType, StringType"
   ]
  },
  {
   "cell_type": "code",
   "execution_count": 0,
   "metadata": {
    "application/vnd.databricks.v1+cell": {
     "cellMetadata": {
      "byteLimit": 2048000,
      "rowLimit": 10000
     },
     "inputWidgets": {},
     "nuid": "b5f953aa-88df-4401-916c-3cb3432c87c0",
     "showTitle": false,
     "tableResultSettingsMap": {},
     "title": ""
    }
   },
   "outputs": [],
   "source": [
    "datalake_container = \"abfss://datalake@dls0tfm.dfs.core.windows.net\"\n",
    "bronze_path = f\"{datalake_container}/bronze\"\n",
    "path_silver = 'abfss://datalake@dls0tfm.dfs.core.windows.net/silver/'\n"
   ]
  },
  {
   "cell_type": "code",
   "execution_count": 0,
   "metadata": {
    "application/vnd.databricks.v1+cell": {
     "cellMetadata": {
      "byteLimit": 2048000,
      "rowLimit": 10000
     },
     "inputWidgets": {},
     "nuid": "811eb539-22cd-4f3b-88dd-26b8150feff2",
     "showTitle": false,
     "tableResultSettingsMap": {},
     "title": ""
    }
   },
   "outputs": [],
   "source": [
    "datasource = \"puerta\"\n",
    "topic = \"pedidos\"\n",
    "dataset = topic\n",
    "dataset_bronze_path = f\"{bronze_path}/{datasource}/{dataset}\"\n",
    "dataset_bronze_checkpoint_path = f\"{bronze_path}/{datasource}/{dataset}_checkpoint\""
   ]
  },
  {
   "cell_type": "code",
   "execution_count": 0,
   "metadata": {
    "application/vnd.databricks.v1+cell": {
     "cellMetadata": {
      "byteLimit": 2048000,
      "rowLimit": 10000
     },
     "inputWidgets": {},
     "nuid": "9855199f-0f2f-40e2-a2e2-40c86731b155",
     "showTitle": false,
     "tableResultSettingsMap": {},
     "title": ""
    }
   },
   "outputs": [],
   "source": [
    "def read_config():\n",
    "  config = {}\n",
    "  with open(\"/dbfs/FileStore/confluent_client_properties\") as fh:\n",
    "    for line in fh:\n",
    "      line = line.strip()\n",
    "      if len(line) != 0 and line[0] != \"#\":\n",
    "        parameter, value = line.strip().split('=', 1)\n",
    "        config[parameter] = value.strip()\n",
    "  return config\n",
    "\n",
    "conf = read_config()"
   ]
  },
  {
   "cell_type": "code",
   "execution_count": 0,
   "metadata": {
    "application/vnd.databricks.v1+cell": {
     "cellMetadata": {
      "byteLimit": 2048000,
      "rowLimit": 10000
     },
     "inputWidgets": {},
     "nuid": "a896a8ba-8a63-4072-87ea-2d7e1b110025",
     "showTitle": false,
     "tableResultSettingsMap": {},
     "title": ""
    }
   },
   "outputs": [],
   "source": [
    "kafka_options = {\n",
    "      \"kafka.bootstrap.servers\": conf[\"bootstrap.servers\"],\n",
    "      \"kafka.security.protocol\": conf[\"security.protocol\"],\n",
    "      \"kafka.sasl.mechanism\":   conf[\"sasl.mechanism\"],\n",
    "      \"kafka.sasl.jaas.config\":\n",
    "              f\"\"\"kafkashaded.org.apache.kafka.common.security.plain.PlainLoginModule required username=\"{conf.get('sasl.username')}\" password=\"{conf.get('sasl.password')}\"; \"\"\",\n",
    "      \"subscribe\":topic,\n",
    "      \"includeHeaders\" : \"true\",\n",
    "      \"startingOffsets\": \"earliest\"\n",
    "}"
   ]
  },
  {
   "cell_type": "code",
   "execution_count": 0,
   "metadata": {
    "application/vnd.databricks.v1+cell": {
     "cellMetadata": {
      "byteLimit": 2048000,
      "rowLimit": 10000
     },
     "inputWidgets": {},
     "nuid": "cc126e9a-5684-4e22-a8a5-6de297874daf",
     "showTitle": false,
     "tableResultSettingsMap": {},
     "title": ""
    }
   },
   "outputs": [
    {
     "output_type": "display_data",
     "data": {
      "text/html": [
       "<style scoped>\n",
       "  .table-result-container {\n",
       "    max-height: 300px;\n",
       "    overflow: auto;\n",
       "  }\n",
       "  table, th, td {\n",
       "    border: 1px solid black;\n",
       "    border-collapse: collapse;\n",
       "  }\n",
       "  th, td {\n",
       "    padding: 5px;\n",
       "  }\n",
       "  th {\n",
       "    text-align: left;\n",
       "  }\n",
       "</style><div class='table-result-container'><table class='table-result'><thead style='background-color: white'><tr><th>key</th><th>value</th><th>topic</th><th>partition</th><th>offset</th><th>timestamp</th><th>timestampType</th><th>headers</th></tr></thead><tbody><tr><td>MzAz</td><td>eyJpZCI6IDIsICJtZXNhIjogMzAzLCAiY29taWRhIjogWyJlbXAgNCBxdWVzb3MgKDMsLSkiLCAiY29yYXpvbmVzIGRlIGFsY2FjaG9mYXMiLCAiZW1wYW5hZGEgbGVudGVqYXMiLCAicGluY2hvcyBtb3J1bm9zIiwgImVtcGE= (truncated)</td><td>pedidos</td><td>2</td><td>0</td><td>2025-09-11T11:15:50.844Z</td><td>0</td><td>null</td></tr><tr><td>NTA0</td><td>eyJpZCI6IDgsICJtZXNhIjogNTA0LCAiY29taWRhIjogWyJ0YWNvIHJhcGUiLCAibWFuY2hlZ28iLCAiZmFiYWRhIGFzdHVyaWFuYSIsICJmaWxldGVzIGRlIHNhcmRpbmFzIiwgImVtcGFuYWRhIGNlYm9sbGEgeSBxdWVzbyI= (truncated)</td><td>pedidos</td><td>2</td><td>1</td><td>2025-09-11T11:15:53.386Z</td><td>0</td><td>null</td></tr><tr><td>MzAz</td><td>eyJpZCI6IDksICJtZXNhIjogMzAzLCAiY29taWRhIjogWyJlbXAgY2ViICgyLDgwKSIsICJwdWxwbyBhIGxhIGdhbGxlZ2EiLCAiY2hpbGkgc2luIGNhcm5lIl0sICJiZWJpZGEiOiBbImVuYXRlIGNhYiAxLzgiLCAiY3VhdHI= (truncated)</td><td>pedidos</td><td>2</td><td>2</td><td>2025-09-11T11:15:54.365Z</td><td>0</td><td>null</td></tr><tr><td>NDA0</td><td>eyJpZCI6IDEwLCAibWVzYSI6IDQwNCwgImNvbWlkYSI6IFsiYWNlaXR1bmFzIGNvbiBsaW1vbiJdLCAiYmViaWRhIjogWyJlbmF0ZSBjYWIgMCw3bCJdLCAidGltZXN0YW1wIjogMTc1NzU4OTM1NDgyN30=</td><td>pedidos</td><td>2</td><td>3</td><td>2025-09-11T11:15:54.827Z</td><td>0</td><td>null</td></tr><tr><td>NTAz</td><td>eyJpZCI6IDEzLCAibWVzYSI6IDUwMywgImNvbWlkYSI6IFsiZW1wIHBvbGxvICgyLDgwKSIsICJmYWJhZGEgYXN0dXJpYW5hIiwgImVtcCBjZWIgKDIsODApIiwgImJlcmVuamVuYXMgYyBtaWVsIiwgImVtcGFuYWRhIGFyYWI= (truncated)</td><td>pedidos</td><td>2</td><td>4</td><td>2025-09-11T11:15:56.244Z</td><td>0</td><td>null</td></tr><tr><td>MjAy</td><td>eyJpZCI6IDIwLCAibWVzYSI6IDIwMiwgImNvbWlkYSI6IFsiZW1wIGxlbnRlamFzICgyLDgwKSJdLCAiYmViaWRhIjogWyJyaWNhcmRvIHNhbmNoZXogMS84IiwgInp3ZWlnZWx0IHN0cmF1c3MgMS84IiwgImNhbXBhcnJvbiA= (truncated)</td><td>pedidos</td><td>2</td><td>5</td><td>2025-09-11T11:15:59.659Z</td><td>0</td><td>null</td></tr><tr><td>MTA1</td><td>eyJpZCI6IDIxLCAibWVzYSI6IDEwNSwgImNvbWlkYSI6IFsidGFwYXMgbWl4dGFzIiwgInRhcGEgZGVsIGRpYSIsICJlbXAgYXJhYmUgKDIsODApIiwgImNob3Jpem8gZnJpdG8iLCAicGFsbWl0b3MiXSwgImJlYmlkYSI6IFs= (truncated)</td><td>pedidos</td><td>2</td><td>6</td><td>2025-09-11T11:15:59.709Z</td><td>0</td><td>null</td></tr><tr><td>MTA1</td><td>eyJpZCI6IDI0LCAibWVzYSI6IDEwNSwgImNvbWlkYSI6IFsiYnV0aWZhcnJhIiwgImxvbW8gYWRvYmFkbyIsICJ0YXBhIGRlbCBkaWEgNSIsICJlbXAgY2FwcmVzZSAoMiw4MCkiLCAiYWNlaXR1bmFzIGNvbiBsaW1vbiIsICI= (truncated)</td><td>pedidos</td><td>2</td><td>7</td><td>2025-09-11T11:16:01.663Z</td><td>0</td><td>null</td></tr><tr><td>MjAy</td><td>eyJpZCI6IDI2LCAibWVzYSI6IDIwMiwgImNvbWlkYSI6IFsidGFwYXMgbWl4dGFzIiwgInBvbGxvIGEgbGEgbW9zdGF6YSIsICJndWFjYW1vbGUiLCAicGFsbWl0b3MiLCAidGFwYSBkZWwgZGlhIl0sICJiZWJpZGEiOiBbImw= (truncated)</td><td>pedidos</td><td>2</td><td>8</td><td>2025-09-11T11:16:02.402Z</td><td>0</td><td>null</td></tr><tr><td>NDA0</td><td>eyJpZCI6IDI5LCAibWVzYSI6IDQwNCwgImNvbWlkYSI6IFsicGFuIHR1bWFjYSIsICJwaW1pZW50b3MgZGUgcGFkcm9uIiwgImFjZWl0dW5hcyBtaXgiLCAiZXNwaW5hY2EgYy9wYXNhcyB5IHBpbm9uZXMiLCAidG9ydGlsbGE= (truncated)</td><td>pedidos</td><td>2</td><td>9</td><td>2025-09-11T11:16:03.457Z</td><td>0</td><td>null</td></tr><tr><td>MzAz</td><td>eyJpZCI6IDMwLCAibWVzYSI6IDMwMywgImNvbWlkYSI6IFsiYWxib25kaWdhcyBlbiBqZXJleiIsICJjcmVtYSBjYXRhbGFuYSIsICJicm90IiwgInB1bHBvIGEgbGEgZ2FsbGVnYSIsICJlbXBhbmFkYSBwaWNhbnRlIiwgInQ= (truncated)</td><td>pedidos</td><td>2</td><td>10</td><td>2025-09-11T11:16:03.681Z</td><td>0</td><td>null</td></tr><tr><td>MzAw</td><td>eyJpZCI6IDMzLCAibWVzYSI6IDMwMCwgImNvbWlkYSI6IFsiYWpvIGJsYW5jbyIsICJlbXBhbmFkYSBjYXJuZSIsICJlbXAgY2FwcmVzZSAoMywtKSIsICJ0YWNvIHRyaWdvIiwgInNhbHptYW5kZWxuIiwgImJvcXVlcm9uZXM= (truncated)</td><td>pedidos</td><td>2</td><td>11</td><td>2025-09-11T11:16:04.954Z</td><td>0</td><td>null</td></tr><tr><td>NDA0</td><td>eyJpZCI6IDM3LCAibWVzYSI6IDQwNCwgImNvbWlkYSI6IFsiZ3VhY2Ftb2xlIiwgInRhcGEgZGVsIGRpYSA1IiwgInZhcmlhY2lvbiBkZSBxdWVzb3MiLCAiYWNlaXR1bmFzIGVuIGFkb2JvIiwgInBhbiB0dW1hY2EiXSwgImI= (truncated)</td><td>pedidos</td><td>2</td><td>12</td><td>2025-09-11T11:16:07.428Z</td><td>0</td><td>null</td></tr><tr><td>MjAz</td><td>eyJpZCI6IDQwLCAibWVzYSI6IDIwMywgImNvbWlkYSI6IFsiZW1wYW5hZGEgY2FwcmVzZSIsICJ0YXBhIGRlbCBkaWEgMyIsICJlbXBhbmFkYSBodW1pdGEiLCAiYmVyZW5qZW5hcyBjIG1pZWwiLCAiZW1wIGVzcGluICgyLDg= (truncated)</td><td>pedidos</td><td>2</td><td>13</td><td>2025-09-11T11:16:09.128Z</td><td>0</td><td>null</td></tr><tr><td>NDA0</td><td>eyJpZCI6IDQxLCAibWVzYSI6IDQwNCwgImNvbWlkYSI6IFsiZW1wIGh1bWl0YSAoMiw4MCkiLCAibW9qYW1hIiwgInNvYnJhc2FkYSIsICJlbXAgaHVtaXRhICgzLC0pIiwgImVtcCBhcnZlamFzICgzLC0pIiwgImVtcCBhcnY= (truncated)</td><td>pedidos</td><td>2</td><td>14</td><td>2025-09-11T11:16:09.934Z</td><td>0</td><td>null</td></tr><tr><td>MjAz</td><td>eyJpZCI6IDQzLCAibWVzYSI6IDIwMywgImNvbWlkYSI6IFsiYWpvIGJsYW5jbyIsICJwaXN0byIsICJ0YXBhIGRlbCBkaWEgNSIsICJqYW1vbiBpYmVyaWNvIiwgImFjZWl0dW5hcyBlbiBhZG9ibyIsICJlbXAgY2FybmUgKDM= (truncated)</td><td>pedidos</td><td>2</td><td>15</td><td>2025-09-11T11:16:11.576Z</td><td>0</td><td>null</td></tr><tr><td>NDA0</td><td>eyJpZCI6IDQ4LCAibWVzYSI6IDQwNCwgImNvbWlkYSI6IFsiZW1wIHBvbGxvICgzLC0pIl0sICJiZWJpZGEiOiBbImNhcnJlZHVlbmFzIDEvOCIsICJ5bGxlcmEgNS41IDAsN2wiLCAiY29sb3NzYWwgMCw3bCJdLCAidGltZXM= (truncated)</td><td>pedidos</td><td>2</td><td>16</td><td>2025-09-11T11:16:13.791Z</td><td>0</td><td>null</td></tr><tr><td>NTAz</td><td>eyJpZCI6IDQ5LCAibWVzYSI6IDUwMywgImNvbWlkYSI6IFsiY3JvcXVldGFzIl0sICJiZWJpZGEiOiBbInNhZnQgZ2VzcHJpdHp0IDAsMjUiLCAibWluZXJhbCAwLDc1Il0sICJ0aW1lc3RhbXAiOiAxNzU3NTg5Mzc0MzgwfQ==</td><td>pedidos</td><td>2</td><td>17</td><td>2025-09-11T11:16:14.38Z</td><td>0</td><td>null</td></tr><tr><td>MzAz</td><td>eyJpZCI6IDUyLCAibWVzYSI6IDMwMywgImNvbWlkYSI6IFsiYnV0aWZhcnJhIiwgInRvcnRpbGxhIGRlIGVzcGluYWNhcyIsICJ0b3J0aWxsYSBlc3Bhbm9sYSJdLCAiYmViaWRhIjogWyJjZXB1bnRvIG9ybyAwLDdsIiwgInI= (truncated)</td><td>pedidos</td><td>2</td><td>18</td><td>2025-09-11T11:16:15.863Z</td><td>0</td><td>null</td></tr><tr><td>NTA0</td><td>eyJpZCI6IDU2LCAibWVzYSI6IDUwNCwgImNvbWlkYSI6IFsiZW1wYW5hZGEgY2FybmUiLCAiZW1wYW5hZGEgYXJ2ZWphcyIsICJwYWVsbGEgdmFsZW5jaWFuYSIsICJqYW1vbiBpYmVyaWNvIiwgImZpbGV0ZXMgZGUgYW5jaG8= (truncated)</td><td>pedidos</td><td>2</td><td>19</td><td>2025-09-11T11:16:18.176Z</td><td>0</td><td>null</td></tr><tr><td>MTA1</td><td>eyJpZCI6IDY0LCAibWVzYSI6IDEwNSwgImNvbWlkYSI6IFsibWFuY2hlZ28iLCAic2FsbW9uIGVuIG1vam8iLCAiZW1wIGVzcGluICgyLDgwKSIsICJsb21vIGliZXJpY28iLCAicXVlc28gbWFob25lcyBmcml0byIsICJwaW0= (truncated)</td><td>pedidos</td><td>2</td><td>20</td><td>2025-09-11T11:16:23.313Z</td><td>0</td><td>null</td></tr><tr><td>MjAz</td><td>eyJpZCI6IDY1LCAibWVzYSI6IDIwMywgImNvbWlkYSI6IFsiZW1wIHBpY2FudGUgKDMsLSkiLCAibXVzbG8gZGUgcG9sbG8iLCAidGFwYXMgMTUsLSIsICJidXRpZmFycmEiLCAiZW1wIGhvbmdvcyAoMywtKSIsICJnYW1iYXM= (truncated)</td><td>pedidos</td><td>2</td><td>21</td><td>2025-09-11T11:16:23.581Z</td><td>0</td><td>null</td></tr><tr><td>NTA0</td><td>eyJpZCI6IDY5LCAibWVzYSI6IDUwNCwgImNvbWlkYSI6IFsicGVwaW5vcyBlbiBjaGlsZSIsICJ0YXBhcyAxOSwtIiwgImh1ZXZvcyByb3RvcyIsICJ0YXBhcyAxNSwtIiwgImZpbGV0ZXMgZGUgc2FyZGluYXMiLCAicGFuIHQ= (truncated)</td><td>pedidos</td><td>2</td><td>22</td><td>2025-09-11T11:16:26.41Z</td><td>0</td><td>null</td></tr><tr><td>MzAz</td><td>eyJpZCI6IDcwLCAibWVzYSI6IDMwMywgImNvbWlkYSI6IFsiZW1wYW5hZGEgNCBxdWVzb3MiLCAiZW1wYW5hZGEgYXR1biIsICJlbXAgY2FwcmVzZSAoMiw4MCkiLCAidGFwYSBkZWwgZGlhIDYiLCAiZW1wIHBpY2FudGUgKDI= (truncated)</td><td>pedidos</td><td>2</td><td>23</td><td>2025-09-11T11:16:26.958Z</td><td>0</td><td>null</td></tr><tr><td>MjAy</td><td>eyJpZCI6IDc0LCAibWVzYSI6IDIwMiwgImNvbWlkYSI6IFsibW9yY2lsbGEgYnVyZ29zIiwgImVtcCBwb2xsbyAoMywtKSIsICJlbXAgY2FwcmVzZSAoMywtKSIsICJwYXRhdGFzIGJyYXZhcyIsICJwdWxwbyBlbiBjaWxhbnQ= (truncated)</td><td>pedidos</td><td>2</td><td>24</td><td>2025-09-11T11:16:28.624Z</td><td>0</td><td>null</td></tr><tr><td>MjAy</td><td>eyJpZCI6IDg0LCAibWVzYSI6IDIwMiwgImNvbWlkYSI6IFsicGF0YXRhcyBhIGxhIHJpb2phbmEiLCAiYXNhZG8iXSwgImJlYmlkYSI6IFsidmFyYW5lIDAsN2wiLCAiendlaWdlbHQgc3RyYXVzcyAxLzgiLCAicmFtb24gYmk= (truncated)</td><td>pedidos</td><td>2</td><td>25</td><td>2025-09-11T11:16:33.581Z</td><td>0</td><td>null</td></tr><tr><td>NDA0</td><td>eyJpZCI6IDk1LCAibWVzYSI6IDQwNCwgImNvbWlkYSI6IFsib2pvIGRlIGJpZmUiLCAiY2hvcml6byBhIGxhIHNpZHJhIiwgImdhbWJhcyBhbCBcInBpbHBpbFwiIiwgInBlcGlub3MgZW4gY2hpbGUiLCAiZW1wYW5hZGEgaG8= (truncated)</td><td>pedidos</td><td>2</td><td>26</td><td>2025-09-11T11:16:39.407Z</td><td>0</td><td>null</td></tr><tr><td>NDA0</td><td>eyJpZCI6IDEwMCwgIm1lc2EiOiA0MDQsICJjb21pZGEiOiBbImVtcGFuYWRhIHBpY2FudGUiLCAidGFwYSBkZWwgZGlhIDEiLCAiZW1wYW5hZGEgZXNwaW5hY2EiLCAiZW1wYW5hZGEgcGljYW50ZSIsICJib3F1ZXJvbmVzIGU= (truncated)</td><td>pedidos</td><td>2</td><td>27</td><td>2025-09-11T11:16:42.627Z</td><td>0</td><td>null</td></tr><tr><td>NTAz</td><td>eyJpZCI6IDEwMiwgIm1lc2EiOiA1MDMsICJjb21pZGEiOiBbImVtcCBqeXEgKDIsODApIiwgInBhbG1pdG9zIiwgInF1ZXNvIGRlIG92ZWphIiwgImVtcCBjaXImcGFuICgzLC0pIiwgImVtcGFuYWRhIGNlYm9sbGEgeSBxdWU= (truncated)</td><td>pedidos</td><td>2</td><td>28</td><td>2025-09-11T11:16:44.13Z</td><td>0</td><td>null</td></tr><tr><td>NTA0</td><td>eyJpZCI6IDEwNCwgIm1lc2EiOiA1MDQsICJjb21pZGEiOiBbImJvbml0byBzb2JyZSBydWNjb2xhIiwgImVtcCBjaXImcGFuICgzLC0pIiwgInRhcGEgZGVsIGRpYSAxIiwgInRhcGEgZGVsIGRpYSIsICJlbXAgY2ViICgzLC0= (truncated)</td><td>pedidos</td><td>2</td><td>29</td><td>2025-09-11T11:16:44.532Z</td><td>0</td><td>null</td></tr><tr><td>MjAz</td><td>eyJpZCI6IDEwNSwgIm1lc2EiOiAyMDMsICJjb21pZGEiOiBbImVtcCBodW1pdGEgKDMsLSkiLCAidGFwYSBkZWwgZGlhIiwgInNhbG1vbiBlbiBtb2pvIl0sICJiZWJpZGEiOiBbInNjaGxhZG1pbmdlciAwLDMiLCAicGF1IDA= (truncated)</td><td>pedidos</td><td>2</td><td>30</td><td>2025-09-11T11:16:45.475Z</td><td>0</td><td>null</td></tr><tr><td>NTAz</td><td>eyJpZCI6IDEwNywgIm1lc2EiOiA1MDMsICJjb21pZGEiOiBbImVtcCBjYXJuZSAoMywtKSJdLCAiYmViaWRhIjogWyJtYXMgcGljb3NhIDAsN2wiLCAieWxsZXJhIDUuNSAxLzgiLCAid2VpbiBmbGFzY2hlIiwgInZpbmEgZXM= (truncated)</td><td>pedidos</td><td>2</td><td>31</td><td>2025-09-11T11:16:46.271Z</td><td>0</td><td>null</td></tr><tr><td>MjAy</td><td>eyJpZCI6IDExMCwgIm1lc2EiOiAyMDIsICJjb21pZGEiOiBbImFjZWl0dW5hcyBtaXgiLCAibG9tbyBpYmVyaWNvIiwgImVtcGFuYWRhIGh1bWl0YSIsICJ2YXJpYWNpb24gZGUgcXVlc29zIiwgImVtcCBodW1pdGEgKDMsLSk= (truncated)</td><td>pedidos</td><td>2</td><td>32</td><td>2025-09-11T11:16:47.239Z</td><td>0</td><td>null</td></tr><tr><td>NTA0</td><td>eyJpZCI6IDExNSwgIm1lc2EiOiA1MDQsICJjb21pZGEiOiBbImVtcGFuYWRhIDQgcXVlc29zIiwgInBhdGF0YXMgYnJhdmFzIiwgImVtcCBhdHVuICgzLC0pIiwgImVtcCBhcmFiZSAoMiw4MCkiLCAicGF0YXRhcyBicmF2YXM= (truncated)</td><td>pedidos</td><td>2</td><td>33</td><td>2025-09-11T11:16:48.803Z</td><td>0</td><td>null</td></tr><tr><td>MzAz</td><td>eyJpZCI6IDExNywgIm1lc2EiOiAzMDMsICJjb21pZGEiOiBbImVtcCBlc3BpbiAoMiw4MCkiXSwgImJlYmlkYSI6IFsidmFyYW5lIDEvOCIsICJkIG1vcmVubyBibGFuY28gYmFycmljYSAxLzgiXSwgInRpbWVzdGFtcCI6IDE= (truncated)</td><td>pedidos</td><td>2</td><td>34</td><td>2025-09-11T11:16:49.355Z</td><td>0</td><td>null</td></tr><tr><td>MzAw</td><td>eyJpZCI6IDExOCwgIm1lc2EiOiAzMDAsICJjb21pZGEiOiBbInRhcGEgZGVsIGRpYSA2IiwgInBpbmNob3MgbW9ydW5vcyIsICJwaW5jaG9zIG1vcnVub3MiLCAicGFlbGxhIHZhbGVuY2lhbmEiLCAicGVwaW5vcyBlbiBjaGk= (truncated)</td><td>pedidos</td><td>2</td><td>35</td><td>2025-09-11T11:16:49.393Z</td><td>0</td><td>null</td></tr><tr><td>MTA1</td><td>eyJpZCI6IDExOSwgIm1lc2EiOiAxMDUsICJjb21pZGEiOiBbImVtcCBsZW50ZWphcyAoMiw4MCkiLCAiZW1wIGh1bWl0YSAoMywtKSIsICJmaWxldGVzIGRlIGFuY2hvYXMiLCAiZW1wYW5hZGEgZXNwaW5hY2EiLCAiZW1wIGE= (truncated)</td><td>pedidos</td><td>2</td><td>36</td><td>2025-09-11T11:16:50.024Z</td><td>0</td><td>null</td></tr><tr><td>NTA0</td><td>eyJpZCI6IDEyMCwgIm1lc2EiOiA1MDQsICJjb21pZGEiOiBbImFzYWRvIiwgInF1ZXNvIG1haG9uZXMgZnJpdG8iLCAiY2hpbGkgc2luIGNhcm5lIiwgImVzcGluYWNhIGMvcGFzYXMgeSBwaW5vbmVzIl0sICJiZWJpZGEiOiA= (truncated)</td><td>pedidos</td><td>2</td><td>37</td><td>2025-09-11T11:16:50.796Z</td><td>0</td><td>null</td></tr><tr><td>Mw==</td><td>eyJpZCI6IDMsICJtZXNhIjogMywgImNvbWlkYSI6IFsiZ2FtYmFzIGFsIFwicGlscGlsXCIiLCAidGFwYSBkZWwgZGlhIDUiLCAidGFwYSBkZWwgZGlhIDciLCAidGFwYXMgMTksLSIsICJlbXAgbGVudGVqYXMgKDMsLSkiLCA= (truncated)</td><td>pedidos</td><td>1</td><td>0</td><td>2025-09-11T11:15:51.272Z</td><td>0</td><td>null</td></tr><tr><td>MzAx</td><td>eyJpZCI6IDQsICJtZXNhIjogMzAxLCAiY29taWRhIjogWyJlbXBhbmFkYSBqeXEiLCAiZW1wIGVzcGluICgzLC0pIl0sICJiZWJpZGEiOiBbImNvbmNlam8gMCw3bCIsICJ0ZXJyYSBkJ3VybyByb3MgMS84Il0sICJ0aW1lc3Q= (truncated)</td><td>pedidos</td><td>1</td><td>1</td><td>2025-09-11T11:15:51.913Z</td><td>0</td><td>null</td></tr><tr><td>NTA1</td><td>eyJpZCI6IDUsICJtZXNhIjogNTA1LCAiY29taWRhIjogWyJwYW4gdHVtYWNhIiwgImphbW9uIHNlcnJhbm8iLCAiZW1wYW5hZGEgNCBxdWVzb3MiLCAidGFwYSBkZWwgZGlhIiwgImVtcCBob25nb3MgKDMsLSkiLCAicXVlc28= (truncated)</td><td>pedidos</td><td>1</td><td>2</td><td>2025-09-11T11:15:52.158Z</td><td>0</td><td>null</td></tr><tr><td>MTA4</td><td>eyJpZCI6IDcsICJtZXNhIjogMTA4LCAiY29taWRhIjogWyJzYWxtb24gZW4gbW9qbyIsICJlbXAgY2ViICgzLC0pIiwgImNyb3F1ZXRhcyIsICJhY2VpdHVuYXMgY29uIGFuY2hvYXMiLCAiZW1wIGNlYiAoMywtKSIsICJwYWw= (truncated)</td><td>pedidos</td><td>1</td><td>3</td><td>2025-09-11T11:15:52.844Z</td><td>0</td><td>null</td></tr><tr><td>MzAx</td><td>eyJpZCI6IDE0LCAibWVzYSI6IDMwMSwgImNvbWlkYSI6IFsicGFlbGxhIHZhbGVuY2lhbmEiLCAiZW1wIGNpciZwYW4gKDMsLSkiLCAiYm9xdWVyb25lcyBmcml0b3MiLCAiYnJvdCIsICJwb2xsbyBhIGxhIG1vc3RhemEiLCA= (truncated)</td><td>pedidos</td><td>1</td><td>4</td><td>2025-09-11T11:15:56.608Z</td><td>0</td><td>null</td></tr><tr><td>Ng==</td><td>eyJpZCI6IDE2LCAibWVzYSI6IDYsICJjb21pZGEiOiBbImVtcCBwaWNhbnRlICgzLC0pIiwgImVtcGFuYWRhIGFydmVqYXMiLCAidmFyaWFjaW9uIGRlIHF1ZXNvcyJdLCAiYmViaWRhIjogWyJpbnVycmlldGEgbm9ydGUgMS8= (truncated)</td><td>pedidos</td><td>1</td><td>5</td><td>2025-09-11T11:15:57.667Z</td><td>0</td><td>null</td></tr><tr><td>MzAx</td><td>eyJpZCI6IDE3LCAibWVzYSI6IDMwMSwgImNvbWlkYSI6IFsic2FsbW9uIGVuIG1vam8iLCAidGFwYSBkZWwgZGlhIDQiLCAiZW1wYW5hZGEganlxIiwgImVtcCBhcnZlamFzICgyLDgwKSIsICJ0YXBhIGRlbCBkaWEgMyIsICI= (truncated)</td><td>pedidos</td><td>1</td><td>6</td><td>2025-09-11T11:15:58.612Z</td><td>0</td><td>null</td></tr><tr><td>MzAy</td><td>eyJpZCI6IDE4LCAibWVzYSI6IDMwMiwgImNvbWlkYSI6IFsiZW1wYW5hZGEgYXJ2ZWphcyIsICJwdWxwbyBlbiBjaWxhbnRybyIsICJ0YXBhIGRlbCBkaWEgNSIsICJjaG9yaXpvIGZyaXRvIiwgImVtcCBodW1pdGEgKDMsLSk= (truncated)</td><td>pedidos</td><td>1</td><td>7</td><td>2025-09-11T11:15:58.821Z</td><td>0</td><td>null</td></tr><tr><td>MzAx</td><td>eyJpZCI6IDIzLCAibWVzYSI6IDMwMSwgImNvbWlkYSI6IFsiZW1wIGhvbmdvcyAoMiw4MCkiLCAidGFwYXMgMjAsLSIsICJlbXBhbmFkYSBlc3BpbmFjYSIsICJ0YXBhIGRlbCBkaWEgNSIsICJqYW1vbiBpYmVyaWNvIl0sICI= (truncated)</td><td>pedidos</td><td>1</td><td>8</td><td>2025-09-11T11:16:01.211Z</td><td>0</td><td>null</td></tr><tr><td>MzAx</td><td>eyJpZCI6IDI3LCAibWVzYSI6IDMwMSwgImNvbWlkYSI6IFsic2FsbW9uIGVuIG1vam8iLCAiYWNlaXR1bmFzIGNvbiBhbmNob2FzIiwgImVtcGFuYWRhIGxlbnRlamFzIiwgImR1bGNlIGRlIG1lbWJyaWxsbyIsICJtb3JjaWw= (truncated)</td><td>pedidos</td><td>1</td><td>9</td><td>2025-09-11T11:16:02.521Z</td><td>0</td><td>null</td></tr><tr><td>NDAz</td><td>eyJpZCI6IDMxLCAibWVzYSI6IDQwMywgImNvbWlkYSI6IFsidGFwYXMgMTUsLSIsICJlbXAganlxICgyLDgwKSIsICJiYWNhbGFvIGZyaXRvIiwgImVtcCA0IHF1ZXNvcyAoMywtKSIsICJlbXBhbmFkYSBwb2xsbyJdLCAiYmU= (truncated)</td><td>pedidos</td><td>1</td><td>10</td><td>2025-09-11T11:16:04.52Z</td><td>0</td><td>null</td></tr><tr><td>MzAx</td><td>eyJpZCI6IDM1LCAibWVzYSI6IDMwMSwgImNvbWlkYSI6IFsiZW1wIGp5cSAoMywtKSIsICJjZWNpbmEiLCAidGFwYSBkZWwgZGlhIDEiLCAiZW1wIHBpY2FudGUgKDIsODApIiwgInRvcnRpbGxhIGVzcGFub2xhIiwgInB1bHA= (truncated)</td><td>pedidos</td><td>1</td><td>11</td><td>2025-09-11T11:16:06.207Z</td><td>0</td><td>null</td></tr><tr><td>MTA4</td><td>eyJpZCI6IDM5LCAibWVzYSI6IDEwOCwgImNvbWlkYSI6IFsiZW1wYW5hZGEgaG9uZ29zIiwgInRvcnRpbGxhIGRlIGVzcGluYWNhcyIsICJodWV2b3Mgcm90b3MiLCAiamFtb24gaWJlcmljbyIsICJqYW1vbiBpYmVyaWNvIl0= (truncated)</td><td>pedidos</td><td>1</td><td>12</td><td>2025-09-11T11:16:08.371Z</td><td>0</td><td>null</td></tr><tr><td>NTA1</td><td>eyJpZCI6IDQ0LCAibWVzYSI6IDUwNSwgImNvbWlkYSI6IFsiZW1wIGNhcm5lICgzLC0pIiwgInBhdGF0YXMgYnJhdmFzIiwgImVtcCBsZW50ZWphcyAoMiw4MCkiLCAiZHVsY2UgZGUgbWVtYnJpbGxvIiwgImVtcCBlc3BpbiA= (truncated)</td><td>pedidos</td><td>1</td><td>13</td><td>2025-09-11T11:16:11.961Z</td><td>0</td><td>null</td></tr><tr><td>MzAx</td><td>eyJpZCI6IDQ1LCAibWVzYSI6IDMwMSwgImNvbWlkYSI6IFsiZW1wIGh1bWl0YSAoMywtKSIsICJ0YXBhcyAxOCwtIiwgImVtcGFuYWRhIHBpY2FudGUiLCAicGFlbGxhIHZhbGVuY2lhbmEiLCAicGVwaW5vcyBlbiBjaGlsZSI= (truncated)</td><td>pedidos</td><td>1</td><td>14</td><td>2025-09-11T11:16:12.208Z</td><td>0</td><td>null</td></tr><tr><td>MzAx</td><td>eyJpZCI6IDQ2LCAibWVzYSI6IDMwMSwgImNvbWlkYSI6IFsiZW1wIGp5cSAoMiw4MCkiLCAiZW1wIGNpciZwYW4gKDIsODApIiwgImVtcCBlc3BpbiAoMywtKSIsICJzZXRhcyBhbCBcInBpbHBpbFwiIl0sICJiZWJpZGEiOiA= (truncated)</td><td>pedidos</td><td>1</td><td>15</td><td>2025-09-11T11:16:12.482Z</td><td>0</td><td>null</td></tr><tr><td>Ng==</td><td>eyJpZCI6IDUwLCAibWVzYSI6IDYsICJjb21pZGEiOiBbImNob3JpcGFuIiwgInBpbmNob3MgbW9ydW5vcyIsICJwdWxwbyBlbiBjaWxhbnRybyJdLCAiYmViaWRhIjogWyJlYmFuaXN0YSAwLDdsIiwgImVuYXRlIDEvOCJdLCA= (truncated)</td><td>pedidos</td><td>1</td><td>16</td><td>2025-09-11T11:16:15.292Z</td><td>0</td><td>null</td></tr><tr><td>MzAy</td><td>eyJpZCI6IDUxLCAibWVzYSI6IDMwMiwgImNvbWlkYSI6IFsiZW1wIGhvbmdvcyAoMiw4MCkiLCAiY2hpbGkgc2luIGNhcm5lIiwgImVtcCBhdHVuICgzLC0pIiwgImFjZWl0dW5hcyBlbiBhZG9ibyIsICJiZXJlbmplbmFzIGM= (truncated)</td><td>pedidos</td><td>1</td><td>17</td><td>2025-09-11T11:16:15.787Z</td><td>0</td><td>null</td></tr><tr><td>MzAy</td><td>eyJpZCI6IDU4LCAibWVzYSI6IDMwMiwgImNvbWlkYSI6IFsidGFwYXMgbWl4dGFzIiwgInRhcGEgZGVsIGRpYSIsICJjcmVtYSBjYXRhbGFuYSIsICJwYWxtaXRvcyIsICJlbXAgY2ViICgzLC0pIiwgImNydSBjaGlwcyBjZWM= (truncated)</td><td>pedidos</td><td>1</td><td>18</td><td>2025-09-11T11:16:19.763Z</td><td>0</td><td>null</td></tr><tr><td>NTAy</td><td>eyJpZCI6IDU5LCAibWVzYSI6IDUwMiwgImNvbWlkYSI6IFsidGFjbyByYXBlIiwgInRhcGEgZGVsIGRpYSA1IiwgImVtcGFuYWRhIDQgcXVlc29zIiwgImVtcGFuYWRhIGh1bWl0YSIsICJhY2VpdHVuYXMgZW4gYWRvYm8iXSw= (truncated)</td><td>pedidos</td><td>1</td><td>19</td><td>2025-09-11T11:16:20.607Z</td><td>0</td><td>null</td></tr><tr><td>MTA3</td><td>eyJpZCI6IDYwLCAibWVzYSI6IDEwNywgImNvbWlkYSI6IFsiZW1wIGF0dW4gKDMsLSkiLCAidGFwYXMgMTksLSIsICJwYWVsbGEgdmFsZW5jaWFuYSIsICJhY2VpdHVuYXMgY29uIGFuY2hvYXMiLCAicGVwaW5vcyBlbiBjaGk= (truncated)</td><td>pedidos</td><td>1</td><td>20</td><td>2025-09-11T11:16:21.603Z</td><td>0</td><td>null</td></tr><tr><td>MTA4</td><td>eyJpZCI6IDYzLCAibWVzYSI6IDEwOCwgImNvbWlkYSI6IFsicGVwaW5vcyBlbiBjaGlsZSIsICJzYWxtb24gZW4gbW9qbyJdLCAiYmViaWRhIjogWyJjYXJyZWR1ZW5hcyAxLzgiLCAiY2FtcGFycm9uIGNyaWFuemEgMCw3bCI= (truncated)</td><td>pedidos</td><td>1</td><td>21</td><td>2025-09-11T11:16:22.998Z</td><td>0</td><td>null</td></tr><tr><td>NTAy</td><td>eyJpZCI6IDY2LCAibWVzYSI6IDUwMiwgImNvbWlkYSI6IFsiZW1wYW5hZGEgcG9sbG8iLCAidGFwYSBkZWwgZGlhIDEiLCAiZW1wIGp5cSAoMywtKSIsICJidXRpZmFycmEiLCAiZW1wIGp5cSAoMywtKSIsICJtb3JjaWxsYSA= (truncated)</td><td>pedidos</td><td>1</td><td>22</td><td>2025-09-11T11:16:23.874Z</td><td>0</td><td>null</td></tr><tr><td>NTA1</td><td>eyJpZCI6IDY4LCAibWVzYSI6IDUwNSwgImNvbWlkYSI6IFsicGltaWVudG9zIHJlbGxlbm9zIGMvIGhvbmdvcyIsICJiZXJlbmplbmFzIGVuIGVzY2FiZWNoZSIsICJwaW1pZW50b3MgcmVsbGVub3MgYy8gaG9uZ29zIiwgImc= (truncated)</td><td>pedidos</td><td>1</td><td>23</td><td>2025-09-11T11:16:25.709Z</td><td>0</td><td>null</td></tr><tr><td>MTA3</td><td>eyJpZCI6IDcxLCAibWVzYSI6IDEwNywgImNvbWlkYSI6IFsiZW1wYW5hZGEganlxIiwgImxvbW8gaWJlcmljbyIsICJ0YXBhIGRlbCBkaWEgNyIsICJxdWVzbyBtYWhvbmVzIGZyaXRvIiwgInZhcmlhY2lvbiBkZSBxdWVzb3M= (truncated)</td><td>pedidos</td><td>1</td><td>24</td><td>2025-09-11T11:16:27.792Z</td><td>0</td><td>null</td></tr><tr><td>Mw==</td><td>eyJpZCI6IDc1LCAibWVzYSI6IDMsICJjb21pZGEiOiBbImFjZWl0dW5hcyBlbiBhZG9ibyJdLCAiYmViaWRhIjogWyJ2YXJhbmUgMS84IiwgIndlaW4gZXh0cmEiLCAiY2VydmV6YSBzcGFuaXNjaCAwLDMzIl0sICJ0aW1lc3Q= (truncated)</td><td>pedidos</td><td>1</td><td>25</td><td>2025-09-11T11:16:29.462Z</td><td>0</td><td>null</td></tr><tr><td>NDAz</td><td>eyJpZCI6IDc2LCAibWVzYSI6IDQwMywgImNvbWlkYSI6IFsidGFjbyB0cmlnbyIsICJlbXAgY2lyJnBhbiAoMywtKSIsICJwaXN0byIsICJqYW1vbiBzZXJyYW5vIiwgIm1hbmNoZWdvIiwgImFjZWl0dW5hcyBlbiBhZG9ibyI= (truncated)</td><td>pedidos</td><td>1</td><td>26</td><td>2025-09-11T11:16:29.718Z</td><td>0</td><td>null</td></tr><tr><td>MTA4</td><td>eyJpZCI6IDc3LCAibWVzYSI6IDEwOCwgImNvbWlkYSI6IFsicGltaWVudG9zIGRlIHBhZHJvbiIsICJiZXJlbmplbmFzIGMgbWllbCJdLCAiYmViaWRhIjogWyJrYWlrZW4gMCw3bCIsICJjYW1wYXJyb24gcmVzZXJ2YSAxLzg= (truncated)</td><td>pedidos</td><td>1</td><td>27</td><td>2025-09-11T11:16:29.883Z</td><td>0</td><td>null</td></tr><tr><td>MTA3</td><td>eyJpZCI6IDc4LCAibWVzYSI6IDEwNywgImNvbWlkYSI6IFsiZW1wYW5hZGEgNCBxdWVzb3MiLCAiZW1wIGVzcGluICgyLDgwKSIsICJjcmVtYSBjYXRhbGFuYSIsICJlbXAgYXJhYmUgKDMsLSkiLCAiYWNlaXR1bmFzIGNvbiA= (truncated)</td><td>pedidos</td><td>1</td><td>28</td><td>2025-09-11T11:16:30.27Z</td><td>0</td><td>null</td></tr><tr><td>MzAx</td><td>eyJpZCI6IDgxLCAibWVzYSI6IDMwMSwgImNvbWlkYSI6IFsiZW1wIGNhcHJlc2UgKDMsLSkiLCAiZW1wYW5hZGEgcG9sbG8iLCAibG9tbyBpYmVyaWNvIiwgImVuc2FsYWRpbGxhIHJ1c2EiLCAiY2hvcmlwYW4iLCAicXVlc28= (truncated)</td><td>pedidos</td><td>1</td><td>29</td><td>2025-09-11T11:16:31.485Z</td><td>0</td><td>null</td></tr><tr><td>NTAy</td><td>eyJpZCI6IDgzLCAibWVzYSI6IDUwMiwgImNvbWlkYSI6IFsiY2VjaW5hIiwgImVtcCBjYXByZXNlICgyLDgwKSIsICJtb3JjaWxsYSBidXJnb3MiXSwgImJlYmlkYSI6IFsiZCBtb3Jlbm8gYmxhbmNvIGJhcnJpY2EgMS84Iiw= (truncated)</td><td>pedidos</td><td>1</td><td>30</td><td>2025-09-11T11:16:32.767Z</td><td>0</td><td>null</td></tr><tr><td>MzAy</td><td>eyJpZCI6IDg2LCAibWVzYSI6IDMwMiwgImNvbWlkYSI6IFsiamFtb24gc2VycmFubyIsICJjcnUgY2hpcHMgY2VjaW5hIiwgImFzYWRvIiwgImNob3Jpem8gZnJpdG8iLCAic2V0YXMgYWwgXCJwaWxwaWxcIiIsICJiYWNhbGE= (truncated)</td><td>pedidos</td><td>1</td><td>31</td><td>2025-09-11T11:16:34.424Z</td><td>0</td><td>null</td></tr><tr><td>NTA1</td><td>eyJpZCI6IDg3LCAibWVzYSI6IDUwNSwgImNvbWlkYSI6IFsiYm9uaXRvIHNvYnJlIHJ1Y2NvbGEiLCAibXVzbG8gZGUgcG9sbG8iLCAiaHVldm9zIHJvdG9zIiwgInRhY28gcmFwZSIsICJjaG9yaXpvIGEgbGEgc2lkcmEiXSw= (truncated)</td><td>pedidos</td><td>1</td><td>32</td><td>2025-09-11T11:16:34.877Z</td><td>0</td><td>null</td></tr><tr><td>MTA3</td><td>eyJpZCI6IDg4LCAibWVzYSI6IDEwNywgImNvbWlkYSI6IFsiZW1wIGNhcm5lICgyLDgwKSIsICJ0YXBhIGRlbCBkaWEgMiIsICJxdWVzbyBtYWhvbmVzIGZyaXRvIiwgImVtcCA0IHF1ZXNvcyAoMiw4MCkiLCAiY2hvcmlwYW4= (truncated)</td><td>pedidos</td><td>1</td><td>33</td><td>2025-09-11T11:16:35.179Z</td><td>0</td><td>null</td></tr><tr><td>MTA4</td><td>eyJpZCI6IDg5LCAibWVzYSI6IDEwOCwgImNvbWlkYSI6IFsicGltaWVudG9zIGRlIHBhZHJvbiIsICJ0YXBhIGRlbCBkaWEgNiIsICJlbXAgaG9uZ29zICgyLDgwKSIsICJsb21vIGliZXJpY28iLCAiYmFjYWxhbyBmcml0byI= (truncated)</td><td>pedidos</td><td>1</td><td>34</td><td>2025-09-11T11:16:35.912Z</td><td>0</td><td>null</td></tr><tr><td>MzAx</td><td>eyJpZCI6IDkxLCAibWVzYSI6IDMwMSwgImNvbWlkYSI6IFsiZW1wYW5hZGEgaHVtaXRhIiwgInRhY28gdHJpZ28iXSwgImJlYmlkYSI6IFsibW9udGV2YW5ub3MgMS84IiwgImFtYmF0YSAwLDdsIiwgInRlcnJhIGQndXJvIHM= (truncated)</td><td>pedidos</td><td>1</td><td>35</td><td>2025-09-11T11:16:37.665Z</td><td>0</td><td>null</td></tr><tr><td>MzAx</td><td>eyJpZCI6IDk2LCAibWVzYSI6IDMwMSwgImNvbWlkYSI6IFsidGFwYSBkZWwgZGlhIDIiLCAidG9ydGlsbGEgZGUgZXNwaW5hY2FzIiwgInF1ZXNvIGRlIG92ZWphIiwgImVtcCA0IHF1ZXNvcyAoMywtKSIsICJwZXBpbm9zIGU= (truncated)</td><td>pedidos</td><td>1</td><td>36</td><td>2025-09-11T11:16:39.936Z</td><td>0</td><td>null</td></tr><tr><td>NTAy</td><td>eyJpZCI6IDk3LCAibWVzYSI6IDUwMiwgImNvbWlkYSI6IFsiZmlsZXRlcyBkZSBzYXJkaW5hcyIsICJjcnUgY2hpcHMgY2VjaW5hIiwgInBhbG1pdG9zIiwgImVtcCBjYXByZXNlICgzLC0pIiwgImJyb3QgZ2YiLCAiYnJvdCI= (truncated)</td><td>pedidos</td><td>1</td><td>37</td><td>2025-09-11T11:16:40.946Z</td><td>0</td><td>null</td></tr><tr><td>MTA3</td><td>eyJpZCI6IDk4LCAibWVzYSI6IDEwNywgImNvbWlkYSI6IFsidG9ydGlsbGEgZGUgZXNwaW5hY2FzIiwgImVtcCBhdHVuICgzLC0pIiwgImVtcCBjZWIgKDMsLSkiLCAiZW1wYW5hZGEgYXJ2ZWphcyIsICJwaW5jaG9zIG1vcnU= (truncated)</td><td>pedidos</td><td>1</td><td>38</td><td>2025-09-11T11:16:41.871Z</td><td>0</td><td>null</td></tr><tr><td>NDAz</td><td>eyJpZCI6IDEwMywgIm1lc2EiOiA0MDMsICJjb21pZGEiOiBbImVtcCBqeXEgKDIsODApIiwgImJhY2FsYW8gZnJpdG8iLCAiYmFjYWxhbyBmcml0byIsICJjaG9yaXBhbiIsICJlbXAgY2FwcmVzZSAoMywtKSIsICJ0YXBhcyA= (truncated)</td><td>pedidos</td><td>1</td><td>39</td><td>2025-09-11T11:16:44.326Z</td><td>0</td><td>null</td></tr><tr><td>NTA1</td><td>eyJpZCI6IDEwNiwgIm1lc2EiOiA1MDUsICJjb21pZGEiOiBbInF1ZXNvIGRlIG92ZWphIiwgInZhcmlhY2lvbiBkZSBxdWVzb3MiLCAiZW1wYW5hZGEgY2Vib2xsYSB5IHF1ZXNvIiwgInRhcGEgZGVsIGRpYSIsICJlbXAgY2k= (truncated)</td><td>pedidos</td><td>1</td><td>40</td><td>2025-09-11T11:16:46.193Z</td><td>0</td><td>null</td></tr><tr><td>Mw==</td><td>eyJpZCI6IDEwOCwgIm1lc2EiOiAzLCAiY29taWRhIjogWyJlbXAgY2lyJnBhbiAoMiw4MCkiLCAiY2hvcml6byBmcml0byIsICJ0YXBhIGRlbCBkaWEgMyIsICJlbXAgY2lyJnBhbiAoMywtKSIsICJlbXAgY2FwcmVzZSAoMyw= (truncated)</td><td>pedidos</td><td>1</td><td>41</td><td>2025-09-11T11:16:46.987Z</td><td>0</td><td>null</td></tr><tr><td>MTA3</td><td>eyJpZCI6IDEwOSwgIm1lc2EiOiAxMDcsICJjb21pZGEiOiBbImFjZWl0dW5hcyBlbiBhZG9ibyIsICJ0YXBhcyAyMCwtIiwgImVtcGFuYWRhIGNlYm9sbGEgeSBxdWVzbyIsICJlbXBhbmFkYSBob25nb3MiXSwgImJlYmlkYSI= (truncated)</td><td>pedidos</td><td>1</td><td>42</td><td>2025-09-11T11:16:47.202Z</td><td>0</td><td>null</td></tr><tr><td>NTA1</td><td>eyJpZCI6IDExMywgIm1lc2EiOiA1MDUsICJjb21pZGEiOiBbImphbW9uIHNlcnJhbm8iLCAicHVscG8gYSBsYSBnYWxsZWdhIiwgInRhcGFzIDE5LC0iLCAidG9ydGlsbGEgZGUgZXNwaW5hY2FzIiwgImVtcCBhcmFiZSAoMyw= (truncated)</td><td>pedidos</td><td>1</td><td>43</td><td>2025-09-11T11:16:48.056Z</td><td>0</td><td>null</td></tr><tr><td>NDAz</td><td>eyJpZCI6IDExNCwgIm1lc2EiOiA0MDMsICJjb21pZGEiOiBbInBlcGlub3MgZW4gY2hpbGUiLCAiYnV0aWZhcnJhIiwgImVtcCBob25nb3MgKDIsODApIiwgInRhcGFzIG1peHRhcyIsICJhbGJvbmRpZ2FzIGVuIGplcmV6Iiw= (truncated)</td><td>pedidos</td><td>1</td><td>44</td><td>2025-09-11T11:16:48.108Z</td><td>0</td><td>null</td></tr><tr><td>NTAx</td><td>eyJpZCI6IDEsICJtZXNhIjogNTAxLCAiY29taWRhIjogWyJlbXAgY2ViICgzLC0pIiwgInBpbmNob3MgbW9ydW5vcyIsICJtb2phbWEiLCAiZW1wYW5hZGEgYXJ2ZWphcyIsICJib3F1ZXJvbmVzIGZyaXRvcyIsICJ0YXBhIGQ= (truncated)</td><td>pedidos</td><td>0</td><td>0</td><td>2025-09-11T11:15:49.558Z</td><td>0</td><td>null</td></tr><tr><td>NDAy</td><td>eyJpZCI6IDYsICJtZXNhIjogNDAyLCAiY29taWRhIjogWyJjaG9yaXpvIGFsIHZpbm8gdGludG8iLCAiZ2FtYmFzIGFsIFwicGlscGlsXCIiLCAiYmVyZW5qZW5hcyBjIG1pZWwiLCAiZW1wIGh1bWl0YSAoMywtKSIsICJwaW4= (truncated)</td><td>pedidos</td><td>0</td><td>1</td><td>2025-09-11T11:15:52.429Z</td><td>0</td><td>null</td></tr><tr><td>MTA0</td><td>eyJpZCI6IDExLCAibWVzYSI6IDEwNCwgImNvbWlkYSI6IFsicGF0YXRhcyBhIGxhIHJpb2phbmEiLCAiYXNhZG8iXSwgImJlYmlkYSI6IFsibWFkdXJhZGEgZ3IuIHJlcyAxLzgiLCAibGEgZW5mZXJtZXJhIDEvOCIsICJwYXU= (truncated)</td><td>pedidos</td><td>0</td><td>2</td><td>2025-09-11T11:15:55.751Z</td><td>0</td><td>null</td></tr><tr><td>MTA0</td><td>eyJpZCI6IDEyLCAibWVzYSI6IDEwNCwgImNvbWlkYSI6IFsiYXNhZG8iLCAiZW1wYW5hZGEgYXJ2ZWphcyIsICJ0b3J0aWxsYSBkZSBlc3BpbmFjYXMiLCAicGFsbWl0b3MiLCAiZW1wYW5hZGEgaHVtaXRhIiwgInBlcGlub3M= (truncated)</td><td>pedidos</td><td>0</td><td>3</td><td>2025-09-11T11:15:56.104Z</td><td>0</td><td>null</td></tr><tr><td>MTAz</td><td>eyJpZCI6IDE1LCAibWVzYSI6IDEwMywgImNvbWlkYSI6IFsiY2hpbGkgc2luIGNhcm5lIl0sICJiZWJpZGEiOiBbImZydWNhZGUgMCwzMyIsICJzb2RhIDAsMjUiLCAibWFudGVsIGJsYW5jbyAxLzgiXSwgInRpbWVzdGFtcCI= (truncated)</td><td>pedidos</td><td>0</td><td>4</td><td>2025-09-11T11:15:56.825Z</td><td>0</td><td>null</td></tr><tr><td>NDAy</td><td>eyJpZCI6IDE5LCAibWVzYSI6IDQwMiwgImNvbWlkYSI6IFsibG9tbyBpYmVyaWNvIiwgImNydSBjaGlwcyBjZWNpbmEiLCAiZW1wIGhvbmdvcyAoMiw4MCkiLCAidGFwYXMgbWl4dGFzIGYuIDFwIiwgImFqbyBibGFuY28iXSw= (truncated)</td><td>pedidos</td><td>0</td><td>5</td><td>2025-09-11T11:15:59.548Z</td><td>0</td><td>null</td></tr><tr><td>NDA1</td><td>eyJpZCI6IDIyLCAibWVzYSI6IDQwNSwgImNvbWlkYSI6IFsiYWNlaXR1bmFzIGNvbiBhbmNob2FzIiwgImNob3Jpem8gYSBsYSBzaWRyYSIsICJlbXAgZXNwaW4gKDMsLSkiXSwgImJlYmlkYSI6IFsidHJlcyBtYXRhcyAxLzg= (truncated)</td><td>pedidos</td><td>0</td><td>6</td><td>2025-09-11T11:16:00.407Z</td><td>0</td><td>null</td></tr><tr><td>MTAz</td><td>eyJpZCI6IDI1LCAibWVzYSI6IDEwMywgImNvbWlkYSI6IFsiZW5zYWxhZGlsbGEgcnVzYSIsICJham8gYmxhbmNvIiwgInBvbGxvIGEgbGEgbW9zdGF6YSIsICJwYXRhdGFzIGEgbGEgcmlvamFuYSIsICJham8gYmxhbmNvIiw= (truncated)</td><td>pedidos</td><td>0</td><td>7</td><td>2025-09-11T11:16:01.805Z</td><td>0</td><td>null</td></tr><tr><td>MjAx</td><td>eyJpZCI6IDI4LCAibWVzYSI6IDIwMSwgImNvbWlkYSI6IFsiYWxib25kaWdhcyBlbiBqZXJleiIsICJmYWJhZGEgYXN0dXJpYW5hIiwgInBhdGF0YXMgYSBsYSByaW9qYW5hIiwgImVtcGFuYWRhIGhvbmdvcyIsICJsb21vIGk= (truncated)</td><td>pedidos</td><td>0</td><td>8</td><td>2025-09-11T11:16:02.961Z</td><td>0</td><td>null</td></tr><tr><td>MTAz</td><td>eyJpZCI6IDMyLCAibWVzYSI6IDEwMywgImNvbWlkYSI6IFsidGFwYSBkZWwgZGlhIDMiLCAibG9tbyBpYmVyaWNvIiwgImVtcCBodW1pdGEgKDMsLSkiLCAiYm9xdWVyb25lcyBmcml0b3MiLCAiZW1wIGFyYWJlICgzLC0pIiw= (truncated)</td><td>pedidos</td><td>0</td><td>9</td><td>2025-09-11T11:16:04.693Z</td><td>0</td><td>null</td></tr><tr><td>MTAy</td><td>eyJpZCI6IDM0LCAibWVzYSI6IDEwMiwgImNvbWlkYSI6IFsiYWNlaXR1bmFzIGNvbiBsaW1vbiIsICJjb3Jhem9uZXMgZGUgYWxjYWNob2ZhcyIsICJkYXRpbGVzIGFzYWRvcyBjL3NlcnJhbm8iLCAiZW1wIGVzcGluICgzLC0= (truncated)</td><td>pedidos</td><td>0</td><td>10</td><td>2025-09-11T11:16:05.725Z</td><td>0</td><td>null</td></tr><tr><td>MjA0</td><td>eyJpZCI6IDM2LCAibWVzYSI6IDIwNCwgImNvbWlkYSI6IFsiaHVldm9zIHJvdG9zIiwgInBhZWxsYSB2YWxlbmNpYW5hIiwgImJvcXVlcm9uZXMgZW4gdmluYWdyZSJdLCAiYmViaWRhIjogWyJsbGVicmUgMS84IiwgImNhbXA= (truncated)</td><td>pedidos</td><td>0</td><td>11</td><td>2025-09-11T11:16:06.505Z</td><td>0</td><td>null</td></tr><tr><td>MTAy</td><td>eyJpZCI6IDM4LCAibWVzYSI6IDEwMiwgImNvbWlkYSI6IFsiZW1wIDQgcXVlc29zICgyLDgwKSIsICJ0YXBhcyAxOCwtIl0sICJiZWJpZGEiOiBbInRpZXJyYSBidWVuYSAwLDdsIiwgInJhbW9uIGJpbGJhbyBjciAxLzgiLCA= (truncated)</td><td>pedidos</td><td>0</td><td>12</td><td>2025-09-11T11:16:07.702Z</td><td>0</td><td>null</td></tr><tr><td>NDA1</td><td>eyJpZCI6IDQyLCAibWVzYSI6IDQwNSwgImNvbWlkYSI6IFsiY3JlbWEgY2F0YWxhbmEiLCAiZW1wIGh1bWl0YSAoMiw4MCkiLCAidGFwYSBkZWwgZGlhIDEiLCAiYmVyZW5qZW5hcyBlbiBlc2NhYmVjaGUiLCAiZW1wIGh1bWk= (truncated)</td><td>pedidos</td><td>0</td><td>13</td><td>2025-09-11T11:16:10.894Z</td><td>0</td><td>null</td></tr><tr><td>NDAy</td><td>eyJpZCI6IDQ3LCAibWVzYSI6IDQwMiwgImNvbWlkYSI6IFsicGVwaW5vcyBlbiBjaGlsZSIsICJlbXAgaHVtaXRhICgzLC0pIiwgInRhY28gdHJpZ28iLCAiY29yZGVybyBhbCB2aW5vIiwgImJlcmVuamVuYXMgYyBtaWVsIiw= (truncated)</td><td>pedidos</td><td>0</td><td>14</td><td>2025-09-11T11:16:13.318Z</td><td>0</td><td>null</td></tr><tr><td>MTAy</td><td>eyJpZCI6IDUzLCAibWVzYSI6IDEwMiwgImNvbWlkYSI6IFsiZW1wIGhvbmdvcyAoMywtKSIsICJ0YXBhIGRlbCBkaWEgMSIsICJlbXAgcGljYW50ZSAoMywtKSIsICJ0YXBhIGRlbCBkaWEgNiIsICJlbXBhbmFkYSBhcnZlamE= (truncated)</td><td>pedidos</td><td>0</td><td>15</td><td>2025-09-11T11:16:16.183Z</td><td>0</td><td>null</td></tr><tr><td>NDA1</td><td>eyJpZCI6IDU0LCAibWVzYSI6IDQwNSwgImNvbWlkYSI6IFsicGFlbGxhIHZhbGVuY2lhbmEiLCAiZW1wYW5hZGEgcGljYW50ZSIsICJkYXRpbGVzIGFzYWRvcyBjL3NlcnJhbm8iLCAiZW1wIGNlYiAoMiw4MCkiLCAicGltaWU= (truncated)</td><td>pedidos</td><td>0</td><td>16</td><td>2025-09-11T11:16:16.887Z</td><td>0</td><td>null</td></tr><tr><td>NDAy</td><td>eyJpZCI6IDU1LCAibWVzYSI6IDQwMiwgImNvbWlkYSI6IFsicGltaWVudG9zIHJlbGxlbm9zIGMvIGhvbmdvcyIsICJwdWxwbyBlbiBjaWxhbnRybyIsICJlbXAgY2FybmUgKDMsLSkiLCAic29icmFzYWRhIiwgImNyb3F1ZXQ= (truncated)</td><td>pedidos</td><td>0</td><td>17</td><td>2025-09-11T11:16:17.765Z</td><td>0</td><td>null</td></tr><tr><td>NDA1</td><td>eyJpZCI6IDU3LCAibWVzYSI6IDQwNSwgImNvbWlkYSI6IFsidGFwYXMgMTgsNTAiLCAiZW1wIGVzcGluICgyLDgwKSIsICJlbXAgcGljYW50ZSAoMywtKSIsICJodWV2b3Mgcm90b3MiLCAic2FsbW9uIGVuIG1vam8iXSwgImI= (truncated)</td><td>pedidos</td><td>0</td><td>18</td><td>2025-09-11T11:16:19.151Z</td><td>0</td><td>null</td></tr><tr><td>NDA1</td><td>eyJpZCI6IDYxLCAibWVzYSI6IDQwNSwgImNvbWlkYSI6IFsidGVybmVyYSBlbiBzYWxzYSIsICJlbXBhbmFkYSBsZW50ZWphcyIsICJlbXAgcGljYW50ZSAoMiw4MCkiLCAiY2hvcml6byBhbCB2aW5vIHRpbnRvIiwgImFsYm8= (truncated)</td><td>pedidos</td><td>0</td><td>19</td><td>2025-09-11T11:16:22.54Z</td><td>0</td><td>null</td></tr><tr><td>MjAx</td><td>eyJpZCI6IDYyLCAibWVzYSI6IDIwMSwgImNvbWlkYSI6IFsiZXNwaW5hY2EgYy9wYXNhcyB5IHBpbm9uZXMiLCAiZW1wIGFydmVqYXMgKDMsLSkiLCAiYnV0aWZhcnJhIiwgInZhcmlhY2lvbiBkZSBxdWVzb3MiLCAiZW5zYWw= (truncated)</td><td>pedidos</td><td>0</td><td>20</td><td>2025-09-11T11:16:22.952Z</td><td>0</td><td>null</td></tr><tr><td>MTA2</td><td>eyJpZCI6IDY3LCAibWVzYSI6IDEwNiwgImNvbWlkYSI6IFsiYnJvdCIsICJ0YXBhcyAxNSwtIiwgImVtcCBhcmFiZSAoMywtKSIsICJlbXBhbmFkYSBsZW50ZWphcyIsICJwYWVsbGEgdmFsZW5jaWFuYSIsICJlbXAgaHVtaXQ= (truncated)</td><td>pedidos</td><td>0</td><td>21</td><td>2025-09-11T11:16:24.683Z</td><td>0</td><td>null</td></tr><tr><td>MTAz</td><td>eyJpZCI6IDcyLCAibWVzYSI6IDEwMywgImNvbWlkYSI6IFsiZmlsZXRlcyBkZSBhbmNob2FzIiwgImVtcCA0IHF1ZXNvcyAoMiw4MCkiLCAiZW1wYW5hZGEgYXR1biIsICJlbXAgYXR1biAoMywtKSIsICJwaW1pZW50b3MgcmU= (truncated)</td><td>pedidos</td><td>0</td><td>22</td><td>2025-09-11T11:16:28.399Z</td><td>0</td><td>null</td></tr><tr><td>NDA1</td><td>eyJpZCI6IDczLCAibWVzYSI6IDQwNSwgImNvbWlkYSI6IFsiZW1wYW5hZGEgY2FybmUiLCAic2FsbW9uIGVuIG1vam8iLCAiZW1wYW5hZGEgY2Vib2xsYSB5IHF1ZXNvIiwgInRhY28gcmFwZSIsICJicm90IiwgImRhdGlsZXM= (truncated)</td><td>pedidos</td><td>0</td><td>23</td><td>2025-09-11T11:16:28.525Z</td><td>0</td><td>null</td></tr><tr><td>NTAx</td><td>eyJpZCI6IDc5LCAibWVzYSI6IDUwMSwgImNvbWlkYSI6IFsiY2hpbGkgc2luIGNhcm5lIiwgImVtcCBjYXByZXNlICgyLDgwKSIsICJidXRpZmFycmEiLCAicXVlc28gZGUgb3ZlamEiLCAiY3JlbWEgY2F0YWxhbmEiLCAiZW0= (truncated)</td><td>pedidos</td><td>0</td><td>24</td><td>2025-09-11T11:16:30.419Z</td><td>0</td><td>null</td></tr><tr><td>MTAz</td><td>eyJpZCI6IDgwLCAibWVzYSI6IDEwMywgImNvbWlkYSI6IFsidGFwYXMgMTUsLSIsICJmaWxldGVzIGRlIGFuY2hvYXMiLCAiZW1wIGp5cSAoMywtKSIsICJlbXBhbmFkYSBjaXJ1ZWxhIHBhbmNldGEiXSwgImJlYmlkYSI6IFs= (truncated)</td><td>pedidos</td><td>0</td><td>25</td><td>2025-09-11T11:16:31.37Z</td><td>0</td><td>null</td></tr><tr><td>MTA0</td><td>eyJpZCI6IDgyLCAibWVzYSI6IDEwNCwgImNvbWlkYSI6IFsiZW1wIHBpY2FudGUgKDIsODApIiwgInBpbmNob3MgbW9ydW5vcyIsICJhY2VpdHVuYXMgY29uIGxpbW9uIiwgImVtcCBob25nb3MgKDMsLSkiLCAiYmVyZW5qZW4= (truncated)</td><td>pedidos</td><td>0</td><td>26</td><td>2025-09-11T11:16:31.836Z</td><td>0</td><td>null</td></tr><tr><td>NDA1</td><td>eyJpZCI6IDg1LCAibWVzYSI6IDQwNSwgImNvbWlkYSI6IFsiY2hpbGkgc2luIGNhcm5lIiwgImVtcGFuYWRhIHBpY2FudGUiLCAiZW1wIGNlYiAoMywtKSIsICJzYWxtb24gZW4gbW9qbyJdLCAiYmViaWRhIjogWyJoYWNpZW4= (truncated)</td><td>pedidos</td><td>0</td><td>27</td><td>2025-09-11T11:16:33.697Z</td><td>0</td><td>null</td></tr><tr><td>NDAy</td><td>eyJpZCI6IDkwLCAibWVzYSI6IDQwMiwgImNvbWlkYSI6IFsidGFwYXMgbWl4dGFzIGYuIDFwIl0sICJiZWJpZGEiOiBbImUubWVuZG96YSAwLDdsIiwgImVsIHRlcnJvaXIgMS84IiwgImVzcGlnYSAwLDdsIiwgImF2aW9yIHI= (truncated)</td><td>pedidos</td><td>0</td><td>28</td><td>2025-09-11T11:16:36.858Z</td><td>0</td><td>null</td></tr><tr><td>NDA1</td><td>eyJpZCI6IDkyLCAibWVzYSI6IDQwNSwgImNvbWlkYSI6IFsicGF0YXRhcyBhIGxhIHJpb2phbmEiLCAiYXNhZG8iLCAiYnV0aWZhcnJhIiwgInRhcGEgZGVsIGRpYSA0IiwgInBhZWxsYSB2YWxlbmNpYW5hIiwgImJvcXVlcm8= (truncated)</td><td>pedidos</td><td>0</td><td>29</td><td>2025-09-11T11:16:37.784Z</td><td>0</td><td>null</td></tr><tr><td>NDAy</td><td>eyJpZCI6IDkzLCAibWVzYSI6IDQwMiwgImNvbWlkYSI6IFsidGFwYSBkZWwgZGlhIDQiLCAiZ3VhY2Ftb2xlIiwgImVtcCBjZWIgKDIsODApIiwgImFqbyBibGFuY28iLCAiY2hvcml6byBmcml0byIsICJlbXBhbmFkYSBwb2w= (truncated)</td><td>pedidos</td><td>0</td><td>30</td><td>2025-09-11T11:16:38.508Z</td><td>0</td><td>null</td></tr><tr><td>NDAy</td><td>eyJpZCI6IDk0LCAibWVzYSI6IDQwMiwgImNvbWlkYSI6IFsiZW1wYW5hZGEgY2FybmUiLCAiZW1wIDQgcXVlc29zICgyLDgwKSIsICJ0YXBhcyBtaXh0YXMiLCAiZW1wIHBvbGxvICgyLDgwKSIsICJlbXAgcG9sbG8gKDMsLSk= (truncated)</td><td>pedidos</td><td>0</td><td>31</td><td>2025-09-11T11:16:38.753Z</td><td>0</td><td>null</td></tr><tr><td>MTA2</td><td>eyJpZCI6IDk5LCAibWVzYSI6IDEwNiwgImNvbWlkYSI6IFsiYm9xdWVyb25lcyBlbiB2aW5hZ3JlIiwgImNob3Jpem8gZnJpdG8iLCAidGFwYXMgMjAsLSIsICJnYW1iYXMgYWwgXCJwaWxwaWxcIiIsICJlbXAganlxICgzLC0= (truncated)</td><td>pedidos</td><td>0</td><td>32</td><td>2025-09-11T11:16:42.52Z</td><td>0</td><td>null</td></tr><tr><td>MTA0</td><td>eyJpZCI6IDEwMSwgIm1lc2EiOiAxMDQsICJjb21pZGEiOiBbImxvbW8gaWJlcmljbyIsICJsb21vIGliZXJpY28iLCAiZW1wIGFydmVqYXMgKDIsODApIiwgImVtcCBhcnZlamFzICgzLC0pIiwgInRhcGEgZGVsIGRpYSA3Iiw= (truncated)</td><td>pedidos</td><td>0</td><td>33</td><td>2025-09-11T11:16:43.161Z</td><td>0</td><td>null</td></tr><tr><td>MTAy</td><td>eyJpZCI6IDExMSwgIm1lc2EiOiAxMDIsICJjb21pZGEiOiBbImNob3Jpem8gYWwgdmlubyB0aW50byIsICJ0b3J0aWxsYSBkZSBlc3BpbmFjYXMiLCAiZHVsY2UgZGUgbWVtYnJpbGxvIiwgImRhdGlsZXMgYXNhZG9zIGMvc2U= (truncated)</td><td>pedidos</td><td>0</td><td>34</td><td>2025-09-11T11:16:47.565Z</td><td>0</td><td>null</td></tr><tr><td>NDA1</td><td>eyJpZCI6IDExMiwgIm1lc2EiOiA0MDUsICJjb21pZGEiOiBbInNhbG1vbiBlbiBtb2pvIiwgImNvcmRlcm8gYWwgdmlubyIsICJjaG9yaXpvIGFsIHZpbm8gdGludG8iLCAiZW1wIGNhcHJlc2UgKDIsODApIiwgImJyb3QiLCA= (truncated)</td><td>pedidos</td><td>0</td><td>35</td><td>2025-09-11T11:16:47.958Z</td><td>0</td><td>null</td></tr><tr><td>MTAy</td><td>eyJpZCI6IDExNiwgIm1lc2EiOiAxMDIsICJjb21pZGEiOiBbInB1bHBvIGVuIGNpbGFudHJvIiwgImNvcmF6b25lcyBkZSBhbGNhY2hvZmFzIiwgInNhbG1vbiBlbiBtb2pvIiwgImNydSBjaGlwcyBjZWNpbmEiLCAiZW1wIGM= (truncated)</td><td>pedidos</td><td>0</td><td>36</td><td>2025-09-11T11:16:49.044Z</td><td>0</td><td>null</td></tr></tbody></table></div>"
      ]
     },
     "metadata": {
      "application/vnd.databricks.v1+output": {
       "addedWidgets": {},
       "aggData": [],
       "aggError": "",
       "aggOverflow": false,
       "aggSchema": [],
       "aggSeriesLimitReached": false,
       "aggType": "",
       "arguments": {},
       "columnCustomDisplayInfos": {},
       "data": [
        [
         "MzAz",
         "eyJpZCI6IDIsICJtZXNhIjogMzAzLCAiY29taWRhIjogWyJlbXAgNCBxdWVzb3MgKDMsLSkiLCAiY29yYXpvbmVzIGRlIGFsY2FjaG9mYXMiLCAiZW1wYW5hZGEgbGVudGVqYXMiLCAicGluY2hvcyBtb3J1bm9zIiwgImVtcGE= (truncated)",
         "pedidos",
         2,
         0,
         "2025-09-11T11:15:50.844Z",
         0,
         null
        ],
        [
         "NTA0",
         "eyJpZCI6IDgsICJtZXNhIjogNTA0LCAiY29taWRhIjogWyJ0YWNvIHJhcGUiLCAibWFuY2hlZ28iLCAiZmFiYWRhIGFzdHVyaWFuYSIsICJmaWxldGVzIGRlIHNhcmRpbmFzIiwgImVtcGFuYWRhIGNlYm9sbGEgeSBxdWVzbyI= (truncated)",
         "pedidos",
         2,
         1,
         "2025-09-11T11:15:53.386Z",
         0,
         null
        ],
        [
         "MzAz",
         "eyJpZCI6IDksICJtZXNhIjogMzAzLCAiY29taWRhIjogWyJlbXAgY2ViICgyLDgwKSIsICJwdWxwbyBhIGxhIGdhbGxlZ2EiLCAiY2hpbGkgc2luIGNhcm5lIl0sICJiZWJpZGEiOiBbImVuYXRlIGNhYiAxLzgiLCAiY3VhdHI= (truncated)",
         "pedidos",
         2,
         2,
         "2025-09-11T11:15:54.365Z",
         0,
         null
        ],
        [
         "NDA0",
         "eyJpZCI6IDEwLCAibWVzYSI6IDQwNCwgImNvbWlkYSI6IFsiYWNlaXR1bmFzIGNvbiBsaW1vbiJdLCAiYmViaWRhIjogWyJlbmF0ZSBjYWIgMCw3bCJdLCAidGltZXN0YW1wIjogMTc1NzU4OTM1NDgyN30=",
         "pedidos",
         2,
         3,
         "2025-09-11T11:15:54.827Z",
         0,
         null
        ],
        [
         "NTAz",
         "eyJpZCI6IDEzLCAibWVzYSI6IDUwMywgImNvbWlkYSI6IFsiZW1wIHBvbGxvICgyLDgwKSIsICJmYWJhZGEgYXN0dXJpYW5hIiwgImVtcCBjZWIgKDIsODApIiwgImJlcmVuamVuYXMgYyBtaWVsIiwgImVtcGFuYWRhIGFyYWI= (truncated)",
         "pedidos",
         2,
         4,
         "2025-09-11T11:15:56.244Z",
         0,
         null
        ],
        [
         "MjAy",
         "eyJpZCI6IDIwLCAibWVzYSI6IDIwMiwgImNvbWlkYSI6IFsiZW1wIGxlbnRlamFzICgyLDgwKSJdLCAiYmViaWRhIjogWyJyaWNhcmRvIHNhbmNoZXogMS84IiwgInp3ZWlnZWx0IHN0cmF1c3MgMS84IiwgImNhbXBhcnJvbiA= (truncated)",
         "pedidos",
         2,
         5,
         "2025-09-11T11:15:59.659Z",
         0,
         null
        ],
        [
         "MTA1",
         "eyJpZCI6IDIxLCAibWVzYSI6IDEwNSwgImNvbWlkYSI6IFsidGFwYXMgbWl4dGFzIiwgInRhcGEgZGVsIGRpYSIsICJlbXAgYXJhYmUgKDIsODApIiwgImNob3Jpem8gZnJpdG8iLCAicGFsbWl0b3MiXSwgImJlYmlkYSI6IFs= (truncated)",
         "pedidos",
         2,
         6,
         "2025-09-11T11:15:59.709Z",
         0,
         null
        ],
        [
         "MTA1",
         "eyJpZCI6IDI0LCAibWVzYSI6IDEwNSwgImNvbWlkYSI6IFsiYnV0aWZhcnJhIiwgImxvbW8gYWRvYmFkbyIsICJ0YXBhIGRlbCBkaWEgNSIsICJlbXAgY2FwcmVzZSAoMiw4MCkiLCAiYWNlaXR1bmFzIGNvbiBsaW1vbiIsICI= (truncated)",
         "pedidos",
         2,
         7,
         "2025-09-11T11:16:01.663Z",
         0,
         null
        ],
        [
         "MjAy",
         "eyJpZCI6IDI2LCAibWVzYSI6IDIwMiwgImNvbWlkYSI6IFsidGFwYXMgbWl4dGFzIiwgInBvbGxvIGEgbGEgbW9zdGF6YSIsICJndWFjYW1vbGUiLCAicGFsbWl0b3MiLCAidGFwYSBkZWwgZGlhIl0sICJiZWJpZGEiOiBbImw= (truncated)",
         "pedidos",
         2,
         8,
         "2025-09-11T11:16:02.402Z",
         0,
         null
        ],
        [
         "NDA0",
         "eyJpZCI6IDI5LCAibWVzYSI6IDQwNCwgImNvbWlkYSI6IFsicGFuIHR1bWFjYSIsICJwaW1pZW50b3MgZGUgcGFkcm9uIiwgImFjZWl0dW5hcyBtaXgiLCAiZXNwaW5hY2EgYy9wYXNhcyB5IHBpbm9uZXMiLCAidG9ydGlsbGE= (truncated)",
         "pedidos",
         2,
         9,
         "2025-09-11T11:16:03.457Z",
         0,
         null
        ],
        [
         "MzAz",
         "eyJpZCI6IDMwLCAibWVzYSI6IDMwMywgImNvbWlkYSI6IFsiYWxib25kaWdhcyBlbiBqZXJleiIsICJjcmVtYSBjYXRhbGFuYSIsICJicm90IiwgInB1bHBvIGEgbGEgZ2FsbGVnYSIsICJlbXBhbmFkYSBwaWNhbnRlIiwgInQ= (truncated)",
         "pedidos",
         2,
         10,
         "2025-09-11T11:16:03.681Z",
         0,
         null
        ],
        [
         "MzAw",
         "eyJpZCI6IDMzLCAibWVzYSI6IDMwMCwgImNvbWlkYSI6IFsiYWpvIGJsYW5jbyIsICJlbXBhbmFkYSBjYXJuZSIsICJlbXAgY2FwcmVzZSAoMywtKSIsICJ0YWNvIHRyaWdvIiwgInNhbHptYW5kZWxuIiwgImJvcXVlcm9uZXM= (truncated)",
         "pedidos",
         2,
         11,
         "2025-09-11T11:16:04.954Z",
         0,
         null
        ],
        [
         "NDA0",
         "eyJpZCI6IDM3LCAibWVzYSI6IDQwNCwgImNvbWlkYSI6IFsiZ3VhY2Ftb2xlIiwgInRhcGEgZGVsIGRpYSA1IiwgInZhcmlhY2lvbiBkZSBxdWVzb3MiLCAiYWNlaXR1bmFzIGVuIGFkb2JvIiwgInBhbiB0dW1hY2EiXSwgImI= (truncated)",
         "pedidos",
         2,
         12,
         "2025-09-11T11:16:07.428Z",
         0,
         null
        ],
        [
         "MjAz",
         "eyJpZCI6IDQwLCAibWVzYSI6IDIwMywgImNvbWlkYSI6IFsiZW1wYW5hZGEgY2FwcmVzZSIsICJ0YXBhIGRlbCBkaWEgMyIsICJlbXBhbmFkYSBodW1pdGEiLCAiYmVyZW5qZW5hcyBjIG1pZWwiLCAiZW1wIGVzcGluICgyLDg= (truncated)",
         "pedidos",
         2,
         13,
         "2025-09-11T11:16:09.128Z",
         0,
         null
        ],
        [
         "NDA0",
         "eyJpZCI6IDQxLCAibWVzYSI6IDQwNCwgImNvbWlkYSI6IFsiZW1wIGh1bWl0YSAoMiw4MCkiLCAibW9qYW1hIiwgInNvYnJhc2FkYSIsICJlbXAgaHVtaXRhICgzLC0pIiwgImVtcCBhcnZlamFzICgzLC0pIiwgImVtcCBhcnY= (truncated)",
         "pedidos",
         2,
         14,
         "2025-09-11T11:16:09.934Z",
         0,
         null
        ],
        [
         "MjAz",
         "eyJpZCI6IDQzLCAibWVzYSI6IDIwMywgImNvbWlkYSI6IFsiYWpvIGJsYW5jbyIsICJwaXN0byIsICJ0YXBhIGRlbCBkaWEgNSIsICJqYW1vbiBpYmVyaWNvIiwgImFjZWl0dW5hcyBlbiBhZG9ibyIsICJlbXAgY2FybmUgKDM= (truncated)",
         "pedidos",
         2,
         15,
         "2025-09-11T11:16:11.576Z",
         0,
         null
        ],
        [
         "NDA0",
         "eyJpZCI6IDQ4LCAibWVzYSI6IDQwNCwgImNvbWlkYSI6IFsiZW1wIHBvbGxvICgzLC0pIl0sICJiZWJpZGEiOiBbImNhcnJlZHVlbmFzIDEvOCIsICJ5bGxlcmEgNS41IDAsN2wiLCAiY29sb3NzYWwgMCw3bCJdLCAidGltZXM= (truncated)",
         "pedidos",
         2,
         16,
         "2025-09-11T11:16:13.791Z",
         0,
         null
        ],
        [
         "NTAz",
         "eyJpZCI6IDQ5LCAibWVzYSI6IDUwMywgImNvbWlkYSI6IFsiY3JvcXVldGFzIl0sICJiZWJpZGEiOiBbInNhZnQgZ2VzcHJpdHp0IDAsMjUiLCAibWluZXJhbCAwLDc1Il0sICJ0aW1lc3RhbXAiOiAxNzU3NTg5Mzc0MzgwfQ==",
         "pedidos",
         2,
         17,
         "2025-09-11T11:16:14.38Z",
         0,
         null
        ],
        [
         "MzAz",
         "eyJpZCI6IDUyLCAibWVzYSI6IDMwMywgImNvbWlkYSI6IFsiYnV0aWZhcnJhIiwgInRvcnRpbGxhIGRlIGVzcGluYWNhcyIsICJ0b3J0aWxsYSBlc3Bhbm9sYSJdLCAiYmViaWRhIjogWyJjZXB1bnRvIG9ybyAwLDdsIiwgInI= (truncated)",
         "pedidos",
         2,
         18,
         "2025-09-11T11:16:15.863Z",
         0,
         null
        ],
        [
         "NTA0",
         "eyJpZCI6IDU2LCAibWVzYSI6IDUwNCwgImNvbWlkYSI6IFsiZW1wYW5hZGEgY2FybmUiLCAiZW1wYW5hZGEgYXJ2ZWphcyIsICJwYWVsbGEgdmFsZW5jaWFuYSIsICJqYW1vbiBpYmVyaWNvIiwgImZpbGV0ZXMgZGUgYW5jaG8= (truncated)",
         "pedidos",
         2,
         19,
         "2025-09-11T11:16:18.176Z",
         0,
         null
        ],
        [
         "MTA1",
         "eyJpZCI6IDY0LCAibWVzYSI6IDEwNSwgImNvbWlkYSI6IFsibWFuY2hlZ28iLCAic2FsbW9uIGVuIG1vam8iLCAiZW1wIGVzcGluICgyLDgwKSIsICJsb21vIGliZXJpY28iLCAicXVlc28gbWFob25lcyBmcml0byIsICJwaW0= (truncated)",
         "pedidos",
         2,
         20,
         "2025-09-11T11:16:23.313Z",
         0,
         null
        ],
        [
         "MjAz",
         "eyJpZCI6IDY1LCAibWVzYSI6IDIwMywgImNvbWlkYSI6IFsiZW1wIHBpY2FudGUgKDMsLSkiLCAibXVzbG8gZGUgcG9sbG8iLCAidGFwYXMgMTUsLSIsICJidXRpZmFycmEiLCAiZW1wIGhvbmdvcyAoMywtKSIsICJnYW1iYXM= (truncated)",
         "pedidos",
         2,
         21,
         "2025-09-11T11:16:23.581Z",
         0,
         null
        ],
        [
         "NTA0",
         "eyJpZCI6IDY5LCAibWVzYSI6IDUwNCwgImNvbWlkYSI6IFsicGVwaW5vcyBlbiBjaGlsZSIsICJ0YXBhcyAxOSwtIiwgImh1ZXZvcyByb3RvcyIsICJ0YXBhcyAxNSwtIiwgImZpbGV0ZXMgZGUgc2FyZGluYXMiLCAicGFuIHQ= (truncated)",
         "pedidos",
         2,
         22,
         "2025-09-11T11:16:26.41Z",
         0,
         null
        ],
        [
         "MzAz",
         "eyJpZCI6IDcwLCAibWVzYSI6IDMwMywgImNvbWlkYSI6IFsiZW1wYW5hZGEgNCBxdWVzb3MiLCAiZW1wYW5hZGEgYXR1biIsICJlbXAgY2FwcmVzZSAoMiw4MCkiLCAidGFwYSBkZWwgZGlhIDYiLCAiZW1wIHBpY2FudGUgKDI= (truncated)",
         "pedidos",
         2,
         23,
         "2025-09-11T11:16:26.958Z",
         0,
         null
        ],
        [
         "MjAy",
         "eyJpZCI6IDc0LCAibWVzYSI6IDIwMiwgImNvbWlkYSI6IFsibW9yY2lsbGEgYnVyZ29zIiwgImVtcCBwb2xsbyAoMywtKSIsICJlbXAgY2FwcmVzZSAoMywtKSIsICJwYXRhdGFzIGJyYXZhcyIsICJwdWxwbyBlbiBjaWxhbnQ= (truncated)",
         "pedidos",
         2,
         24,
         "2025-09-11T11:16:28.624Z",
         0,
         null
        ],
        [
         "MjAy",
         "eyJpZCI6IDg0LCAibWVzYSI6IDIwMiwgImNvbWlkYSI6IFsicGF0YXRhcyBhIGxhIHJpb2phbmEiLCAiYXNhZG8iXSwgImJlYmlkYSI6IFsidmFyYW5lIDAsN2wiLCAiendlaWdlbHQgc3RyYXVzcyAxLzgiLCAicmFtb24gYmk= (truncated)",
         "pedidos",
         2,
         25,
         "2025-09-11T11:16:33.581Z",
         0,
         null
        ],
        [
         "NDA0",
         "eyJpZCI6IDk1LCAibWVzYSI6IDQwNCwgImNvbWlkYSI6IFsib2pvIGRlIGJpZmUiLCAiY2hvcml6byBhIGxhIHNpZHJhIiwgImdhbWJhcyBhbCBcInBpbHBpbFwiIiwgInBlcGlub3MgZW4gY2hpbGUiLCAiZW1wYW5hZGEgaG8= (truncated)",
         "pedidos",
         2,
         26,
         "2025-09-11T11:16:39.407Z",
         0,
         null
        ],
        [
         "NDA0",
         "eyJpZCI6IDEwMCwgIm1lc2EiOiA0MDQsICJjb21pZGEiOiBbImVtcGFuYWRhIHBpY2FudGUiLCAidGFwYSBkZWwgZGlhIDEiLCAiZW1wYW5hZGEgZXNwaW5hY2EiLCAiZW1wYW5hZGEgcGljYW50ZSIsICJib3F1ZXJvbmVzIGU= (truncated)",
         "pedidos",
         2,
         27,
         "2025-09-11T11:16:42.627Z",
         0,
         null
        ],
        [
         "NTAz",
         "eyJpZCI6IDEwMiwgIm1lc2EiOiA1MDMsICJjb21pZGEiOiBbImVtcCBqeXEgKDIsODApIiwgInBhbG1pdG9zIiwgInF1ZXNvIGRlIG92ZWphIiwgImVtcCBjaXImcGFuICgzLC0pIiwgImVtcGFuYWRhIGNlYm9sbGEgeSBxdWU= (truncated)",
         "pedidos",
         2,
         28,
         "2025-09-11T11:16:44.13Z",
         0,
         null
        ],
        [
         "NTA0",
         "eyJpZCI6IDEwNCwgIm1lc2EiOiA1MDQsICJjb21pZGEiOiBbImJvbml0byBzb2JyZSBydWNjb2xhIiwgImVtcCBjaXImcGFuICgzLC0pIiwgInRhcGEgZGVsIGRpYSAxIiwgInRhcGEgZGVsIGRpYSIsICJlbXAgY2ViICgzLC0= (truncated)",
         "pedidos",
         2,
         29,
         "2025-09-11T11:16:44.532Z",
         0,
         null
        ],
        [
         "MjAz",
         "eyJpZCI6IDEwNSwgIm1lc2EiOiAyMDMsICJjb21pZGEiOiBbImVtcCBodW1pdGEgKDMsLSkiLCAidGFwYSBkZWwgZGlhIiwgInNhbG1vbiBlbiBtb2pvIl0sICJiZWJpZGEiOiBbInNjaGxhZG1pbmdlciAwLDMiLCAicGF1IDA= (truncated)",
         "pedidos",
         2,
         30,
         "2025-09-11T11:16:45.475Z",
         0,
         null
        ],
        [
         "NTAz",
         "eyJpZCI6IDEwNywgIm1lc2EiOiA1MDMsICJjb21pZGEiOiBbImVtcCBjYXJuZSAoMywtKSJdLCAiYmViaWRhIjogWyJtYXMgcGljb3NhIDAsN2wiLCAieWxsZXJhIDUuNSAxLzgiLCAid2VpbiBmbGFzY2hlIiwgInZpbmEgZXM= (truncated)",
         "pedidos",
         2,
         31,
         "2025-09-11T11:16:46.271Z",
         0,
         null
        ],
        [
         "MjAy",
         "eyJpZCI6IDExMCwgIm1lc2EiOiAyMDIsICJjb21pZGEiOiBbImFjZWl0dW5hcyBtaXgiLCAibG9tbyBpYmVyaWNvIiwgImVtcGFuYWRhIGh1bWl0YSIsICJ2YXJpYWNpb24gZGUgcXVlc29zIiwgImVtcCBodW1pdGEgKDMsLSk= (truncated)",
         "pedidos",
         2,
         32,
         "2025-09-11T11:16:47.239Z",
         0,
         null
        ],
        [
         "NTA0",
         "eyJpZCI6IDExNSwgIm1lc2EiOiA1MDQsICJjb21pZGEiOiBbImVtcGFuYWRhIDQgcXVlc29zIiwgInBhdGF0YXMgYnJhdmFzIiwgImVtcCBhdHVuICgzLC0pIiwgImVtcCBhcmFiZSAoMiw4MCkiLCAicGF0YXRhcyBicmF2YXM= (truncated)",
         "pedidos",
         2,
         33,
         "2025-09-11T11:16:48.803Z",
         0,
         null
        ],
        [
         "MzAz",
         "eyJpZCI6IDExNywgIm1lc2EiOiAzMDMsICJjb21pZGEiOiBbImVtcCBlc3BpbiAoMiw4MCkiXSwgImJlYmlkYSI6IFsidmFyYW5lIDEvOCIsICJkIG1vcmVubyBibGFuY28gYmFycmljYSAxLzgiXSwgInRpbWVzdGFtcCI6IDE= (truncated)",
         "pedidos",
         2,
         34,
         "2025-09-11T11:16:49.355Z",
         0,
         null
        ],
        [
         "MzAw",
         "eyJpZCI6IDExOCwgIm1lc2EiOiAzMDAsICJjb21pZGEiOiBbInRhcGEgZGVsIGRpYSA2IiwgInBpbmNob3MgbW9ydW5vcyIsICJwaW5jaG9zIG1vcnVub3MiLCAicGFlbGxhIHZhbGVuY2lhbmEiLCAicGVwaW5vcyBlbiBjaGk= (truncated)",
         "pedidos",
         2,
         35,
         "2025-09-11T11:16:49.393Z",
         0,
         null
        ],
        [
         "MTA1",
         "eyJpZCI6IDExOSwgIm1lc2EiOiAxMDUsICJjb21pZGEiOiBbImVtcCBsZW50ZWphcyAoMiw4MCkiLCAiZW1wIGh1bWl0YSAoMywtKSIsICJmaWxldGVzIGRlIGFuY2hvYXMiLCAiZW1wYW5hZGEgZXNwaW5hY2EiLCAiZW1wIGE= (truncated)",
         "pedidos",
         2,
         36,
         "2025-09-11T11:16:50.024Z",
         0,
         null
        ],
        [
         "NTA0",
         "eyJpZCI6IDEyMCwgIm1lc2EiOiA1MDQsICJjb21pZGEiOiBbImFzYWRvIiwgInF1ZXNvIG1haG9uZXMgZnJpdG8iLCAiY2hpbGkgc2luIGNhcm5lIiwgImVzcGluYWNhIGMvcGFzYXMgeSBwaW5vbmVzIl0sICJiZWJpZGEiOiA= (truncated)",
         "pedidos",
         2,
         37,
         "2025-09-11T11:16:50.796Z",
         0,
         null
        ],
        [
         "Mw==",
         "eyJpZCI6IDMsICJtZXNhIjogMywgImNvbWlkYSI6IFsiZ2FtYmFzIGFsIFwicGlscGlsXCIiLCAidGFwYSBkZWwgZGlhIDUiLCAidGFwYSBkZWwgZGlhIDciLCAidGFwYXMgMTksLSIsICJlbXAgbGVudGVqYXMgKDMsLSkiLCA= (truncated)",
         "pedidos",
         1,
         0,
         "2025-09-11T11:15:51.272Z",
         0,
         null
        ],
        [
         "MzAx",
         "eyJpZCI6IDQsICJtZXNhIjogMzAxLCAiY29taWRhIjogWyJlbXBhbmFkYSBqeXEiLCAiZW1wIGVzcGluICgzLC0pIl0sICJiZWJpZGEiOiBbImNvbmNlam8gMCw3bCIsICJ0ZXJyYSBkJ3VybyByb3MgMS84Il0sICJ0aW1lc3Q= (truncated)",
         "pedidos",
         1,
         1,
         "2025-09-11T11:15:51.913Z",
         0,
         null
        ],
        [
         "NTA1",
         "eyJpZCI6IDUsICJtZXNhIjogNTA1LCAiY29taWRhIjogWyJwYW4gdHVtYWNhIiwgImphbW9uIHNlcnJhbm8iLCAiZW1wYW5hZGEgNCBxdWVzb3MiLCAidGFwYSBkZWwgZGlhIiwgImVtcCBob25nb3MgKDMsLSkiLCAicXVlc28= (truncated)",
         "pedidos",
         1,
         2,
         "2025-09-11T11:15:52.158Z",
         0,
         null
        ],
        [
         "MTA4",
         "eyJpZCI6IDcsICJtZXNhIjogMTA4LCAiY29taWRhIjogWyJzYWxtb24gZW4gbW9qbyIsICJlbXAgY2ViICgzLC0pIiwgImNyb3F1ZXRhcyIsICJhY2VpdHVuYXMgY29uIGFuY2hvYXMiLCAiZW1wIGNlYiAoMywtKSIsICJwYWw= (truncated)",
         "pedidos",
         1,
         3,
         "2025-09-11T11:15:52.844Z",
         0,
         null
        ],
        [
         "MzAx",
         "eyJpZCI6IDE0LCAibWVzYSI6IDMwMSwgImNvbWlkYSI6IFsicGFlbGxhIHZhbGVuY2lhbmEiLCAiZW1wIGNpciZwYW4gKDMsLSkiLCAiYm9xdWVyb25lcyBmcml0b3MiLCAiYnJvdCIsICJwb2xsbyBhIGxhIG1vc3RhemEiLCA= (truncated)",
         "pedidos",
         1,
         4,
         "2025-09-11T11:15:56.608Z",
         0,
         null
        ],
        [
         "Ng==",
         "eyJpZCI6IDE2LCAibWVzYSI6IDYsICJjb21pZGEiOiBbImVtcCBwaWNhbnRlICgzLC0pIiwgImVtcGFuYWRhIGFydmVqYXMiLCAidmFyaWFjaW9uIGRlIHF1ZXNvcyJdLCAiYmViaWRhIjogWyJpbnVycmlldGEgbm9ydGUgMS8= (truncated)",
         "pedidos",
         1,
         5,
         "2025-09-11T11:15:57.667Z",
         0,
         null
        ],
        [
         "MzAx",
         "eyJpZCI6IDE3LCAibWVzYSI6IDMwMSwgImNvbWlkYSI6IFsic2FsbW9uIGVuIG1vam8iLCAidGFwYSBkZWwgZGlhIDQiLCAiZW1wYW5hZGEganlxIiwgImVtcCBhcnZlamFzICgyLDgwKSIsICJ0YXBhIGRlbCBkaWEgMyIsICI= (truncated)",
         "pedidos",
         1,
         6,
         "2025-09-11T11:15:58.612Z",
         0,
         null
        ],
        [
         "MzAy",
         "eyJpZCI6IDE4LCAibWVzYSI6IDMwMiwgImNvbWlkYSI6IFsiZW1wYW5hZGEgYXJ2ZWphcyIsICJwdWxwbyBlbiBjaWxhbnRybyIsICJ0YXBhIGRlbCBkaWEgNSIsICJjaG9yaXpvIGZyaXRvIiwgImVtcCBodW1pdGEgKDMsLSk= (truncated)",
         "pedidos",
         1,
         7,
         "2025-09-11T11:15:58.821Z",
         0,
         null
        ],
        [
         "MzAx",
         "eyJpZCI6IDIzLCAibWVzYSI6IDMwMSwgImNvbWlkYSI6IFsiZW1wIGhvbmdvcyAoMiw4MCkiLCAidGFwYXMgMjAsLSIsICJlbXBhbmFkYSBlc3BpbmFjYSIsICJ0YXBhIGRlbCBkaWEgNSIsICJqYW1vbiBpYmVyaWNvIl0sICI= (truncated)",
         "pedidos",
         1,
         8,
         "2025-09-11T11:16:01.211Z",
         0,
         null
        ],
        [
         "MzAx",
         "eyJpZCI6IDI3LCAibWVzYSI6IDMwMSwgImNvbWlkYSI6IFsic2FsbW9uIGVuIG1vam8iLCAiYWNlaXR1bmFzIGNvbiBhbmNob2FzIiwgImVtcGFuYWRhIGxlbnRlamFzIiwgImR1bGNlIGRlIG1lbWJyaWxsbyIsICJtb3JjaWw= (truncated)",
         "pedidos",
         1,
         9,
         "2025-09-11T11:16:02.521Z",
         0,
         null
        ],
        [
         "NDAz",
         "eyJpZCI6IDMxLCAibWVzYSI6IDQwMywgImNvbWlkYSI6IFsidGFwYXMgMTUsLSIsICJlbXAganlxICgyLDgwKSIsICJiYWNhbGFvIGZyaXRvIiwgImVtcCA0IHF1ZXNvcyAoMywtKSIsICJlbXBhbmFkYSBwb2xsbyJdLCAiYmU= (truncated)",
         "pedidos",
         1,
         10,
         "2025-09-11T11:16:04.52Z",
         0,
         null
        ],
        [
         "MzAx",
         "eyJpZCI6IDM1LCAibWVzYSI6IDMwMSwgImNvbWlkYSI6IFsiZW1wIGp5cSAoMywtKSIsICJjZWNpbmEiLCAidGFwYSBkZWwgZGlhIDEiLCAiZW1wIHBpY2FudGUgKDIsODApIiwgInRvcnRpbGxhIGVzcGFub2xhIiwgInB1bHA= (truncated)",
         "pedidos",
         1,
         11,
         "2025-09-11T11:16:06.207Z",
         0,
         null
        ],
        [
         "MTA4",
         "eyJpZCI6IDM5LCAibWVzYSI6IDEwOCwgImNvbWlkYSI6IFsiZW1wYW5hZGEgaG9uZ29zIiwgInRvcnRpbGxhIGRlIGVzcGluYWNhcyIsICJodWV2b3Mgcm90b3MiLCAiamFtb24gaWJlcmljbyIsICJqYW1vbiBpYmVyaWNvIl0= (truncated)",
         "pedidos",
         1,
         12,
         "2025-09-11T11:16:08.371Z",
         0,
         null
        ],
        [
         "NTA1",
         "eyJpZCI6IDQ0LCAibWVzYSI6IDUwNSwgImNvbWlkYSI6IFsiZW1wIGNhcm5lICgzLC0pIiwgInBhdGF0YXMgYnJhdmFzIiwgImVtcCBsZW50ZWphcyAoMiw4MCkiLCAiZHVsY2UgZGUgbWVtYnJpbGxvIiwgImVtcCBlc3BpbiA= (truncated)",
         "pedidos",
         1,
         13,
         "2025-09-11T11:16:11.961Z",
         0,
         null
        ],
        [
         "MzAx",
         "eyJpZCI6IDQ1LCAibWVzYSI6IDMwMSwgImNvbWlkYSI6IFsiZW1wIGh1bWl0YSAoMywtKSIsICJ0YXBhcyAxOCwtIiwgImVtcGFuYWRhIHBpY2FudGUiLCAicGFlbGxhIHZhbGVuY2lhbmEiLCAicGVwaW5vcyBlbiBjaGlsZSI= (truncated)",
         "pedidos",
         1,
         14,
         "2025-09-11T11:16:12.208Z",
         0,
         null
        ],
        [
         "MzAx",
         "eyJpZCI6IDQ2LCAibWVzYSI6IDMwMSwgImNvbWlkYSI6IFsiZW1wIGp5cSAoMiw4MCkiLCAiZW1wIGNpciZwYW4gKDIsODApIiwgImVtcCBlc3BpbiAoMywtKSIsICJzZXRhcyBhbCBcInBpbHBpbFwiIl0sICJiZWJpZGEiOiA= (truncated)",
         "pedidos",
         1,
         15,
         "2025-09-11T11:16:12.482Z",
         0,
         null
        ],
        [
         "Ng==",
         "eyJpZCI6IDUwLCAibWVzYSI6IDYsICJjb21pZGEiOiBbImNob3JpcGFuIiwgInBpbmNob3MgbW9ydW5vcyIsICJwdWxwbyBlbiBjaWxhbnRybyJdLCAiYmViaWRhIjogWyJlYmFuaXN0YSAwLDdsIiwgImVuYXRlIDEvOCJdLCA= (truncated)",
         "pedidos",
         1,
         16,
         "2025-09-11T11:16:15.292Z",
         0,
         null
        ],
        [
         "MzAy",
         "eyJpZCI6IDUxLCAibWVzYSI6IDMwMiwgImNvbWlkYSI6IFsiZW1wIGhvbmdvcyAoMiw4MCkiLCAiY2hpbGkgc2luIGNhcm5lIiwgImVtcCBhdHVuICgzLC0pIiwgImFjZWl0dW5hcyBlbiBhZG9ibyIsICJiZXJlbmplbmFzIGM= (truncated)",
         "pedidos",
         1,
         17,
         "2025-09-11T11:16:15.787Z",
         0,
         null
        ],
        [
         "MzAy",
         "eyJpZCI6IDU4LCAibWVzYSI6IDMwMiwgImNvbWlkYSI6IFsidGFwYXMgbWl4dGFzIiwgInRhcGEgZGVsIGRpYSIsICJjcmVtYSBjYXRhbGFuYSIsICJwYWxtaXRvcyIsICJlbXAgY2ViICgzLC0pIiwgImNydSBjaGlwcyBjZWM= (truncated)",
         "pedidos",
         1,
         18,
         "2025-09-11T11:16:19.763Z",
         0,
         null
        ],
        [
         "NTAy",
         "eyJpZCI6IDU5LCAibWVzYSI6IDUwMiwgImNvbWlkYSI6IFsidGFjbyByYXBlIiwgInRhcGEgZGVsIGRpYSA1IiwgImVtcGFuYWRhIDQgcXVlc29zIiwgImVtcGFuYWRhIGh1bWl0YSIsICJhY2VpdHVuYXMgZW4gYWRvYm8iXSw= (truncated)",
         "pedidos",
         1,
         19,
         "2025-09-11T11:16:20.607Z",
         0,
         null
        ],
        [
         "MTA3",
         "eyJpZCI6IDYwLCAibWVzYSI6IDEwNywgImNvbWlkYSI6IFsiZW1wIGF0dW4gKDMsLSkiLCAidGFwYXMgMTksLSIsICJwYWVsbGEgdmFsZW5jaWFuYSIsICJhY2VpdHVuYXMgY29uIGFuY2hvYXMiLCAicGVwaW5vcyBlbiBjaGk= (truncated)",
         "pedidos",
         1,
         20,
         "2025-09-11T11:16:21.603Z",
         0,
         null
        ],
        [
         "MTA4",
         "eyJpZCI6IDYzLCAibWVzYSI6IDEwOCwgImNvbWlkYSI6IFsicGVwaW5vcyBlbiBjaGlsZSIsICJzYWxtb24gZW4gbW9qbyJdLCAiYmViaWRhIjogWyJjYXJyZWR1ZW5hcyAxLzgiLCAiY2FtcGFycm9uIGNyaWFuemEgMCw3bCI= (truncated)",
         "pedidos",
         1,
         21,
         "2025-09-11T11:16:22.998Z",
         0,
         null
        ],
        [
         "NTAy",
         "eyJpZCI6IDY2LCAibWVzYSI6IDUwMiwgImNvbWlkYSI6IFsiZW1wYW5hZGEgcG9sbG8iLCAidGFwYSBkZWwgZGlhIDEiLCAiZW1wIGp5cSAoMywtKSIsICJidXRpZmFycmEiLCAiZW1wIGp5cSAoMywtKSIsICJtb3JjaWxsYSA= (truncated)",
         "pedidos",
         1,
         22,
         "2025-09-11T11:16:23.874Z",
         0,
         null
        ],
        [
         "NTA1",
         "eyJpZCI6IDY4LCAibWVzYSI6IDUwNSwgImNvbWlkYSI6IFsicGltaWVudG9zIHJlbGxlbm9zIGMvIGhvbmdvcyIsICJiZXJlbmplbmFzIGVuIGVzY2FiZWNoZSIsICJwaW1pZW50b3MgcmVsbGVub3MgYy8gaG9uZ29zIiwgImc= (truncated)",
         "pedidos",
         1,
         23,
         "2025-09-11T11:16:25.709Z",
         0,
         null
        ],
        [
         "MTA3",
         "eyJpZCI6IDcxLCAibWVzYSI6IDEwNywgImNvbWlkYSI6IFsiZW1wYW5hZGEganlxIiwgImxvbW8gaWJlcmljbyIsICJ0YXBhIGRlbCBkaWEgNyIsICJxdWVzbyBtYWhvbmVzIGZyaXRvIiwgInZhcmlhY2lvbiBkZSBxdWVzb3M= (truncated)",
         "pedidos",
         1,
         24,
         "2025-09-11T11:16:27.792Z",
         0,
         null
        ],
        [
         "Mw==",
         "eyJpZCI6IDc1LCAibWVzYSI6IDMsICJjb21pZGEiOiBbImFjZWl0dW5hcyBlbiBhZG9ibyJdLCAiYmViaWRhIjogWyJ2YXJhbmUgMS84IiwgIndlaW4gZXh0cmEiLCAiY2VydmV6YSBzcGFuaXNjaCAwLDMzIl0sICJ0aW1lc3Q= (truncated)",
         "pedidos",
         1,
         25,
         "2025-09-11T11:16:29.462Z",
         0,
         null
        ],
        [
         "NDAz",
         "eyJpZCI6IDc2LCAibWVzYSI6IDQwMywgImNvbWlkYSI6IFsidGFjbyB0cmlnbyIsICJlbXAgY2lyJnBhbiAoMywtKSIsICJwaXN0byIsICJqYW1vbiBzZXJyYW5vIiwgIm1hbmNoZWdvIiwgImFjZWl0dW5hcyBlbiBhZG9ibyI= (truncated)",
         "pedidos",
         1,
         26,
         "2025-09-11T11:16:29.718Z",
         0,
         null
        ],
        [
         "MTA4",
         "eyJpZCI6IDc3LCAibWVzYSI6IDEwOCwgImNvbWlkYSI6IFsicGltaWVudG9zIGRlIHBhZHJvbiIsICJiZXJlbmplbmFzIGMgbWllbCJdLCAiYmViaWRhIjogWyJrYWlrZW4gMCw3bCIsICJjYW1wYXJyb24gcmVzZXJ2YSAxLzg= (truncated)",
         "pedidos",
         1,
         27,
         "2025-09-11T11:16:29.883Z",
         0,
         null
        ],
        [
         "MTA3",
         "eyJpZCI6IDc4LCAibWVzYSI6IDEwNywgImNvbWlkYSI6IFsiZW1wYW5hZGEgNCBxdWVzb3MiLCAiZW1wIGVzcGluICgyLDgwKSIsICJjcmVtYSBjYXRhbGFuYSIsICJlbXAgYXJhYmUgKDMsLSkiLCAiYWNlaXR1bmFzIGNvbiA= (truncated)",
         "pedidos",
         1,
         28,
         "2025-09-11T11:16:30.27Z",
         0,
         null
        ],
        [
         "MzAx",
         "eyJpZCI6IDgxLCAibWVzYSI6IDMwMSwgImNvbWlkYSI6IFsiZW1wIGNhcHJlc2UgKDMsLSkiLCAiZW1wYW5hZGEgcG9sbG8iLCAibG9tbyBpYmVyaWNvIiwgImVuc2FsYWRpbGxhIHJ1c2EiLCAiY2hvcmlwYW4iLCAicXVlc28= (truncated)",
         "pedidos",
         1,
         29,
         "2025-09-11T11:16:31.485Z",
         0,
         null
        ],
        [
         "NTAy",
         "eyJpZCI6IDgzLCAibWVzYSI6IDUwMiwgImNvbWlkYSI6IFsiY2VjaW5hIiwgImVtcCBjYXByZXNlICgyLDgwKSIsICJtb3JjaWxsYSBidXJnb3MiXSwgImJlYmlkYSI6IFsiZCBtb3Jlbm8gYmxhbmNvIGJhcnJpY2EgMS84Iiw= (truncated)",
         "pedidos",
         1,
         30,
         "2025-09-11T11:16:32.767Z",
         0,
         null
        ],
        [
         "MzAy",
         "eyJpZCI6IDg2LCAibWVzYSI6IDMwMiwgImNvbWlkYSI6IFsiamFtb24gc2VycmFubyIsICJjcnUgY2hpcHMgY2VjaW5hIiwgImFzYWRvIiwgImNob3Jpem8gZnJpdG8iLCAic2V0YXMgYWwgXCJwaWxwaWxcIiIsICJiYWNhbGE= (truncated)",
         "pedidos",
         1,
         31,
         "2025-09-11T11:16:34.424Z",
         0,
         null
        ],
        [
         "NTA1",
         "eyJpZCI6IDg3LCAibWVzYSI6IDUwNSwgImNvbWlkYSI6IFsiYm9uaXRvIHNvYnJlIHJ1Y2NvbGEiLCAibXVzbG8gZGUgcG9sbG8iLCAiaHVldm9zIHJvdG9zIiwgInRhY28gcmFwZSIsICJjaG9yaXpvIGEgbGEgc2lkcmEiXSw= (truncated)",
         "pedidos",
         1,
         32,
         "2025-09-11T11:16:34.877Z",
         0,
         null
        ],
        [
         "MTA3",
         "eyJpZCI6IDg4LCAibWVzYSI6IDEwNywgImNvbWlkYSI6IFsiZW1wIGNhcm5lICgyLDgwKSIsICJ0YXBhIGRlbCBkaWEgMiIsICJxdWVzbyBtYWhvbmVzIGZyaXRvIiwgImVtcCA0IHF1ZXNvcyAoMiw4MCkiLCAiY2hvcmlwYW4= (truncated)",
         "pedidos",
         1,
         33,
         "2025-09-11T11:16:35.179Z",
         0,
         null
        ],
        [
         "MTA4",
         "eyJpZCI6IDg5LCAibWVzYSI6IDEwOCwgImNvbWlkYSI6IFsicGltaWVudG9zIGRlIHBhZHJvbiIsICJ0YXBhIGRlbCBkaWEgNiIsICJlbXAgaG9uZ29zICgyLDgwKSIsICJsb21vIGliZXJpY28iLCAiYmFjYWxhbyBmcml0byI= (truncated)",
         "pedidos",
         1,
         34,
         "2025-09-11T11:16:35.912Z",
         0,
         null
        ],
        [
         "MzAx",
         "eyJpZCI6IDkxLCAibWVzYSI6IDMwMSwgImNvbWlkYSI6IFsiZW1wYW5hZGEgaHVtaXRhIiwgInRhY28gdHJpZ28iXSwgImJlYmlkYSI6IFsibW9udGV2YW5ub3MgMS84IiwgImFtYmF0YSAwLDdsIiwgInRlcnJhIGQndXJvIHM= (truncated)",
         "pedidos",
         1,
         35,
         "2025-09-11T11:16:37.665Z",
         0,
         null
        ],
        [
         "MzAx",
         "eyJpZCI6IDk2LCAibWVzYSI6IDMwMSwgImNvbWlkYSI6IFsidGFwYSBkZWwgZGlhIDIiLCAidG9ydGlsbGEgZGUgZXNwaW5hY2FzIiwgInF1ZXNvIGRlIG92ZWphIiwgImVtcCA0IHF1ZXNvcyAoMywtKSIsICJwZXBpbm9zIGU= (truncated)",
         "pedidos",
         1,
         36,
         "2025-09-11T11:16:39.936Z",
         0,
         null
        ],
        [
         "NTAy",
         "eyJpZCI6IDk3LCAibWVzYSI6IDUwMiwgImNvbWlkYSI6IFsiZmlsZXRlcyBkZSBzYXJkaW5hcyIsICJjcnUgY2hpcHMgY2VjaW5hIiwgInBhbG1pdG9zIiwgImVtcCBjYXByZXNlICgzLC0pIiwgImJyb3QgZ2YiLCAiYnJvdCI= (truncated)",
         "pedidos",
         1,
         37,
         "2025-09-11T11:16:40.946Z",
         0,
         null
        ],
        [
         "MTA3",
         "eyJpZCI6IDk4LCAibWVzYSI6IDEwNywgImNvbWlkYSI6IFsidG9ydGlsbGEgZGUgZXNwaW5hY2FzIiwgImVtcCBhdHVuICgzLC0pIiwgImVtcCBjZWIgKDMsLSkiLCAiZW1wYW5hZGEgYXJ2ZWphcyIsICJwaW5jaG9zIG1vcnU= (truncated)",
         "pedidos",
         1,
         38,
         "2025-09-11T11:16:41.871Z",
         0,
         null
        ],
        [
         "NDAz",
         "eyJpZCI6IDEwMywgIm1lc2EiOiA0MDMsICJjb21pZGEiOiBbImVtcCBqeXEgKDIsODApIiwgImJhY2FsYW8gZnJpdG8iLCAiYmFjYWxhbyBmcml0byIsICJjaG9yaXBhbiIsICJlbXAgY2FwcmVzZSAoMywtKSIsICJ0YXBhcyA= (truncated)",
         "pedidos",
         1,
         39,
         "2025-09-11T11:16:44.326Z",
         0,
         null
        ],
        [
         "NTA1",
         "eyJpZCI6IDEwNiwgIm1lc2EiOiA1MDUsICJjb21pZGEiOiBbInF1ZXNvIGRlIG92ZWphIiwgInZhcmlhY2lvbiBkZSBxdWVzb3MiLCAiZW1wYW5hZGEgY2Vib2xsYSB5IHF1ZXNvIiwgInRhcGEgZGVsIGRpYSIsICJlbXAgY2k= (truncated)",
         "pedidos",
         1,
         40,
         "2025-09-11T11:16:46.193Z",
         0,
         null
        ],
        [
         "Mw==",
         "eyJpZCI6IDEwOCwgIm1lc2EiOiAzLCAiY29taWRhIjogWyJlbXAgY2lyJnBhbiAoMiw4MCkiLCAiY2hvcml6byBmcml0byIsICJ0YXBhIGRlbCBkaWEgMyIsICJlbXAgY2lyJnBhbiAoMywtKSIsICJlbXAgY2FwcmVzZSAoMyw= (truncated)",
         "pedidos",
         1,
         41,
         "2025-09-11T11:16:46.987Z",
         0,
         null
        ],
        [
         "MTA3",
         "eyJpZCI6IDEwOSwgIm1lc2EiOiAxMDcsICJjb21pZGEiOiBbImFjZWl0dW5hcyBlbiBhZG9ibyIsICJ0YXBhcyAyMCwtIiwgImVtcGFuYWRhIGNlYm9sbGEgeSBxdWVzbyIsICJlbXBhbmFkYSBob25nb3MiXSwgImJlYmlkYSI= (truncated)",
         "pedidos",
         1,
         42,
         "2025-09-11T11:16:47.202Z",
         0,
         null
        ],
        [
         "NTA1",
         "eyJpZCI6IDExMywgIm1lc2EiOiA1MDUsICJjb21pZGEiOiBbImphbW9uIHNlcnJhbm8iLCAicHVscG8gYSBsYSBnYWxsZWdhIiwgInRhcGFzIDE5LC0iLCAidG9ydGlsbGEgZGUgZXNwaW5hY2FzIiwgImVtcCBhcmFiZSAoMyw= (truncated)",
         "pedidos",
         1,
         43,
         "2025-09-11T11:16:48.056Z",
         0,
         null
        ],
        [
         "NDAz",
         "eyJpZCI6IDExNCwgIm1lc2EiOiA0MDMsICJjb21pZGEiOiBbInBlcGlub3MgZW4gY2hpbGUiLCAiYnV0aWZhcnJhIiwgImVtcCBob25nb3MgKDIsODApIiwgInRhcGFzIG1peHRhcyIsICJhbGJvbmRpZ2FzIGVuIGplcmV6Iiw= (truncated)",
         "pedidos",
         1,
         44,
         "2025-09-11T11:16:48.108Z",
         0,
         null
        ],
        [
         "NTAx",
         "eyJpZCI6IDEsICJtZXNhIjogNTAxLCAiY29taWRhIjogWyJlbXAgY2ViICgzLC0pIiwgInBpbmNob3MgbW9ydW5vcyIsICJtb2phbWEiLCAiZW1wYW5hZGEgYXJ2ZWphcyIsICJib3F1ZXJvbmVzIGZyaXRvcyIsICJ0YXBhIGQ= (truncated)",
         "pedidos",
         0,
         0,
         "2025-09-11T11:15:49.558Z",
         0,
         null
        ],
        [
         "NDAy",
         "eyJpZCI6IDYsICJtZXNhIjogNDAyLCAiY29taWRhIjogWyJjaG9yaXpvIGFsIHZpbm8gdGludG8iLCAiZ2FtYmFzIGFsIFwicGlscGlsXCIiLCAiYmVyZW5qZW5hcyBjIG1pZWwiLCAiZW1wIGh1bWl0YSAoMywtKSIsICJwaW4= (truncated)",
         "pedidos",
         0,
         1,
         "2025-09-11T11:15:52.429Z",
         0,
         null
        ],
        [
         "MTA0",
         "eyJpZCI6IDExLCAibWVzYSI6IDEwNCwgImNvbWlkYSI6IFsicGF0YXRhcyBhIGxhIHJpb2phbmEiLCAiYXNhZG8iXSwgImJlYmlkYSI6IFsibWFkdXJhZGEgZ3IuIHJlcyAxLzgiLCAibGEgZW5mZXJtZXJhIDEvOCIsICJwYXU= (truncated)",
         "pedidos",
         0,
         2,
         "2025-09-11T11:15:55.751Z",
         0,
         null
        ],
        [
         "MTA0",
         "eyJpZCI6IDEyLCAibWVzYSI6IDEwNCwgImNvbWlkYSI6IFsiYXNhZG8iLCAiZW1wYW5hZGEgYXJ2ZWphcyIsICJ0b3J0aWxsYSBkZSBlc3BpbmFjYXMiLCAicGFsbWl0b3MiLCAiZW1wYW5hZGEgaHVtaXRhIiwgInBlcGlub3M= (truncated)",
         "pedidos",
         0,
         3,
         "2025-09-11T11:15:56.104Z",
         0,
         null
        ],
        [
         "MTAz",
         "eyJpZCI6IDE1LCAibWVzYSI6IDEwMywgImNvbWlkYSI6IFsiY2hpbGkgc2luIGNhcm5lIl0sICJiZWJpZGEiOiBbImZydWNhZGUgMCwzMyIsICJzb2RhIDAsMjUiLCAibWFudGVsIGJsYW5jbyAxLzgiXSwgInRpbWVzdGFtcCI= (truncated)",
         "pedidos",
         0,
         4,
         "2025-09-11T11:15:56.825Z",
         0,
         null
        ],
        [
         "NDAy",
         "eyJpZCI6IDE5LCAibWVzYSI6IDQwMiwgImNvbWlkYSI6IFsibG9tbyBpYmVyaWNvIiwgImNydSBjaGlwcyBjZWNpbmEiLCAiZW1wIGhvbmdvcyAoMiw4MCkiLCAidGFwYXMgbWl4dGFzIGYuIDFwIiwgImFqbyBibGFuY28iXSw= (truncated)",
         "pedidos",
         0,
         5,
         "2025-09-11T11:15:59.548Z",
         0,
         null
        ],
        [
         "NDA1",
         "eyJpZCI6IDIyLCAibWVzYSI6IDQwNSwgImNvbWlkYSI6IFsiYWNlaXR1bmFzIGNvbiBhbmNob2FzIiwgImNob3Jpem8gYSBsYSBzaWRyYSIsICJlbXAgZXNwaW4gKDMsLSkiXSwgImJlYmlkYSI6IFsidHJlcyBtYXRhcyAxLzg= (truncated)",
         "pedidos",
         0,
         6,
         "2025-09-11T11:16:00.407Z",
         0,
         null
        ],
        [
         "MTAz",
         "eyJpZCI6IDI1LCAibWVzYSI6IDEwMywgImNvbWlkYSI6IFsiZW5zYWxhZGlsbGEgcnVzYSIsICJham8gYmxhbmNvIiwgInBvbGxvIGEgbGEgbW9zdGF6YSIsICJwYXRhdGFzIGEgbGEgcmlvamFuYSIsICJham8gYmxhbmNvIiw= (truncated)",
         "pedidos",
         0,
         7,
         "2025-09-11T11:16:01.805Z",
         0,
         null
        ],
        [
         "MjAx",
         "eyJpZCI6IDI4LCAibWVzYSI6IDIwMSwgImNvbWlkYSI6IFsiYWxib25kaWdhcyBlbiBqZXJleiIsICJmYWJhZGEgYXN0dXJpYW5hIiwgInBhdGF0YXMgYSBsYSByaW9qYW5hIiwgImVtcGFuYWRhIGhvbmdvcyIsICJsb21vIGk= (truncated)",
         "pedidos",
         0,
         8,
         "2025-09-11T11:16:02.961Z",
         0,
         null
        ],
        [
         "MTAz",
         "eyJpZCI6IDMyLCAibWVzYSI6IDEwMywgImNvbWlkYSI6IFsidGFwYSBkZWwgZGlhIDMiLCAibG9tbyBpYmVyaWNvIiwgImVtcCBodW1pdGEgKDMsLSkiLCAiYm9xdWVyb25lcyBmcml0b3MiLCAiZW1wIGFyYWJlICgzLC0pIiw= (truncated)",
         "pedidos",
         0,
         9,
         "2025-09-11T11:16:04.693Z",
         0,
         null
        ],
        [
         "MTAy",
         "eyJpZCI6IDM0LCAibWVzYSI6IDEwMiwgImNvbWlkYSI6IFsiYWNlaXR1bmFzIGNvbiBsaW1vbiIsICJjb3Jhem9uZXMgZGUgYWxjYWNob2ZhcyIsICJkYXRpbGVzIGFzYWRvcyBjL3NlcnJhbm8iLCAiZW1wIGVzcGluICgzLC0= (truncated)",
         "pedidos",
         0,
         10,
         "2025-09-11T11:16:05.725Z",
         0,
         null
        ],
        [
         "MjA0",
         "eyJpZCI6IDM2LCAibWVzYSI6IDIwNCwgImNvbWlkYSI6IFsiaHVldm9zIHJvdG9zIiwgInBhZWxsYSB2YWxlbmNpYW5hIiwgImJvcXVlcm9uZXMgZW4gdmluYWdyZSJdLCAiYmViaWRhIjogWyJsbGVicmUgMS84IiwgImNhbXA= (truncated)",
         "pedidos",
         0,
         11,
         "2025-09-11T11:16:06.505Z",
         0,
         null
        ],
        [
         "MTAy",
         "eyJpZCI6IDM4LCAibWVzYSI6IDEwMiwgImNvbWlkYSI6IFsiZW1wIDQgcXVlc29zICgyLDgwKSIsICJ0YXBhcyAxOCwtIl0sICJiZWJpZGEiOiBbInRpZXJyYSBidWVuYSAwLDdsIiwgInJhbW9uIGJpbGJhbyBjciAxLzgiLCA= (truncated)",
         "pedidos",
         0,
         12,
         "2025-09-11T11:16:07.702Z",
         0,
         null
        ],
        [
         "NDA1",
         "eyJpZCI6IDQyLCAibWVzYSI6IDQwNSwgImNvbWlkYSI6IFsiY3JlbWEgY2F0YWxhbmEiLCAiZW1wIGh1bWl0YSAoMiw4MCkiLCAidGFwYSBkZWwgZGlhIDEiLCAiYmVyZW5qZW5hcyBlbiBlc2NhYmVjaGUiLCAiZW1wIGh1bWk= (truncated)",
         "pedidos",
         0,
         13,
         "2025-09-11T11:16:10.894Z",
         0,
         null
        ],
        [
         "NDAy",
         "eyJpZCI6IDQ3LCAibWVzYSI6IDQwMiwgImNvbWlkYSI6IFsicGVwaW5vcyBlbiBjaGlsZSIsICJlbXAgaHVtaXRhICgzLC0pIiwgInRhY28gdHJpZ28iLCAiY29yZGVybyBhbCB2aW5vIiwgImJlcmVuamVuYXMgYyBtaWVsIiw= (truncated)",
         "pedidos",
         0,
         14,
         "2025-09-11T11:16:13.318Z",
         0,
         null
        ],
        [
         "MTAy",
         "eyJpZCI6IDUzLCAibWVzYSI6IDEwMiwgImNvbWlkYSI6IFsiZW1wIGhvbmdvcyAoMywtKSIsICJ0YXBhIGRlbCBkaWEgMSIsICJlbXAgcGljYW50ZSAoMywtKSIsICJ0YXBhIGRlbCBkaWEgNiIsICJlbXBhbmFkYSBhcnZlamE= (truncated)",
         "pedidos",
         0,
         15,
         "2025-09-11T11:16:16.183Z",
         0,
         null
        ],
        [
         "NDA1",
         "eyJpZCI6IDU0LCAibWVzYSI6IDQwNSwgImNvbWlkYSI6IFsicGFlbGxhIHZhbGVuY2lhbmEiLCAiZW1wYW5hZGEgcGljYW50ZSIsICJkYXRpbGVzIGFzYWRvcyBjL3NlcnJhbm8iLCAiZW1wIGNlYiAoMiw4MCkiLCAicGltaWU= (truncated)",
         "pedidos",
         0,
         16,
         "2025-09-11T11:16:16.887Z",
         0,
         null
        ],
        [
         "NDAy",
         "eyJpZCI6IDU1LCAibWVzYSI6IDQwMiwgImNvbWlkYSI6IFsicGltaWVudG9zIHJlbGxlbm9zIGMvIGhvbmdvcyIsICJwdWxwbyBlbiBjaWxhbnRybyIsICJlbXAgY2FybmUgKDMsLSkiLCAic29icmFzYWRhIiwgImNyb3F1ZXQ= (truncated)",
         "pedidos",
         0,
         17,
         "2025-09-11T11:16:17.765Z",
         0,
         null
        ],
        [
         "NDA1",
         "eyJpZCI6IDU3LCAibWVzYSI6IDQwNSwgImNvbWlkYSI6IFsidGFwYXMgMTgsNTAiLCAiZW1wIGVzcGluICgyLDgwKSIsICJlbXAgcGljYW50ZSAoMywtKSIsICJodWV2b3Mgcm90b3MiLCAic2FsbW9uIGVuIG1vam8iXSwgImI= (truncated)",
         "pedidos",
         0,
         18,
         "2025-09-11T11:16:19.151Z",
         0,
         null
        ],
        [
         "NDA1",
         "eyJpZCI6IDYxLCAibWVzYSI6IDQwNSwgImNvbWlkYSI6IFsidGVybmVyYSBlbiBzYWxzYSIsICJlbXBhbmFkYSBsZW50ZWphcyIsICJlbXAgcGljYW50ZSAoMiw4MCkiLCAiY2hvcml6byBhbCB2aW5vIHRpbnRvIiwgImFsYm8= (truncated)",
         "pedidos",
         0,
         19,
         "2025-09-11T11:16:22.54Z",
         0,
         null
        ],
        [
         "MjAx",
         "eyJpZCI6IDYyLCAibWVzYSI6IDIwMSwgImNvbWlkYSI6IFsiZXNwaW5hY2EgYy9wYXNhcyB5IHBpbm9uZXMiLCAiZW1wIGFydmVqYXMgKDMsLSkiLCAiYnV0aWZhcnJhIiwgInZhcmlhY2lvbiBkZSBxdWVzb3MiLCAiZW5zYWw= (truncated)",
         "pedidos",
         0,
         20,
         "2025-09-11T11:16:22.952Z",
         0,
         null
        ],
        [
         "MTA2",
         "eyJpZCI6IDY3LCAibWVzYSI6IDEwNiwgImNvbWlkYSI6IFsiYnJvdCIsICJ0YXBhcyAxNSwtIiwgImVtcCBhcmFiZSAoMywtKSIsICJlbXBhbmFkYSBsZW50ZWphcyIsICJwYWVsbGEgdmFsZW5jaWFuYSIsICJlbXAgaHVtaXQ= (truncated)",
         "pedidos",
         0,
         21,
         "2025-09-11T11:16:24.683Z",
         0,
         null
        ],
        [
         "MTAz",
         "eyJpZCI6IDcyLCAibWVzYSI6IDEwMywgImNvbWlkYSI6IFsiZmlsZXRlcyBkZSBhbmNob2FzIiwgImVtcCA0IHF1ZXNvcyAoMiw4MCkiLCAiZW1wYW5hZGEgYXR1biIsICJlbXAgYXR1biAoMywtKSIsICJwaW1pZW50b3MgcmU= (truncated)",
         "pedidos",
         0,
         22,
         "2025-09-11T11:16:28.399Z",
         0,
         null
        ],
        [
         "NDA1",
         "eyJpZCI6IDczLCAibWVzYSI6IDQwNSwgImNvbWlkYSI6IFsiZW1wYW5hZGEgY2FybmUiLCAic2FsbW9uIGVuIG1vam8iLCAiZW1wYW5hZGEgY2Vib2xsYSB5IHF1ZXNvIiwgInRhY28gcmFwZSIsICJicm90IiwgImRhdGlsZXM= (truncated)",
         "pedidos",
         0,
         23,
         "2025-09-11T11:16:28.525Z",
         0,
         null
        ],
        [
         "NTAx",
         "eyJpZCI6IDc5LCAibWVzYSI6IDUwMSwgImNvbWlkYSI6IFsiY2hpbGkgc2luIGNhcm5lIiwgImVtcCBjYXByZXNlICgyLDgwKSIsICJidXRpZmFycmEiLCAicXVlc28gZGUgb3ZlamEiLCAiY3JlbWEgY2F0YWxhbmEiLCAiZW0= (truncated)",
         "pedidos",
         0,
         24,
         "2025-09-11T11:16:30.419Z",
         0,
         null
        ],
        [
         "MTAz",
         "eyJpZCI6IDgwLCAibWVzYSI6IDEwMywgImNvbWlkYSI6IFsidGFwYXMgMTUsLSIsICJmaWxldGVzIGRlIGFuY2hvYXMiLCAiZW1wIGp5cSAoMywtKSIsICJlbXBhbmFkYSBjaXJ1ZWxhIHBhbmNldGEiXSwgImJlYmlkYSI6IFs= (truncated)",
         "pedidos",
         0,
         25,
         "2025-09-11T11:16:31.37Z",
         0,
         null
        ],
        [
         "MTA0",
         "eyJpZCI6IDgyLCAibWVzYSI6IDEwNCwgImNvbWlkYSI6IFsiZW1wIHBpY2FudGUgKDIsODApIiwgInBpbmNob3MgbW9ydW5vcyIsICJhY2VpdHVuYXMgY29uIGxpbW9uIiwgImVtcCBob25nb3MgKDMsLSkiLCAiYmVyZW5qZW4= (truncated)",
         "pedidos",
         0,
         26,
         "2025-09-11T11:16:31.836Z",
         0,
         null
        ],
        [
         "NDA1",
         "eyJpZCI6IDg1LCAibWVzYSI6IDQwNSwgImNvbWlkYSI6IFsiY2hpbGkgc2luIGNhcm5lIiwgImVtcGFuYWRhIHBpY2FudGUiLCAiZW1wIGNlYiAoMywtKSIsICJzYWxtb24gZW4gbW9qbyJdLCAiYmViaWRhIjogWyJoYWNpZW4= (truncated)",
         "pedidos",
         0,
         27,
         "2025-09-11T11:16:33.697Z",
         0,
         null
        ],
        [
         "NDAy",
         "eyJpZCI6IDkwLCAibWVzYSI6IDQwMiwgImNvbWlkYSI6IFsidGFwYXMgbWl4dGFzIGYuIDFwIl0sICJiZWJpZGEiOiBbImUubWVuZG96YSAwLDdsIiwgImVsIHRlcnJvaXIgMS84IiwgImVzcGlnYSAwLDdsIiwgImF2aW9yIHI= (truncated)",
         "pedidos",
         0,
         28,
         "2025-09-11T11:16:36.858Z",
         0,
         null
        ],
        [
         "NDA1",
         "eyJpZCI6IDkyLCAibWVzYSI6IDQwNSwgImNvbWlkYSI6IFsicGF0YXRhcyBhIGxhIHJpb2phbmEiLCAiYXNhZG8iLCAiYnV0aWZhcnJhIiwgInRhcGEgZGVsIGRpYSA0IiwgInBhZWxsYSB2YWxlbmNpYW5hIiwgImJvcXVlcm8= (truncated)",
         "pedidos",
         0,
         29,
         "2025-09-11T11:16:37.784Z",
         0,
         null
        ],
        [
         "NDAy",
         "eyJpZCI6IDkzLCAibWVzYSI6IDQwMiwgImNvbWlkYSI6IFsidGFwYSBkZWwgZGlhIDQiLCAiZ3VhY2Ftb2xlIiwgImVtcCBjZWIgKDIsODApIiwgImFqbyBibGFuY28iLCAiY2hvcml6byBmcml0byIsICJlbXBhbmFkYSBwb2w= (truncated)",
         "pedidos",
         0,
         30,
         "2025-09-11T11:16:38.508Z",
         0,
         null
        ],
        [
         "NDAy",
         "eyJpZCI6IDk0LCAibWVzYSI6IDQwMiwgImNvbWlkYSI6IFsiZW1wYW5hZGEgY2FybmUiLCAiZW1wIDQgcXVlc29zICgyLDgwKSIsICJ0YXBhcyBtaXh0YXMiLCAiZW1wIHBvbGxvICgyLDgwKSIsICJlbXAgcG9sbG8gKDMsLSk= (truncated)",
         "pedidos",
         0,
         31,
         "2025-09-11T11:16:38.753Z",
         0,
         null
        ],
        [
         "MTA2",
         "eyJpZCI6IDk5LCAibWVzYSI6IDEwNiwgImNvbWlkYSI6IFsiYm9xdWVyb25lcyBlbiB2aW5hZ3JlIiwgImNob3Jpem8gZnJpdG8iLCAidGFwYXMgMjAsLSIsICJnYW1iYXMgYWwgXCJwaWxwaWxcIiIsICJlbXAganlxICgzLC0= (truncated)",
         "pedidos",
         0,
         32,
         "2025-09-11T11:16:42.52Z",
         0,
         null
        ],
        [
         "MTA0",
         "eyJpZCI6IDEwMSwgIm1lc2EiOiAxMDQsICJjb21pZGEiOiBbImxvbW8gaWJlcmljbyIsICJsb21vIGliZXJpY28iLCAiZW1wIGFydmVqYXMgKDIsODApIiwgImVtcCBhcnZlamFzICgzLC0pIiwgInRhcGEgZGVsIGRpYSA3Iiw= (truncated)",
         "pedidos",
         0,
         33,
         "2025-09-11T11:16:43.161Z",
         0,
         null
        ],
        [
         "MTAy",
         "eyJpZCI6IDExMSwgIm1lc2EiOiAxMDIsICJjb21pZGEiOiBbImNob3Jpem8gYWwgdmlubyB0aW50byIsICJ0b3J0aWxsYSBkZSBlc3BpbmFjYXMiLCAiZHVsY2UgZGUgbWVtYnJpbGxvIiwgImRhdGlsZXMgYXNhZG9zIGMvc2U= (truncated)",
         "pedidos",
         0,
         34,
         "2025-09-11T11:16:47.565Z",
         0,
         null
        ],
        [
         "NDA1",
         "eyJpZCI6IDExMiwgIm1lc2EiOiA0MDUsICJjb21pZGEiOiBbInNhbG1vbiBlbiBtb2pvIiwgImNvcmRlcm8gYWwgdmlubyIsICJjaG9yaXpvIGFsIHZpbm8gdGludG8iLCAiZW1wIGNhcHJlc2UgKDIsODApIiwgImJyb3QiLCA= (truncated)",
         "pedidos",
         0,
         35,
         "2025-09-11T11:16:47.958Z",
         0,
         null
        ],
        [
         "MTAy",
         "eyJpZCI6IDExNiwgIm1lc2EiOiAxMDIsICJjb21pZGEiOiBbInB1bHBvIGVuIGNpbGFudHJvIiwgImNvcmF6b25lcyBkZSBhbGNhY2hvZmFzIiwgInNhbG1vbiBlbiBtb2pvIiwgImNydSBjaGlwcyBjZWNpbmEiLCAiZW1wIGM= (truncated)",
         "pedidos",
         0,
         36,
         "2025-09-11T11:16:49.044Z",
         0,
         null
        ]
       ],
       "datasetInfos": [],
       "dbfsResultPath": null,
       "isJsonSchema": true,
       "metadata": {},
       "overflow": false,
       "plotOptions": {
        "customPlotOptions": {},
        "displayType": "table",
        "pivotAggregation": null,
        "pivotColumns": null,
        "xColumns": null,
        "yColumns": null
       },
       "removedWidgets": [],
       "schema": [
        {
         "metadata": "{}",
         "name": "key",
         "type": "\"binary\""
        },
        {
         "metadata": "{}",
         "name": "value",
         "type": "\"binary\""
        },
        {
         "metadata": "{}",
         "name": "topic",
         "type": "\"string\""
        },
        {
         "metadata": "{}",
         "name": "partition",
         "type": "\"integer\""
        },
        {
         "metadata": "{}",
         "name": "offset",
         "type": "\"long\""
        },
        {
         "metadata": "{}",
         "name": "timestamp",
         "type": "\"timestamp\""
        },
        {
         "metadata": "{}",
         "name": "timestampType",
         "type": "\"integer\""
        },
        {
         "metadata": "{}",
         "name": "headers",
         "type": "{\"type\":\"array\",\"elementType\":{\"type\":\"struct\",\"fields\":[{\"name\":\"key\",\"type\":\"string\",\"nullable\":true,\"metadata\":{}},{\"name\":\"value\",\"type\":\"binary\",\"nullable\":true,\"metadata\":{}}]},\"containsNull\":true}"
        }
       ],
       "type": "table"
      }
     },
     "output_type": "display_data"
    }
   ],
   "source": [
    "df = (spark\n",
    "      .readStream\n",
    "      .format(\"kafka\") \n",
    "      .options(**kafka_options)\n",
    "      .load()\n",
    ")\n",
    "df.display()"
   ]
  },
  {
   "cell_type": "code",
   "execution_count": 0,
   "metadata": {
    "application/vnd.databricks.v1+cell": {
     "cellMetadata": {
      "byteLimit": 2048000,
      "rowLimit": 10000
     },
     "inputWidgets": {},
     "nuid": "48a7010c-7460-4d90-acde-efc55eba9eff",
     "showTitle": false,
     "tableResultSettingsMap": {},
     "title": ""
    }
   },
   "outputs": [],
   "source": [
    "columns = [F.col(column).alias(f'_{column}') for column in df.columns]\n",
    "df = df.select(*columns)"
   ]
  },
  {
   "cell_type": "code",
   "execution_count": 0,
   "metadata": {
    "application/vnd.databricks.v1+cell": {
     "cellMetadata": {
      "byteLimit": 2048000,
      "rowLimit": 10000
     },
     "inputWidgets": {},
     "nuid": "13c67dbc-ec07-4b42-92ed-07884946e5af",
     "showTitle": false,
     "tableResultSettingsMap": {},
     "title": ""
    }
   },
   "outputs": [],
   "source": [
    "schema=\"\"\"\n",
    "  id long, \n",
    "  mesa string, \n",
    "  comida string, \n",
    "  bebida string\n",
    "\"\"\"  "
   ]
  },
  {
   "cell_type": "code",
   "execution_count": 0,
   "metadata": {
    "application/vnd.databricks.v1+cell": {
     "cellMetadata": {
      "byteLimit": 2048000,
      "rowLimit": 10000
     },
     "inputWidgets": {},
     "nuid": "d209926f-2295-4fb0-9192-1c5c451cf219",
     "showTitle": false,
     "tableResultSettingsMap": {},
     "title": ""
    }
   },
   "outputs": [],
   "source": [
    "df=(df\n",
    "      .withColumn(\"_ingested_at\",F.current_timestamp()) #metadata\n",
    "      .withColumn(\"value\",F.from_json(F.col(\"_value\").cast(\"string\"),schema))\n",
    "      .select(\"*\",\"value.*\")\n",
    "      .drop(\"value\")\n",
    ")"
   ]
  },
  {
   "cell_type": "code",
   "execution_count": 0,
   "metadata": {
    "application/vnd.databricks.v1+cell": {
     "cellMetadata": {
      "byteLimit": 2048000,
      "rowLimit": 10000
     },
     "inputWidgets": {},
     "nuid": "f2bb2459-e62a-49c0-be19-2c43ef69024d",
     "showTitle": false,
     "tableResultSettingsMap": {},
     "title": ""
    }
   },
   "outputs": [
    {
     "output_type": "execute_result",
     "data": {
      "text/plain": [
       "<pyspark.sql.streaming.query.StreamingQuery at 0x7f2faccf3510>"
      ]
     },
     "execution_count": 33,
     "metadata": {},
     "output_type": "execute_result"
    }
   ],
   "source": [
    "(df\n",
    "  .writeStream\n",
    "  .trigger(availableNow=True)\n",
    "  #.trigger(processingTime=\"60 seconds\") # modo continuo\n",
    "  .format(\"delta\")\n",
    "  .outputMode(\"append\")\n",
    "  .option(\"path\", dataset_bronze_path)\n",
    "  .option(\"mergeSchema\", \"true\")\n",
    "  .option(\"checkpointLocation\", dataset_bronze_checkpoint_path)\n",
    "  #.table(table_name)\n",
    "  .start()\n",
    ")\n"
   ]
  },
  {
   "cell_type": "markdown",
   "metadata": {
    "application/vnd.databricks.v1+cell": {
     "cellMetadata": {},
     "inputWidgets": {},
     "nuid": "7f78cdf0-2f15-4401-af9d-9b385295ff35",
     "showTitle": false,
     "tableResultSettingsMap": {},
     "title": ""
    }
   },
   "source": [
    "### Analítica en tiempo real"
   ]
  },
  {
   "cell_type": "code",
   "execution_count": 0,
   "metadata": {
    "application/vnd.databricks.v1+cell": {
     "cellMetadata": {
      "byteLimit": 2048000,
      "rowLimit": 10000
     },
     "inputWidgets": {},
     "nuid": "fd85bf29-12c4-4159-ac25-4b7ea159f4df",
     "showTitle": false,
     "tableResultSettingsMap": {},
     "title": ""
    }
   },
   "outputs": [],
   "source": [
    "df_art = spark.read.format('delta').load(f'{path_silver}articulos')"
   ]
  },
  {
   "cell_type": "code",
   "execution_count": 0,
   "metadata": {
    "application/vnd.databricks.v1+cell": {
     "cellMetadata": {
      "byteLimit": 2048000,
      "rowLimit": 10000
     },
     "inputWidgets": {},
     "nuid": "6babaafc-8575-49fa-a27f-e351537f56f6",
     "showTitle": false,
     "tableResultSettingsMap": {},
     "title": ""
    }
   },
   "outputs": [],
   "source": [
    "productos = df_art.filter(df_art.wgr.isin(1, 2, 3, 4,7,8,9)).select('name')"
   ]
  },
  {
   "cell_type": "code",
   "execution_count": 0,
   "metadata": {
    "application/vnd.databricks.v1+cell": {
     "cellMetadata": {
      "byteLimit": 2048000,
      "rowLimit": 10000
     },
     "inputWidgets": {},
     "nuid": "dcc4883c-563c-4b89-a1d3-1bae0eb8a539",
     "showTitle": false,
     "tableResultSettingsMap": {},
     "title": ""
    }
   },
   "outputs": [],
   "source": [
    "lista_productos = [producto.name for producto in productos.collect()[:-1]]"
   ]
  },
  {
   "cell_type": "code",
   "execution_count": 0,
   "metadata": {
    "application/vnd.databricks.v1+cell": {
     "cellMetadata": {
      "byteLimit": 2048000,
      "rowLimit": 10000
     },
     "inputWidgets": {},
     "nuid": "df527001-ec24-48c1-9ba5-94a926d80531",
     "showTitle": false,
     "tableResultSettingsMap": {},
     "title": ""
    }
   },
   "outputs": [
    {
     "output_type": "stream",
     "name": "stdout",
     "output_type": "stream",
     "text": [
      "Collecting confluent_kafka\n  Obtaining dependency information for confluent_kafka from https://files.pythonhosted.org/packages/40/aa/ebf3facd881cb0b4e79fae29f040079ff2cb1ae4aabee08456e3ab536828/confluent_kafka-2.11.1-cp311-cp311-manylinux_2_28_x86_64.whl.metadata\n  Downloading confluent_kafka-2.11.1-cp311-cp311-manylinux_2_28_x86_64.whl.metadata (23 kB)\nDownloading confluent_kafka-2.11.1-cp311-cp311-manylinux_2_28_x86_64.whl (3.9 MB)\n\u001B[?25l   \u001B[90m━━━━━━━━━━━━━━━━━━━━━━━━━━━━━━━━━━━━━━━━\u001B[0m \u001B[32m0.0/3.9 MB\u001B[0m \u001B[31m?\u001B[0m eta \u001B[36m-:--:--\u001B[0m\n\u001B[2K   \u001B[91m━\u001B[0m\u001B[90m╺\u001B[0m\u001B[90m━━━━━━━━━━━━━━━━━━━━━━━━━━━━━━━━━━━━━━\u001B[0m \u001B[32m0.1/3.9 MB\u001B[0m \u001B[31m4.1 MB/s\u001B[0m eta \u001B[36m0:00:01\u001B[0m\n\u001B[2K   \u001B[91m━━━\u001B[0m\u001B[90m╺\u001B[0m\u001B[90m━━━━━━━━━━━━━━━━━━━━━━━━━━━━━━━━━━━━\u001B[0m \u001B[32m0.3/3.9 MB\u001B[0m \u001B[31m5.0 MB/s\u001B[0m eta \u001B[36m0:00:01\u001B[0m\n\u001B[2K   \u001B[91m━━━━━━\u001B[0m\u001B[90m╺\u001B[0m\u001B[90m━━━━━━━━━━━━━━━━━━━━━━━━━━━━━━━━━\u001B[0m \u001B[32m0.6/3.9 MB\u001B[0m \u001B[31m5.7 MB/s\u001B[0m eta \u001B[36m0:00:01\u001B[0m\n\u001B[2K   \u001B[91m━━━━━━━━━\u001B[0m\u001B[90m╺\u001B[0m\u001B[90m━━━━━━━━━━━━━━━━━━━━━━━━━━━━━━\u001B[0m \u001B[32m0.9/3.9 MB\u001B[0m \u001B[31m6.3 MB/s\u001B[0m eta \u001B[36m0:00:01\u001B[0m\n\u001B[2K   \u001B[91m━━━━━━━━━━━━\u001B[0m\u001B[91m╸\u001B[0m\u001B[90m━━━━━━━━━━━━━━━━━━━━━━━━━━━\u001B[0m \u001B[32m1.3/3.9 MB\u001B[0m \u001B[31m7.2 MB/s\u001B[0m eta \u001B[36m0:00:01\u001B[0m\n\u001B[2K   \u001B[91m━━━━━━━━━━━━━━━━\u001B[0m\u001B[91m╸\u001B[0m\u001B[90m━━━━━━━━━━━━━━━━━━━━━━━\u001B[0m \u001B[32m1.7/3.9 MB\u001B[0m \u001B[31m7.9 MB/s\u001B[0m eta \u001B[36m0:00:01\u001B[0m\n\u001B[2K   \u001B[91m━━━━━━━━━━━━━━━━━━━━━━\u001B[0m\u001B[90m╺\u001B[0m\u001B[90m━━━━━━━━━━━━━━━━━\u001B[0m \u001B[32m2.2/3.9 MB\u001B[0m \u001B[31m8.9 MB/s\u001B[0m eta \u001B[36m0:00:01\u001B[0m\n\u001B[2K   \u001B[91m━━━━━━━━━━━━━━━━━━━━━━━━━━━━\u001B[0m\u001B[90m╺\u001B[0m\u001B[90m━━━━━━━━━━━\u001B[0m \u001B[32m2.8/3.9 MB\u001B[0m \u001B[31m9.8 MB/s\u001B[0m eta \u001B[36m0:00:01\u001B[0m\n\u001B[2K   \u001B[91m━━━━━━━━━━━━━━━━━━━━━━━━━━━━━━━\u001B[0m\u001B[91m╸\u001B[0m\u001B[90m━━━━━━━━\u001B[0m \u001B[32m3.1/3.9 MB\u001B[0m \u001B[31m9.8 MB/s\u001B[0m eta \u001B[36m0:00:01\u001B[0m\n\u001B[2K   \u001B[91m━━━━━━━━━━━━━━━━━━━━━━━━━━━━━━━━━━━━━━━\u001B[0m\u001B[91m╸\u001B[0m \u001B[32m3.9/3.9 MB\u001B[0m \u001B[31m11.1 MB/s\u001B[0m eta \u001B[36m0:00:01\u001B[0m\n\u001B[2K   \u001B[90m━━━━━━━━━━━━━━━━━━━━━━━━━━━━━━━━━━━━━━━━\u001B[0m \u001B[32m3.9/3.9 MB\u001B[0m \u001B[31m10.4 MB/s\u001B[0m eta \u001B[36m0:00:00\u001B[0m\n\u001B[?25hInstalling collected packages: confluent_kafka\nSuccessfully installed confluent_kafka-2.11.1\n\u001B[43mNote: you may need to restart the kernel using %restart_python or dbutils.library.restartPython() to use updated packages.\u001B[0m\n"
     ]
    }
   ],
   "source": [
    "!pip install confluent_kafka"
   ]
  },
  {
   "cell_type": "code",
   "execution_count": 0,
   "metadata": {
    "application/vnd.databricks.v1+cell": {
     "cellMetadata": {
      "byteLimit": 2048000,
      "rowLimit": 10000
     },
     "inputWidgets": {},
     "nuid": "08fabf0f-6f72-4067-bc64-8fe874330a0e",
     "showTitle": false,
     "tableResultSettingsMap": {},
     "title": ""
    }
   },
   "outputs": [],
   "source": [
    "from random import randint\n",
    "import json\n",
    "from confluent_kafka import Producer \n",
    "from confluent_kafka.admin import NewTopic\n",
    "from confluent_kafka.admin import AdminClient "
   ]
  },
  {
   "cell_type": "code",
   "execution_count": 0,
   "metadata": {
    "application/vnd.databricks.v1+cell": {
     "cellMetadata": {
      "byteLimit": 2048000,
      "rowLimit": 10000
     },
     "inputWidgets": {},
     "nuid": "6af06d4e-71f6-43e7-bfe0-0393e9d51a9b",
     "showTitle": false,
     "tableResultSettingsMap": {},
     "title": ""
    }
   },
   "outputs": [],
   "source": [
    "umbrales = {}\n",
    "for producto in lista_productos:\n",
    "    i = randint(1, 20)\n",
    "    umbrales[producto] = {'bajo': i, 'agotado': i + randint(2,5)}"
   ]
  },
  {
   "cell_type": "code",
   "execution_count": 0,
   "metadata": {
    "application/vnd.databricks.v1+cell": {
     "cellMetadata": {
      "byteLimit": 2048000,
      "rowLimit": 10000
     },
     "inputWidgets": {},
     "nuid": "d3c96599-92f4-4177-85bc-a8d606c90956",
     "showTitle": false,
     "tableResultSettingsMap": {},
     "title": ""
    }
   },
   "outputs": [],
   "source": [
    "topic = \"alertas\"\n",
    "new_topic = NewTopic(topic, num_partitions=3, replication_factor=3)\n",
    "admin_client = AdminClient(conf) \n",
    "fs = admin_client.create_topics([new_topic])"
   ]
  },
  {
   "cell_type": "code",
   "execution_count": 0,
   "metadata": {
    "application/vnd.databricks.v1+cell": {
     "cellMetadata": {
      "byteLimit": 2048000,
      "rowLimit": 10000
     },
     "inputWidgets": {},
     "nuid": "e8942b99-e140-4dd2-9a3c-47b8f49549c5",
     "showTitle": false,
     "tableResultSettingsMap": {},
     "title": ""
    }
   },
   "outputs": [
    {
     "output_type": "stream",
     "name": "stdout",
     "output_type": "stream",
     "text": [
      "Topics en el cluster de Kafka:\n{'alertas': TopicMetadata(alertas, 3 partitions), 'pedidos': TopicMetadata(pedidos, 3 partitions)}\n"
     ]
    }
   ],
   "source": [
    "topic_list = admin_client.list_topics().topics \n",
    "print(f\"Topics en el cluster de Kafka:\\n{topic_list}\") "
   ]
  },
  {
   "cell_type": "code",
   "execution_count": 0,
   "metadata": {
    "application/vnd.databricks.v1+cell": {
     "cellMetadata": {
      "byteLimit": 2048000,
      "rowLimit": 10000
     },
     "inputWidgets": {},
     "nuid": "88b03ca1-2369-4238-b236-14ab237432b4",
     "showTitle": false,
     "tableResultSettingsMap": {},
     "title": ""
    }
   },
   "outputs": [],
   "source": [
    "def alerta_doble_umbral(batch_df, batch_id):\n",
    "    if batch_df.isEmpty():\n",
    "        return\n",
    "\n",
    "    rows = batch_df.collect()\n",
    "    for row in rows:\n",
    "        producto = row[\"producto\"]\n",
    "        tipo = row[\"tipo_producto\"]\n",
    "        conteo = row[\"count\"]\n",
    "\n",
    "        umbral = umbrales.get(producto)\n",
    "        if umbral:\n",
    "            bajo = umbral.get(\"bajo\")\n",
    "            agotado = umbral.get(\"agotado\")\n",
    "\n",
    "            mensaje = None\n",
    "            nivel = None\n",
    "\n",
    "            if conteo >= agotado:\n",
    "                nivel = \"CRÍTICA\"\n",
    "                mensaje = f\"{tipo.upper()} '{producto}' se ha AGOTADO: {conteo} pedidos (umbral = {agotado})\"\n",
    "\n",
    "            elif conteo >= bajo:\n",
    "                nivel = \"AVISO\"\n",
    "                mensaje = f\"{tipo.upper()} '{producto}' con stock bajo: {conteo} pedidos (umbral = {bajo})\"\n",
    "\n",
    "            if mensaje:\n",
    "                print(f\"[{nivel}] {mensaje}\")\n",
    "\n",
    "                alerta = {\n",
    "                    \"producto\": producto,\n",
    "                    \"tipo\": tipo,\n",
    "                    \"nivel\": nivel,\n",
    "                    \"mensaje\": mensaje\n",
    "                }\n",
    "\n",
    "                producer = Producer({\n",
    "                    \"bootstrap.servers\": conf[\"bootstrap.servers\"],\n",
    "                    \"security.protocol\": conf[\"security.protocol\"],\n",
    "                    \"sasl.mechanism\": conf[\"sasl.mechanism\"],\n",
    "                    \"sasl.username\": conf[\"sasl.username\"],\n",
    "                    \"sasl.password\": conf[\"sasl.password\"],\n",
    "                })\n",
    "\n",
    "                producer.produce(\n",
    "                    topic=\"alertas\", \n",
    "                    key=\"alerta\",\n",
    "                    value=json.dumps(alerta)\n",
    "                )\n",
    "                producer.flush()\n"
   ]
  },
  {
   "cell_type": "code",
   "execution_count": 0,
   "metadata": {
    "application/vnd.databricks.v1+cell": {
     "cellMetadata": {
      "byteLimit": 2048000,
      "rowLimit": 10000
     },
     "inputWidgets": {},
     "nuid": "0b586873-d072-4a32-9054-79a6aac53316",
     "showTitle": false,
     "tableResultSettingsMap": {},
     "title": ""
    }
   },
   "outputs": [],
   "source": [
    "df_comida = df.select(F.explode(F.from_json(\"comida\", ArrayType(StringType()))).alias(\"producto\"),F.lit(\"comida\").alias(\"tipo_producto\"))\n",
    "df_bebida = df.select(F.explode(F.from_json(\"bebida\", ArrayType(StringType()))).alias(\"producto\"),F.lit(\"bebida\").alias(\"tipo_producto\"))\n",
    "df_productos = df_comida.union(df_bebida)"
   ]
  },
  {
   "cell_type": "code",
   "execution_count": 0,
   "metadata": {
    "application/vnd.databricks.v1+cell": {
     "cellMetadata": {
      "byteLimit": 2048000,
      "rowLimit": 10000
     },
     "inputWidgets": {},
     "nuid": "d9e05bec-4617-4417-994d-9f750825f665",
     "showTitle": false,
     "tableResultSettingsMap": {},
     "title": ""
    }
   },
   "outputs": [],
   "source": [
    "df_conteo = df_productos.groupBy(\"producto\", \"tipo_producto\").count()"
   ]
  },
  {
   "cell_type": "code",
   "execution_count": 0,
   "metadata": {
    "application/vnd.databricks.v1+cell": {
     "cellMetadata": {
      "byteLimit": 2048000,
      "rowLimit": 10000
     },
     "inputWidgets": {},
     "nuid": "4a21b309-986f-4783-aa16-e5d65241e3b3",
     "showTitle": false,
     "tableResultSettingsMap": {},
     "title": ""
    }
   },
   "outputs": [],
   "source": [
    "query = (\n",
    "    df_conteo.writeStream\n",
    "    .outputMode(\"complete\")\n",
    "    .foreachBatch(alerta_doble_umbral)\n",
    "    .option(\"checkpointLocation\", \"/dbfs/tmp/checkpoints/alertas\")\n",
    "    .start()\n",
    ")"
   ]
  }
 ],
 "metadata": {
  "application/vnd.databricks.v1+notebook": {
   "computePreferences": null,
   "dashboards": [],
   "environmentMetadata": {
    "base_environment": "",
    "environment_version": "3"
   },
   "inputWidgetPreferences": null,
   "language": "python",
   "notebookMetadata": {
    "pythonIndentUnit": 4
   },
   "notebookName": "Ingesta_analitica_real_time",
   "widgets": {}
  },
  "language_info": {
   "name": "python"
  }
 },
 "nbformat": 4,
 "nbformat_minor": 0
}