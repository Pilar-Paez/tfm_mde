{
 "cells": [
  {
   "cell_type": "markdown",
   "metadata": {
    "application/vnd.databricks.v1+cell": {
     "cellMetadata": {},
     "inputWidgets": {},
     "nuid": "eb0955d5-f761-44c5-9f48-b3e6f344cb5c",
     "showTitle": false,
     "tableResultSettingsMap": {},
     "title": ""
    }
   },
   "source": [
    "### Conexión a Confluent y creación de topic"
   ]
  },
  {
   "cell_type": "code",
   "execution_count": 0,
   "metadata": {
    "application/vnd.databricks.v1+cell": {
     "cellMetadata": {
      "byteLimit": 2048000,
      "rowLimit": 10000
     },
     "inputWidgets": {},
     "nuid": "85e0a094-aa27-48c4-9edf-07743036b1b4",
     "showTitle": false,
     "tableResultSettingsMap": {},
     "title": ""
    }
   },
   "outputs": [
    {
     "output_type": "stream",
     "name": "stdout",
     "output_type": "stream",
     "text": [
      "Wrote 225 bytes.\n"
     ]
    },
    {
     "output_type": "execute_result",
     "data": {
      "text/plain": [
       "True"
      ]
     },
     "execution_count": 1,
     "metadata": {},
     "output_type": "execute_result"
    }
   ],
   "source": [
    "# dbutils.fs.put(\"dbfs:/FileStore/confluent_client_properties\", \"\"\"\n",
    "#bootstrap.servers=pkc-03vj5.europe-west8.gcp.confluent.cloud:9092\n",
    "#security.protocol=SASL_SSL\n",
    "#sasl.mechanism=PLAIN\n",
    "#sasl.username= eliminado por seguridad\n",
    "#sasl.password= eliminado por seguridad\n",
    "#\"\"\", overwrite=True)"
   ]
  },
  {
   "cell_type": "code",
   "execution_count": 0,
   "metadata": {
    "application/vnd.databricks.v1+cell": {
     "cellMetadata": {
      "byteLimit": 2048000,
      "rowLimit": 10000
     },
     "inputWidgets": {},
     "nuid": "50c647fc-f29e-424e-9333-41974411a014",
     "showTitle": false,
     "tableResultSettingsMap": {},
     "title": ""
    }
   },
   "outputs": [],
   "source": [
    "def read_config():\n",
    "  config = {}\n",
    "  with open(\"/dbfs/FileStore/confluent_client_properties\") as fh:\n",
    "    for line in fh:\n",
    "      line = line.strip()\n",
    "      if len(line) != 0 and line[0] != \"#\":\n",
    "        parameter, value = line.strip().split('=', 1)\n",
    "        config[parameter] = value.strip()\n",
    "  return config\n",
    "\n",
    "  # mala práctica tener las claves en filestore, se puede acceder desde la url. Habría que haber usado databricks secrets"
   ]
  },
  {
   "cell_type": "code",
   "execution_count": 0,
   "metadata": {
    "application/vnd.databricks.v1+cell": {
     "cellMetadata": {
      "byteLimit": 2048000,
      "rowLimit": 10000
     },
     "inputWidgets": {},
     "nuid": "391b4b4b-83c1-41c4-b614-e8a8511da5fe",
     "showTitle": false,
     "tableResultSettingsMap": {},
     "title": ""
    }
   },
   "outputs": [],
   "source": [
    "conf = read_config()"
   ]
  },
  {
   "cell_type": "code",
   "execution_count": 0,
   "metadata": {
    "application/vnd.databricks.v1+cell": {
     "cellMetadata": {
      "byteLimit": 2048000,
      "rowLimit": 10000
     },
     "inputWidgets": {},
     "nuid": "b8fabd36-9753-485d-ae72-464b19cf7e20",
     "showTitle": false,
     "tableResultSettingsMap": {},
     "title": ""
    }
   },
   "outputs": [
    {
     "output_type": "stream",
     "name": "stdout",
     "output_type": "stream",
     "text": [
      "Collecting confluent_kafka\n  Obtaining dependency information for confluent_kafka from https://files.pythonhosted.org/packages/40/aa/ebf3facd881cb0b4e79fae29f040079ff2cb1ae4aabee08456e3ab536828/confluent_kafka-2.11.1-cp311-cp311-manylinux_2_28_x86_64.whl.metadata\n  Downloading confluent_kafka-2.11.1-cp311-cp311-manylinux_2_28_x86_64.whl.metadata (23 kB)\nDownloading confluent_kafka-2.11.1-cp311-cp311-manylinux_2_28_x86_64.whl (3.9 MB)\n\u001B[?25l   \u001B[90m━━━━━━━━━━━━━━━━━━━━━━━━━━━━━━━━━━━━━━━━\u001B[0m \u001B[32m0.0/3.9 MB\u001B[0m \u001B[31m?\u001B[0m eta \u001B[36m-:--:--\u001B[0m\n\u001B[2K   \u001B[91m━━━\u001B[0m\u001B[91m╸\u001B[0m\u001B[90m━━━━━━━━━━━━━━━━━━━━━━━━━━━━━━━━━━━━\u001B[0m \u001B[32m0.3/3.9 MB\u001B[0m \u001B[31m10.7 MB/s\u001B[0m eta \u001B[36m0:00:01\u001B[0m\n\u001B[2K   \u001B[91m━━━━━━━━━━━━━━━━━━━━━━━━━━━━━━━━━━━━━━\u001B[0m\u001B[91m╸\u001B[0m\u001B[90m━\u001B[0m \u001B[32m3.8/3.9 MB\u001B[0m \u001B[31m55.2 MB/s\u001B[0m eta \u001B[36m0:00:01\u001B[0m\n\u001B[2K   \u001B[90m━━━━━━━━━━━━━━━━━━━━━━━━━━━━━━━━━━━━━━━━\u001B[0m \u001B[32m3.9/3.9 MB\u001B[0m \u001B[31m39.9 MB/s\u001B[0m eta \u001B[36m0:00:00\u001B[0m\n\u001B[?25hInstalling collected packages: confluent_kafka\nSuccessfully installed confluent_kafka-2.11.1\n\u001B[43mNote: you may need to restart the kernel using %restart_python or dbutils.library.restartPython() to use updated packages.\u001B[0m\n"
     ]
    }
   ],
   "source": [
    "!pip install confluent_kafka"
   ]
  },
  {
   "cell_type": "code",
   "execution_count": 0,
   "metadata": {
    "application/vnd.databricks.v1+cell": {
     "cellMetadata": {
      "byteLimit": 2048000,
      "rowLimit": 10000
     },
     "inputWidgets": {},
     "nuid": "3c07de37-9d0a-4df3-b669-628379fbf3f0",
     "showTitle": false,
     "tableResultSettingsMap": {},
     "title": ""
    }
   },
   "outputs": [
    {
     "output_type": "stream",
     "name": "stdout",
     "output_type": "stream",
     "text": [
      "Collecting faker\n  Obtaining dependency information for faker from https://files.pythonhosted.org/packages/61/7d/8b50e4ac772719777be33661f4bde320793400a706f5eb214e4de46f093c/faker-37.6.0-py3-none-any.whl.metadata\n  Downloading faker-37.6.0-py3-none-any.whl.metadata (15 kB)\nRequirement already satisfied: tzdata in /databricks/python3/lib/python3.11/site-packages (from faker) (2022.1)\nDownloading faker-37.6.0-py3-none-any.whl (1.9 MB)\n\u001B[?25l   \u001B[90m━━━━━━━━━━━━━━━━━━━━━━━━━━━━━━━━━━━━━━━━\u001B[0m \u001B[32m0.0/1.9 MB\u001B[0m \u001B[31m?\u001B[0m eta \u001B[36m-:--:--\u001B[0m\n\u001B[2K   \u001B[91m━━━━\u001B[0m\u001B[90m╺\u001B[0m\u001B[90m━━━━━━━━━━━━━━━━━━━━━━━━━━━━━━━━━━━\u001B[0m \u001B[32m0.2/1.9 MB\u001B[0m \u001B[31m6.3 MB/s\u001B[0m eta \u001B[36m0:00:01\u001B[0m\n\u001B[2K   \u001B[91m━━━━━━━━━━\u001B[0m\u001B[91m╸\u001B[0m\u001B[90m━━━━━━━━━━━━━━━━━━━━━━━━━━━━━\u001B[0m \u001B[32m0.5/1.9 MB\u001B[0m \u001B[31m7.7 MB/s\u001B[0m eta \u001B[36m0:00:01\u001B[0m\n\u001B[2K   \u001B[91m━━━━━━━━━━━━━━━━━\u001B[0m\u001B[91m╸\u001B[0m\u001B[90m━━━━━━━━━━━━━━━━━━━━━━\u001B[0m \u001B[32m0.9/1.9 MB\u001B[0m \u001B[31m8.5 MB/s\u001B[0m eta \u001B[36m0:00:01\u001B[0m\n\u001B[2K   \u001B[91m━━━━━━━━━━━━━━━━━━━━━━━━━\u001B[0m\u001B[91m╸\u001B[0m\u001B[90m━━━━━━━━━━━━━━\u001B[0m \u001B[32m1.3/1.9 MB\u001B[0m \u001B[31m9.2 MB/s\u001B[0m eta \u001B[36m0:00:01\u001B[0m\n\u001B[2K   \u001B[91m━━━━━━━━━━━━━━━━━━━━━━━━━━━━━━━━━━━\u001B[0m\u001B[91m╸\u001B[0m\u001B[90m━━━━\u001B[0m \u001B[32m1.7/1.9 MB\u001B[0m \u001B[31m10.1 MB/s\u001B[0m eta \u001B[36m0:00:01\u001B[0m\n\u001B[2K   \u001B[91m━━━━━━━━━━━━━━━━━━━━━━━━━━━━━━━━━━━━━━━\u001B[0m\u001B[91m╸\u001B[0m \u001B[32m1.9/1.9 MB\u001B[0m \u001B[31m10.2 MB/s\u001B[0m eta \u001B[36m0:00:01\u001B[0m\n\u001B[2K   \u001B[90m━━━━━━━━━━━━━━━━━━━━━━━━━━━━━━━━━━━━━━━━\u001B[0m \u001B[32m1.9/1.9 MB\u001B[0m \u001B[31m9.3 MB/s\u001B[0m eta \u001B[36m0:00:00\u001B[0m\n\u001B[?25hInstalling collected packages: faker\nSuccessfully installed faker-37.6.0\n\u001B[43mNote: you may need to restart the kernel using %restart_python or dbutils.library.restartPython() to use updated packages.\u001B[0m\n"
     ]
    }
   ],
   "source": [
    "!pip install faker "
   ]
  },
  {
   "cell_type": "code",
   "execution_count": 0,
   "metadata": {
    "application/vnd.databricks.v1+cell": {
     "cellMetadata": {
      "byteLimit": 2048000,
      "rowLimit": 10000
     },
     "inputWidgets": {},
     "nuid": "6f4cafa4-386c-4412-aba2-1d0b7db3b10e",
     "showTitle": false,
     "tableResultSettingsMap": {},
     "title": ""
    }
   },
   "outputs": [
    {
     "output_type": "stream",
     "name": "stdout",
     "output_type": "stream",
     "text": [
      "Topics en el cluster de Kafka:\n"
     ]
    },
    {
     "output_type": "execute_result",
     "data": {
      "text/plain": [
       "{'pedidos': TopicMetadata(pedidos, 3 partitions)}"
      ]
     },
     "execution_count": 6,
     "metadata": {},
     "output_type": "execute_result"
    }
   ],
   "source": [
    "from confluent_kafka.admin import AdminClient, NewTopic\n",
    "import random\n",
    "import time\n",
    "import json\n",
    "from faker.providers import BaseProvider\n",
    "from confluent_kafka import Producer \n",
    "from faker import Faker\n",
    "\n",
    "admin_client = AdminClient(conf) \n",
    "topic_list = admin_client.list_topics().topics \n",
    "print(\"Topics en el cluster de Kafka:\") \n",
    "topic_list "
   ]
  },
  {
   "cell_type": "code",
   "execution_count": 0,
   "metadata": {
    "application/vnd.databricks.v1+cell": {
     "cellMetadata": {
      "byteLimit": 2048000,
      "rowLimit": 10000
     },
     "inputWidgets": {},
     "nuid": "31949c54-5f50-4f68-b8b8-32d29f271314",
     "showTitle": false,
     "tableResultSettingsMap": {},
     "title": ""
    }
   },
   "outputs": [],
   "source": [
    "topic = \"pedidos\"\n",
    "#new_topic = NewTopic(topic, num_partitions=3, replication_factor=3)\n",
    "#fs = admin_client.create_topics([new_topic])"
   ]
  },
  {
   "cell_type": "code",
   "execution_count": 0,
   "metadata": {
    "application/vnd.databricks.v1+cell": {
     "cellMetadata": {
      "byteLimit": 2048000,
      "rowLimit": 10000
     },
     "inputWidgets": {},
     "nuid": "28239505-8425-4dd4-9213-9f09569fd1e8",
     "showTitle": false,
     "tableResultSettingsMap": {},
     "title": ""
    }
   },
   "outputs": [
    {
     "output_type": "stream",
     "name": "stdout",
     "output_type": "stream",
     "text": [
      "Topics en el cluster de Kafka:\n{'pedidos': TopicMetadata(pedidos, 3 partitions)}\n"
     ]
    }
   ],
   "source": [
    "topic_list = admin_client.list_topics().topics \n",
    "print(f\"Topics en el cluster de Kafka:\\n{topic_list}\") "
   ]
  },
  {
   "cell_type": "markdown",
   "metadata": {
    "application/vnd.databricks.v1+cell": {
     "cellMetadata": {},
     "inputWidgets": {},
     "nuid": "82c1865f-7ca8-422d-aee2-81413c0ab3df",
     "showTitle": false,
     "tableResultSettingsMap": {},
     "title": ""
    }
   },
   "source": [
    "### Simulación de stream"
   ]
  },
  {
   "cell_type": "code",
   "execution_count": 0,
   "metadata": {
    "application/vnd.databricks.v1+cell": {
     "cellMetadata": {
      "byteLimit": 2048000,
      "rowLimit": 10000
     },
     "inputWidgets": {},
     "nuid": "5594dd2f-3ee1-43fb-bc4a-f4149c6a1ba0",
     "showTitle": false,
     "tableResultSettingsMap": {},
     "title": ""
    }
   },
   "outputs": [],
   "source": [
    "path_silver = 'abfss://datalake@dls0tfm.dfs.core.windows.net/silver/'\n",
    "\n",
    "df_art = spark.read.format('delta').load(f'{path_silver}articulos')"
   ]
  },
  {
   "cell_type": "code",
   "execution_count": 0,
   "metadata": {
    "application/vnd.databricks.v1+cell": {
     "cellMetadata": {
      "byteLimit": 2048000,
      "rowLimit": 10000
     },
     "inputWidgets": {},
     "nuid": "d151632f-7ef0-4427-9884-93aafe329b26",
     "showTitle": false,
     "tableResultSettingsMap": {},
     "title": ""
    }
   },
   "outputs": [
    {
     "output_type": "stream",
     "name": "stdout",
     "output_type": "stream",
     "text": [
      "root\n |-- id: string (nullable = true)\n |-- name: string (nullable = true)\n |-- preis1: double (nullable = true)\n |-- preis2: double (nullable = true)\n |-- preis3: double (nullable = true)\n |-- ean: integer (nullable = true)\n |-- wgr: integer (nullable = true)\n |-- processing_date: date (nullable = true)\n\n"
     ]
    }
   ],
   "source": [
    "df_art.printSchema()"
   ]
  },
  {
   "cell_type": "code",
   "execution_count": 0,
   "metadata": {
    "application/vnd.databricks.v1+cell": {
     "cellMetadata": {
      "byteLimit": 2048000,
      "rowLimit": 10000
     },
     "inputWidgets": {},
     "nuid": "61877c9e-ae83-4543-8fdd-e3e7a110d33b",
     "showTitle": false,
     "tableResultSettingsMap": {},
     "title": ""
    }
   },
   "outputs": [],
   "source": [
    "bebidas = df_art.filter(df_art.wgr.isin(1, 2, 3, 4)).select('name')"
   ]
  },
  {
   "cell_type": "code",
   "execution_count": 0,
   "metadata": {
    "application/vnd.databricks.v1+cell": {
     "cellMetadata": {
      "byteLimit": 2048000,
      "rowLimit": 10000
     },
     "inputWidgets": {},
     "nuid": "056656a6-4855-4f6f-a6a9-c9deac03b99c",
     "showTitle": false,
     "tableResultSettingsMap": {},
     "title": ""
    }
   },
   "outputs": [],
   "source": [
    "comida = df_art.filter(df_art.wgr.isin(7, 8, 9)).select('name')"
   ]
  },
  {
   "cell_type": "code",
   "execution_count": 0,
   "metadata": {
    "application/vnd.databricks.v1+cell": {
     "cellMetadata": {
      "byteLimit": 2048000,
      "rowLimit": 10000
     },
     "inputWidgets": {},
     "nuid": "265c0c35-4aff-4340-aa87-234dcd1d5472",
     "showTitle": false,
     "tableResultSettingsMap": {},
     "title": ""
    }
   },
   "outputs": [],
   "source": [
    "lista_bebidas = [bebida.name for bebida in bebidas.collect()][:-1]"
   ]
  },
  {
   "cell_type": "code",
   "execution_count": 0,
   "metadata": {
    "application/vnd.databricks.v1+cell": {
     "cellMetadata": {
      "byteLimit": 2048000,
      "rowLimit": 10000
     },
     "inputWidgets": {},
     "nuid": "a93c4f7d-a339-4471-bc07-dd217e4d3d57",
     "showTitle": false,
     "tableResultSettingsMap": {},
     "title": ""
    }
   },
   "outputs": [],
   "source": [
    "lista_comidas = [plato.name for plato in comida.collect()]"
   ]
  },
  {
   "cell_type": "code",
   "execution_count": 0,
   "metadata": {
    "application/vnd.databricks.v1+cell": {
     "cellMetadata": {
      "byteLimit": 2048000,
      "rowLimit": 10000
     },
     "inputWidgets": {},
     "nuid": "413b106e-8636-46c2-a790-6dc61b63280f",
     "showTitle": false,
     "tableResultSettingsMap": {},
     "title": ""
    }
   },
   "outputs": [],
   "source": [
    "class OrdenPuerta(BaseProvider):\n",
    "    def comida(self,lista_comidas):\n",
    "        return random.choice(lista_comidas) \n",
    "    def bebida(self, lista_bebidas):\n",
    "        return random.choice(lista_bebidas)\n",
    "    def mesa_cliente(self):\n",
    "        mesas = [102, 103, 104, 105, 106, 107, 108, 201, 202, 203, 204, 300, 301, 302, 303, 301, 402, 403, 404, 405, 501, 502, 503, 504, 505, 3, 6]\n",
    "        return random.choice(mesas)\n",
    "    def produce_msg(self,FakerInstance, ordercount=1, max_com = 15, max_beb = 5):\n",
    "        platos= []\n",
    "        for plato in range(random.randint(1,max_com)):\n",
    "            platos.append(FakerInstance.comida(lista_comidas))\n",
    "        bebidas = []\n",
    "        for drink in range(random.randint(1,max_beb)):\n",
    "            bebidas.append(FakerInstance.bebida(lista_bebidas))\n",
    "        mesa = FakerInstance.mesa_cliente()\n",
    "        value = {\n",
    "            \"id\": ordercount,\n",
    "            \"mesa\": mesa,\n",
    "            \"comida\": platos,\n",
    "            \"bebida\": bebidas,\n",
    "            \"timestamp\": int(time.time() * 1000)\n",
    "        }\n",
    "        key = str(mesa)\n",
    "        return key, value"
   ]
  },
  {
   "cell_type": "code",
   "execution_count": 0,
   "metadata": {
    "application/vnd.databricks.v1+cell": {
     "cellMetadata": {
      "byteLimit": 2048000,
      "rowLimit": 10000
     },
     "inputWidgets": {},
     "nuid": "38c5df29-dbd8-4d9f-9d20-284b91da7132",
     "showTitle": false,
     "tableResultSettingsMap": {},
     "title": ""
    }
   },
   "outputs": [],
   "source": [
    "producer = Producer(conf) \n",
    "fake = Faker()\n",
    "fake.add_provider(OrdenPuerta)\n",
    "MAX_PLATOS_EN_COMANDA = 15\n",
    "MAX_BEBIDAS_EN_COMANDA = 5\n",
    "MAX_COMANDAS = 120"
   ]
  },
  {
   "cell_type": "code",
   "execution_count": 0,
   "metadata": {
    "application/vnd.databricks.v1+cell": {
     "cellMetadata": {
      "byteLimit": 2048000,
      "rowLimit": 10000
     },
     "inputWidgets": {},
     "nuid": "eacf3a0a-aa56-4a7e-9531-6025a35b60b5",
     "showTitle": false,
     "tableResultSettingsMap": {},
     "title": ""
    }
   },
   "outputs": [
    {
     "output_type": "stream",
     "name": "stderr",
     "output_type": "stream",
     "text": [
      "%6|1757589349.634|GETSUBSCRIPTIONS|rdkafka#producer-3| [thrd:main]: Telemetry client instance id changed from AAAAAAAAAAAAAAAAAAAAAA to CD7/GQpLQ5+ElABA/kjtJw\n"
     ]
    },
    {
     "output_type": "stream",
     "name": "stdout",
     "output_type": "stream",
     "text": [
      "comanda 1 pedida\nen pausa durante...0.8811s\ncomanda 2 pedida\nen pausa durante...0.1031s\ncomanda 3 pedida\nen pausa durante...0.316s\ncomanda 4 pedida\nen pausa durante...0.212s\ncomanda 5 pedida\nen pausa durante...0.2372s\ncomanda 6 pedida\nen pausa durante...0.3814s\ncomanda 7 pedida\nen pausa durante...0.5081s\ncomanda 8 pedida\nen pausa durante...0.9449s\ncomanda 9 pedida\nen pausa durante...0.4282s\ncomanda 10 pedida\nen pausa durante...0.8898s\ncomanda 11 pedida\nen pausa durante...0.32s\ncomanda 12 pedida\nen pausa durante...0.1054s\ncomanda 13 pedida\nen pausa durante...0.3302s\ncomanda 14 pedida\nen pausa durante...0.1833s\ncomanda 15 pedida\nen pausa durante...0.8076s\ncomanda 16 pedida\nen pausa durante...0.9115s\ncomanda 17 pedida\nen pausa durante...0.1752s\ncomanda 18 pedida\nen pausa durante...0.6928s\ncomanda 19 pedida\nen pausa durante...0.0768s\ncomanda 20 pedida\nen pausa durante...0.0157s\ncomanda 21 pedida\nen pausa durante...0.6646s\ncomanda 22 pedida\nen pausa durante...0.7705s\ncomanda 23 pedida\nen pausa durante...0.4181s\ncomanda 24 pedida\nen pausa durante...0.1083s\ncomanda 25 pedida\nen pausa durante...0.5637s\ncomanda 26 pedida\nen pausa durante...0.0849s\ncomanda 27 pedida\nen pausa durante...0.407s\ncomanda 28 pedida\nen pausa durante...0.4615s\ncomanda 29 pedida\nen pausa durante...0.1905s\ncomanda 30 pedida\nen pausa durante...0.8047s\ncomanda 31 pedida\nen pausa durante...0.1398s\ncomanda 32 pedida\nen pausa durante...0.2268s\ncomanda 33 pedida\nen pausa durante...0.7377s\ncomanda 34 pedida\nen pausa durante...0.4473s\ncomanda 35 pedida\nen pausa durante...0.2646s\ncomanda 36 pedida\nen pausa durante...0.8894s\ncomanda 37 pedida\nen pausa durante...0.2398s\ncomanda 38 pedida\nen pausa durante...0.6354s\ncomanda 39 pedida\nen pausa durante...0.7229s\ncomanda 40 pedida\nen pausa durante...0.7718s\ncomanda 41 pedida\nen pausa durante...0.9257s\ncomanda 42 pedida\nen pausa durante...0.6479s\ncomanda 43 pedida\nen pausa durante...0.3514s\ncomanda 44 pedida\nen pausa durante...0.213s\ncomanda 45 pedida\nen pausa durante...0.2404s\ncomanda 46 pedida\nen pausa durante...0.8025s\ncomanda 47 pedida\nen pausa durante...0.4397s\ncomanda 48 pedida\nen pausa durante...0.5549s\ncomanda 49 pedida\nen pausa durante...0.8777s\ncomanda 50 pedida\nen pausa durante...0.4592s\ncomanda 51 pedida\nen pausa durante...0.0417s\ncomanda 52 pedida\nen pausa durante...0.2868s\ncomanda 53 pedida\nen pausa durante...0.6694s\ncomanda 54 pedida\nen pausa durante...0.8433s\ncomanda 55 pedida\nen pausa durante...0.3776s\ncomanda 56 pedida\nen pausa durante...0.9403s\ncomanda 57 pedida\nen pausa durante...0.5602s\ncomanda 58 pedida\nen pausa durante...0.8108s\ncomanda 59 pedida\nen pausa durante...0.9609s\ncomanda 60 pedida\nen pausa durante...0.9039s\ncomanda 61 pedida\nen pausa durante...0.3775s\ncomanda 62 pedida\nen pausa durante...0.0122s\ncomanda 63 pedida\nen pausa durante...0.2772s\ncomanda 64 pedida\nen pausa durante...0.2333s\ncomanda 65 pedida\nen pausa durante...0.2593s\ncomanda 66 pedida\nen pausa durante...0.7759s\ncomanda 67 pedida\nen pausa durante...0.9918s\ncomanda 68 pedida\nen pausa durante...0.6678s\ncomanda 69 pedida\nen pausa durante...0.5142s\ncomanda 70 pedida\nen pausa durante...0.798s\ncomanda 71 pedida\nen pausa durante...0.5726s\ncomanda 72 pedida\nen pausa durante...0.0917s\ncomanda 73 pedida\nen pausa durante...0.0648s\ncomanda 74 pedida\nen pausa durante...0.8042s\ncomanda 75 pedida\nen pausa durante...0.2227s\ncomanda 76 pedida\nen pausa durante...0.1318s\ncomanda 77 pedida\nen pausa durante...0.3537s\ncomanda 78 pedida\nen pausa durante...0.115s\ncomanda 79 pedida\nen pausa durante...0.9164s\ncomanda 80 pedida\nen pausa durante...0.0814s\ncomanda 81 pedida\nen pausa durante...0.3171s\ncomanda 82 pedida\nen pausa durante...0.8981s\ncomanda 83 pedida\nen pausa durante...0.7801s\ncomanda 84 pedida\nen pausa durante...0.0813s\ncomanda 85 pedida\nen pausa durante...0.6925s\ncomanda 86 pedida\nen pausa durante...0.42s\ncomanda 87 pedida\nen pausa durante...0.2682s\ncomanda 88 pedida\nen pausa durante...0.6991s\ncomanda 89 pedida\nen pausa durante...0.8864s\ncomanda 90 pedida\nen pausa durante...0.7721s\ncomanda 91 pedida\nen pausa durante...0.086s\ncomanda 92 pedida\nen pausa durante...0.6895s\ncomanda 93 pedida\nen pausa durante...0.2108s\ncomanda 94 pedida\nen pausa durante...0.6206s\ncomanda 95 pedida\nen pausa durante...0.4948s\ncomanda 96 pedida\nen pausa durante...0.977s\ncomanda 97 pedida\nen pausa durante...0.891s\ncomanda 98 pedida\nen pausa durante...0.6153s\ncomanda 99 pedida\nen pausa durante...0.0731s\ncomanda 100 pedida\nen pausa durante...0.5s\ncomanda 101 pedida\nen pausa durante...0.9352s\ncomanda 102 pedida\nen pausa durante...0.162s\ncomanda 103 pedida\nen pausa durante...0.1723s\ncomanda 104 pedida\nen pausa durante...0.9091s\ncomanda 105 pedida\nen pausa durante...0.6847s\ncomanda 106 pedida\nen pausa durante...0.044s\ncomanda 107 pedida\nen pausa durante...0.6818s\ncomanda 108 pedida\nen pausa durante...0.1809s\ncomanda 109 pedida\nen pausa durante...0.0043s\ncomanda 110 pedida\nen pausa durante...0.2918s\ncomanda 111 pedida\nen pausa durante...0.3584s\ncomanda 112 pedida\nen pausa durante...0.0645s\ncomanda 113 pedida\nen pausa durante...0.0188s\ncomanda 114 pedida\nen pausa durante...0.6611s\ncomanda 115 pedida\nen pausa durante...0.2077s\ncomanda 116 pedida\nen pausa durante...0.2762s\ncomanda 117 pedida\nen pausa durante...0.0043s\ncomanda 118 pedida\nen pausa durante...0.5979s\ncomanda 119 pedida\nen pausa durante...0.7375s\ncomanda 120 pedida\nen pausa durante...0.6564s\n"
     ]
    }
   ],
   "source": [
    "for i in range(MAX_COMANDAS):\n",
    "    key,value = fake.produce_msg(\n",
    "                    fake,\n",
    "                    i+1,\n",
    "                    MAX_PLATOS_EN_COMANDA,\n",
    "                    MAX_BEBIDAS_EN_COMANDA,\n",
    "                )\n",
    "    producer.produce(topic=topic, key=key, value=json.dumps(value))\n",
    "    producer.flush()\n",
    "    print(f\"comanda {i+1} pedida\")\n",
    "    # sleeping time\n",
    "    sleep_time = (\n",
    "        random.randint(0, int(1 * 10000)) / 10000\n",
    "    )\n",
    "    print(\"en pausa durante...\" + str(sleep_time) + \"s\")\n",
    "    time.sleep(sleep_time)"
   ]
  }
 ],
 "metadata": {
  "application/vnd.databricks.v1+notebook": {
   "computePreferences": null,
   "dashboards": [],
   "environmentMetadata": {
    "base_environment": "",
    "environment_version": "3"
   },
   "inputWidgetPreferences": null,
   "language": "python",
   "notebookMetadata": {
    "pythonIndentUnit": 4
   },
   "notebookName": "Confluent",
   "widgets": {}
  },
  "language_info": {
   "name": "python"
  }
 },
 "nbformat": 4,
 "nbformat_minor": 0
}