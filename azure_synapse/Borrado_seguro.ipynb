{
  "cells": [
    {
      "cell_type": "code",
      "execution_count": 2,
      "metadata": {},
      "outputs": [],
      "source": [
        "from azure.storage.blob import BlobServiceClient\n",
        "import os"
      ]
    },
    {
      "cell_type": "code",
      "execution_count": 3,
      "metadata": {},
      "outputs": [],
      "source": [
        "account_name = 'bs0tfm'\n",
        "container_name = 'landing'\n",
        "carpeta_original = 'unprocessed/'\n",
        "carpeta_procesada = 'processed/'"
      ]
    },
    {
      "cell_type": "code",
      "execution_count": null,
      "metadata": {},
      "outputs": [],
      "source": [
        "account_url = f\"https://{account_name}.blob.core.windows.net\"\n",
        "# Mala práctica, pero no consigo habilitar el acceso a la identidad administrada desde el pool de spark\n",
        "connection_string = 'borrado'\n",
        "blob_service_client = BlobServiceClient.from_connection_string(connection_string)\n",
        "container_client = blob_service_client.get_container_client(container_name)"
      ]
    },
    {
      "cell_type": "code",
      "execution_count": 8,
      "metadata": {},
      "outputs": [],
      "source": [
        "original_files = []\n",
        "for blob in container_client.list_blobs(name_starts_with=carpeta_original):\n",
        "    original_files.append(blob.name)\n",
        "processed_files = []\n",
        "for blob in container_client.list_blobs(name_starts_with=carpeta_procesada):\n",
        "    processed_files.append(os.path.basename(blob.name))\n",
        "for file in original_files:\n",
        "    if os.path.basename(file) in processed_files:\n",
        "        blob_a_borrar = container_client.get_blob_client(blob = file)\n",
        "        blob_a_borrar.delete_blob()"
      ]
    }
  ],
  "metadata": {
    "description": null,
    "language_info": {
      "name": "python"
    },
    "save_output": true
  },
  "nbformat": 4,
  "nbformat_minor": 2
}
