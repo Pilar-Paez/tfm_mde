{
  "cells": [
    {
      "cell_type": "code",
      "execution_count": 8,
      "metadata": {},
      "outputs": [],
      "source": [
        "from azure.storage.blob import BlobServiceClient\n",
        "import pandas as pd\n",
        "from io import BytesIO\n",
        "import os"
      ]
    },
    {
      "cell_type": "code",
      "execution_count": 2,
      "metadata": {},
      "outputs": [],
      "source": [
        "account_name = 'bs0tfm'\n",
        "container_name = 'landing'\n",
        "folder_prefix = 'unprocessed/input/'\n",
        "carpeta_destino = 'unprocessed/auxiliar/'\n",
        "carpeta_procesada = 'processed/'"
      ]
    },
    {
      "cell_type": "code",
      "execution_count": 3,
      "metadata": {},
      "outputs": [],
      "source": [
        "account_url = f\"https://{account_name}.blob.core.windows.net\""
      ]
    },
    {
      "cell_type": "code",
      "execution_count": null,
      "metadata": {},
      "outputs": [],
      "source": [
        "# Mala práctica, pero no consigo habilitar el acceso a la identidad administrada desde el pool de spark\n",
        "connection_string = 'borrado'"
      ]
    },
    {
      "cell_type": "code",
      "execution_count": 5,
      "metadata": {},
      "outputs": [],
      "source": [
        "blob_service_client = BlobServiceClient.from_connection_string(connection_string)\n",
        "container_client = blob_service_client.get_container_client(container_name)"
      ]
    },
    {
      "cell_type": "code",
      "execution_count": 6,
      "metadata": {},
      "outputs": [],
      "source": [
        "excel_files = []\n",
        "\n",
        "for blob in container_client.list_blobs(name_starts_with=folder_prefix):\n",
        "    if (blob.name.endswith('xlsx')) or (blob.name.endswith('xls')):\n",
        "            excel_files.append(blob.name)"
      ]
    },
    {
      "cell_type": "code",
      "execution_count": 7,
      "metadata": {},
      "outputs": [],
      "source": [
        "excel_files"
      ]
    },
    {
      "cell_type": "code",
      "execution_count": 21,
      "metadata": {},
      "outputs": [],
      "source": [
        "for file in excel_files:\n",
        "    excel_blob = container_client.download_blob(file)\n",
        "    excel_bytes = BytesIO(excel_blob.readall()) # readall es para leer todos los datos, no tiene nada que ver con las sheets\n",
        "    # Por ahora, el que estemos con un excel no nos afecta en nada, claro\n",
        "    xls = pd.ExcelFile(excel_bytes)\n",
        "    hojas = xls.sheet_names\n",
        "    solo_name = os.path.basename(file)\n",
        "\n",
        "    for hoja in hojas:\n",
        "        df = xls.parse(sheet_name = hoja)\n",
        "        csv_bytes = df.to_csv(index = False).encode('utf-8')\n",
        "        csv_name = f'{carpeta_destino}{solo_name}_{hoja}.csv'\n",
        "        container_client.upload_blob(name = csv_name, data = BytesIO(csv_bytes), overwrite = True)\n",
        "    copia_name = f'{carpeta_procesada}{solo_name}'\n",
        "    #original_name = f'{folder_prefix}{file}'\n",
        "    container_client.upload_blob(name = copia_name, data = excel_bytes, overwrite = True)\n",
        "    #processed_files = []\n",
        "    #for copia in container_client.list_blobs(name_starts_with=carpeta_procesada):\n",
        "    #    processed_files.append(copia.name)\n",
        "    #if copia_name in processed_files:\n",
        "    #    blob_a_borrar = container_client.get_blob_client(blob = file)\n",
        "    #    blob_a_borrar.delete_blob()"
      ]
    }
  ],
  "metadata": {
    "description": null,
    "language_info": {
      "name": "python"
    },
    "save_output": true
  },
  "nbformat": 4,
  "nbformat_minor": 2
}
